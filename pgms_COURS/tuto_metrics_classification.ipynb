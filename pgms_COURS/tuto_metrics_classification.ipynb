{
 "cells": [
  {
   "cell_type": "markdown",
   "metadata": {},
   "source": [
    "# Tutoriel Soft Computing - Comprendre les métrices de classification supervisée\n",
    "## Créons un jeu de données de personnes enceintes (y=1) et d'autres non (y=0)\n",
    "## Imaginons que nous avons fait un modèle (y_score) et que nous avons obtenu une prédiction (y_pred) à un seuil de proba défini à 0.2\n",
    "## Damien GARROUSTE 2019"
   ]
  },
  {
   "cell_type": "code",
   "execution_count": 1,
   "metadata": {},
   "outputs": [
    {
     "name": "stderr",
     "output_type": "stream",
     "text": [
      "C:\\Users\\dgr\\AppData\\Local\\Continuum\\anaconda3\\lib\\site-packages\\ipykernel\\parentpoller.py:116: UserWarning: Parent poll failed.  If the frontend dies,\n",
      "                the kernel may be left running.  Please let us know\n",
      "                about your system (bitness, Python, etc.) at\n",
      "                ipython-dev@scipy.org\n",
      "  ipython-dev@scipy.org\"\"\")\n"
     ]
    }
   ],
   "source": [
    "# créer le jeu de données avec 20% de pregnants et 80% de non pregnants + prédiction avec plus de pregnat prédits ()\n",
    "\n",
    "import numpy as np\n",
    "# créer 45 non pregnant\n",
    "lval0=list(np.repeat(0,40))\n",
    "# créer 10 pregnant (20%)\n",
    "lval1=list(np.repeat(1,10))\n",
    "lscore0=list(np.repeat(0.05,40))\n",
    "lscore1=list(np.repeat(0.7,10))\n",
    "#l[0:2]\n",
    "# on concatene les 50 + 10 erreurs on rajoute quelques erreurs fp et fn mais avec une majorité de faux positifs (des 0  classés 1)\n",
    "# on passe en numpy array pour faire des calculs\n",
    "y_true = np.array(lval0+lval1+[0,0,1,0,0,0,0,0,0,0])\n",
    "# probas en se basant sur un cutoff à 0.2\n",
    "y_score = np.array(lscore0+lscore1+[0.35, 0.24, 0.08, 0.7,0.25,0.29,0.7,0.6,0.4,0.32])\n",
    "y_pred = np.array(lval0+lval1+[0,1,0,1,1,1,1,1,1,1 ])"
   ]
  },
  {
   "cell_type": "code",
   "execution_count": 2,
   "metadata": {},
   "outputs": [
    {
     "name": "stdout",
     "output_type": "stream",
     "text": [
      "60 60 60\n",
      "0.18333333333333332 0.3\n"
     ]
    }
   ],
   "source": [
    "# nombre d'individus\n",
    "print(len(y_true),len(y_pred),len(y_score))\n",
    "# moyenne de la cible obs et prédite : on prédit plus de 1 !\n",
    "print(y_true.mean(),y_pred.mean())"
   ]
  },
  {
   "cell_type": "code",
   "execution_count": 3,
   "metadata": {},
   "outputs": [
    {
     "name": "stdout",
     "output_type": "stream",
     "text": [
      "col_0   0   1\n",
      "row_0        \n",
      "0      41   8\n",
      "1       1  10\n",
      "col_0         0         1\n",
      "row_0                    \n",
      "0      0.836735  0.163265\n",
      "1      0.090909  0.909091\n"
     ]
    }
   ],
   "source": [
    "# matrice de confusion manuelle\n",
    "import pandas as pd\n",
    "print(pd.crosstab(np.array(y_true),np.array(y_pred)))\n",
    "print(pd.crosstab(np.array(y_true),np.array(y_pred), normalize='index'))\n",
    "# on prédit 18 pregnants sur 60 soit 30% alors qu'il y a 20% dans la base de connaissance\n",
    "# le modèle donc tend à créer des faux positifs "
   ]
  },
  {
   "cell_type": "code",
   "execution_count": 4,
   "metadata": {},
   "outputs": [
    {
     "data": {
      "text/plain": [
       "array([[41,  8],\n",
       "       [ 1, 10]], dtype=int64)"
      ]
     },
     "execution_count": 4,
     "metadata": {},
     "output_type": "execute_result"
    }
   ],
   "source": [
    "# matrice de confusion\n",
    "from sklearn.metrics import confusion_matrix\n",
    "confusion_matrix(y_true, y_pred)"
   ]
  },
  {
   "cell_type": "code",
   "execution_count": 5,
   "metadata": {},
   "outputs": [],
   "source": [
    "#extraire les valeurs \n",
    "tn, fp, fn, tp = confusion_matrix([0, 1, 0, 1], [1, 1, 1, 0]).ravel()"
   ]
  },
  {
   "cell_type": "code",
   "execution_count": 12,
   "metadata": {},
   "outputs": [
    {
     "name": "stdout",
     "output_type": "stream",
     "text": [
      "[[41  8]\n",
      " [ 1 10]]\n",
      "[[0.84 0.16]\n",
      " [0.09 0.91]]\n"
     ]
    },
    {
     "data": {
      "text/plain": [
       "<matplotlib.axes._subplots.AxesSubplot at 0x1d48626de48>"
      ]
     },
     "execution_count": 12,
     "metadata": {},
     "output_type": "execute_result"
    },
    {
     "data": {
      "image/png": "[encoded data removed]",
      "text/plain": [
       "<Figure size 432x288 with 2 Axes>"
      ]
     },
     "metadata": {
      "needs_background": "light"
     },
     "output_type": "display_data"
    }
   ],
   "source": [
    "# répresenter la matrice de confusion\n",
    "\n",
    "import numpy as np\n",
    "import matplotlib.pyplot as plt\n",
    "def plot_confusion_matrix(y_true, y_pred, classes,                       \n",
    "                          title=None,\n",
    "                          cmap=plt.cm.Blues):\n",
    "   \n",
    "    # Compute confusion matrix\n",
    "    cm = confusion_matrix(y_true, y_pred)\n",
    "    # Only use the labels that appear in the data\n",
    "    print(cm)\n",
    "    cm = cm.astype('float') / cm.sum(axis=1)[:, np.newaxis]\n",
    "    print(cm)\n",
    "\n",
    "    fig, ax = plt.subplots()\n",
    "    im = ax.imshow(cm, interpolation='nearest', cmap=cmap)\n",
    "    ax.figure.colorbar(im, ax=ax)\n",
    "    # We want to show all ticks...\n",
    "    ax.set(xticks=np.arange(cm.shape[1]),\n",
    "           yticks=np.arange(cm.shape[0]),\n",
    "           # ... and label them with the respective list entries\n",
    "           xticklabels=classes, yticklabels=classes,\n",
    "           title=title,\n",
    "           ylabel='Variable cible observé',\n",
    "           xlabel='Variable cible prédite')\n",
    "\n",
    "    # Rotate the tick labels and set their alignment.\n",
    "    plt.setp(ax.get_xticklabels(), rotation=45, ha=\"right\",\n",
    "             rotation_mode=\"anchor\")\n",
    "\n",
    "    # Loop over data dimensions and create text annotations.\n",
    "    fmt = '.2f'\n",
    "    thresh = cm.max() / 2.\n",
    "    for i in range(cm.shape[0]):\n",
    "        for j in range(cm.shape[1]):\n",
    "            ax.text(j, i, format(cm[i, j], fmt),\n",
    "                    ha=\"center\", va=\"center\",\n",
    "                    color=\"white\" if cm[i, j] > thresh else \"black\")\n",
    "    fig.tight_layout()\n",
    "    return ax\n",
    "\n",
    "\n",
    "np.set_printoptions(precision=2)\n",
    "\n",
    "\n",
    "# Plot normalized confusion matrix\n",
    "plot_confusion_matrix(y_true, y_pred, classes=[\"non pregnant\",\"pregnant\"], \n",
    "                      title='Matrice de confusion')"
   ]
  },
  {
   "cell_type": "markdown",
   "metadata": {},
   "source": [
    "## métrics basés sur un cutoff : la métrique est calculable si le modèle a déjà pris une décision (au dela d'un cutoff je prédis 1)"
   ]
  },
  {
   "cell_type": "code",
   "execution_count": 11,
   "metadata": {},
   "outputs": [
    {
     "name": "stdout",
     "output_type": "stream",
     "text": [
      "f1 0.6896551724137931 recall 0.9090909090909091 accuracy 0.85\n"
     ]
    }
   ],
   "source": [
    "\n",
    "# dans y_pred il doit y avoir 0/1 pas une proba\n",
    "from sklearn.metrics import f1_score,recall_score,log_loss,accuracy_score, precision_score\n",
    "print(\"f1\",f1_score(y_true, y_pred, average='binary') ,\"recall\",recall_score(y_true, y_pred) ,\"accuracy\",accuracy_score(y_true, y_pred) )"
   ]
  },
  {
   "cell_type": "markdown",
   "metadata": {},
   "source": [
    "## métrics quantités qui ne dépendent pas d'un cutoff : la métrique est calculable à partir des probas/scores"
   ]
  },
  {
   "cell_type": "code",
   "execution_count": 9,
   "metadata": {},
   "outputs": [
    {
     "data": {
      "text/plain": [
       "0.22833877412490627"
      ]
     },
     "execution_count": 9,
     "metadata": {},
     "output_type": "execute_result"
    }
   ],
   "source": [
    "#Log loss, aka logistic loss or cross-entropy loss.\n",
    "#This is the loss function used in (multinomial) logistic regression and extensions of it such as neural networks, defined as the negative log-likelihood of the true labels given a probabilistic classifier’s predictions. \n",
    "#The log loss is only defined for two or more labels. For a single sample with true label yt in {0,1} and estimated probability yp that yt = 1, the log loss is\n",
    "\n",
    "# on met les probas\n",
    "log_loss(y_true,y_score)"
   ]
  },
  {
   "cell_type": "code",
   "execution_count": null,
   "metadata": {},
   "outputs": [],
   "source": [
    "accuracy_score(y_true,y_pred)"
   ]
  },
  {
   "cell_type": "code",
   "execution_count": 86,
   "metadata": {},
   "outputs": [
    {
     "data": {
      "text/plain": [
       "0.9647495361781077"
      ]
     },
     "execution_count": 86,
     "metadata": {},
     "output_type": "execute_result"
    }
   ],
   "source": [
    "# métrics non basés surun cut off\n",
    "from sklearn.metrics import roc_auc_score,roc_curve,average_precision_score\n",
    "\n",
    "\n",
    "# AUC\n",
    "roc_auc_score(y_true,y_score)"
   ]
  },
  {
   "cell_type": "code",
   "execution_count": 87,
   "metadata": {},
   "outputs": [
    {
     "data": {
      "text/plain": [
       "0.8075757575757576"
      ]
     },
     "execution_count": 87,
     "metadata": {},
     "output_type": "execute_result"
    }
   ],
   "source": [
    "# a precision-recall curve as the weighted mean of precisions achieved at each threshold,\n",
    "average_precision_score(y_true,y_score)"
   ]
  },
  {
   "cell_type": "code",
   "execution_count": 14,
   "metadata": {},
   "outputs": [],
   "source": [
    "# arnre de décision visualiser\n",
    "\n",
    "from sklearn.datasets import load_iris\n",
    "from sklearn import tree\n",
    "\n",
    "clf = tree.DecisionTreeClassifier()\n",
    "iris = load_iris()"
   ]
  },
  {
   "cell_type": "code",
   "execution_count": 15,
   "metadata": {},
   "outputs": [],
   "source": [
    "clf = clf.fit(iris.data, iris.target)\n",
    "tree.export_graphviz(clf,out_file='tree.dot')  "
   ]
  },
  {
   "cell_type": "code",
   "execution_count": null,
   "metadata": {},
   "outputs": [],
   "source": []
  }
 ],
 "metadata": {
  "kernelspec": {
   "display_name": "Python 3",
   "language": "python",
   "name": "python3"
  },
  "language_info": {
   "codemirror_mode": {
    "name": "ipython",
    "version": 3
   },
   "file_extension": ".py",
   "mimetype": "text/x-python",
   "name": "python",
   "nbconvert_exporter": "python",
   "pygments_lexer": "ipython3",
   "version": "3.7.0"
  }
 },
 "nbformat": 4,
 "nbformat_minor": 2
}
