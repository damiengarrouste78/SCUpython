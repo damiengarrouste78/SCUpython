{
 "cells": [
  {
   "cell_type": "markdown",
   "metadata": {},
   "source": [
    "# Fonc\n"
   ]
  },
  {
   "cell_type": "code",
   "execution_count": 59,
   "metadata": {},
   "outputs": [],
   "source": [
    "# créons un vecteur de données numérique en objet array\n",
    "import numpy as np\n",
    "Matrice = np.array(range(10))"
   ]
  },
  {
   "cell_type": "code",
   "execution_count": 65,
   "metadata": {},
   "outputs": [],
   "source": [
    "# créons une fonction qui standardise un vecteur (type 1darray) : centrer et réduire (soustraire la moyenne et diviser par l'écart type)\n",
    "# x doit etreu un np.array car on applique dessus np.mean ...\n",
    "def standardisation(x): \n",
    "        x-=np.mean(x) # the -= means can be read as x = x- np.mean(x)\n",
    "        x/=np.std(x)\n",
    "        return x"
   ]
  },
  {
   "cell_type": "code",
   "execution_count": 60,
   "metadata": {},
   "outputs": [
    {
     "data": {
      "text/plain": [
       "array([0., 1., 2., 3., 4., 5., 6., 7., 8., 9.])"
      ]
     },
     "execution_count": 60,
     "metadata": {},
     "output_type": "execute_result"
    }
   ],
   "source": [
    "# appliquons la fonction standardisation, attention aux types des données\n",
    "Matrice.astype(float)"
   ]
  },
  {
   "cell_type": "code",
   "execution_count": 63,
   "metadata": {},
   "outputs": [
    {
     "data": {
      "text/plain": [
       "array([-1.5666989 , -1.21854359, -0.87038828, -0.52223297, -0.17407766,\n",
       "        0.17407766,  0.52223297,  0.87038828,  1.21854359,  1.5666989 ])"
      ]
     },
     "execution_count": 63,
     "metadata": {},
     "output_type": "execute_result"
    }
   ],
   "source": [
    "standardisation(Matrice.astype(float))"
   ]
  },
  {
   "cell_type": "code",
   "execution_count": 64,
   "metadata": {},
   "outputs": [
    {
     "ename": "TypeError",
     "evalue": "Cannot cast ufunc subtract output from dtype('float64') to dtype('int32') with casting rule 'same_kind'",
     "output_type": "error",
     "traceback": [
      "\u001b[1;31m---------------------------------------------------------------------------\u001b[0m",
      "\u001b[1;31mTypeError\u001b[0m                                 Traceback (most recent call last)",
      "\u001b[1;32m<ipython-input-64-04f8e7f105c0>\u001b[0m in \u001b[0;36m<module>\u001b[1;34m()\u001b[0m\n\u001b[0;32m      1\u001b[0m \u001b[1;31m# si on applique la fonction sur un array non float il y a un erreur\u001b[0m\u001b[1;33m\u001b[0m\u001b[1;33m\u001b[0m\u001b[0m\n\u001b[0;32m      2\u001b[0m \u001b[1;33m\u001b[0m\u001b[0m\n\u001b[1;32m----> 3\u001b[1;33m \u001b[0mstandardisation\u001b[0m\u001b[1;33m(\u001b[0m\u001b[0mMatrice\u001b[0m\u001b[1;33m)\u001b[0m\u001b[1;33m\u001b[0m\u001b[0m\n\u001b[0m",
      "\u001b[1;32m<ipython-input-62-e080f4d668fa>\u001b[0m in \u001b[0;36mstandardisation\u001b[1;34m(x)\u001b[0m\n\u001b[0;32m      1\u001b[0m \u001b[1;31m# créons une fonction qui standardise une colonne (1darray) : centrer et réduire (soustraire la moyenne et diviser par l'écart type)\u001b[0m\u001b[1;33m\u001b[0m\u001b[1;33m\u001b[0m\u001b[0m\n\u001b[0;32m      2\u001b[0m \u001b[1;32mdef\u001b[0m \u001b[0mstandardisation\u001b[0m\u001b[1;33m(\u001b[0m\u001b[0mx\u001b[0m\u001b[1;33m)\u001b[0m\u001b[1;33m:\u001b[0m\u001b[1;33m\u001b[0m\u001b[0m\n\u001b[1;32m----> 3\u001b[1;33m         \u001b[0mx\u001b[0m\u001b[1;33m-=\u001b[0m\u001b[0mnp\u001b[0m\u001b[1;33m.\u001b[0m\u001b[0mmean\u001b[0m\u001b[1;33m(\u001b[0m\u001b[0mx\u001b[0m\u001b[1;33m)\u001b[0m \u001b[1;31m# the -= means can be read as x = x- np.mean(x)\u001b[0m\u001b[1;33m\u001b[0m\u001b[0m\n\u001b[0m\u001b[0;32m      4\u001b[0m         \u001b[0mx\u001b[0m\u001b[1;33m/=\u001b[0m\u001b[0mnp\u001b[0m\u001b[1;33m.\u001b[0m\u001b[0mstd\u001b[0m\u001b[1;33m(\u001b[0m\u001b[0mx\u001b[0m\u001b[1;33m)\u001b[0m\u001b[1;33m\u001b[0m\u001b[0m\n\u001b[0;32m      5\u001b[0m         \u001b[1;32mreturn\u001b[0m \u001b[0mx\u001b[0m\u001b[1;33m\u001b[0m\u001b[0m\n",
      "\u001b[1;31mTypeError\u001b[0m: Cannot cast ufunc subtract output from dtype('float64') to dtype('int32') with casting rule 'same_kind'"
     ]
    }
   ],
   "source": [
    "# si on applique la fonction sur un array non float il y a un erreur\n",
    "\n",
    "standardisation(Matrice)"
   ]
  },
  {
   "cell_type": "code",
   "execution_count": 66,
   "metadata": {},
   "outputs": [],
   "source": [
    "# Introduire une gestion d'exception dans la fonction => try except\n",
    "def standardisation(x): \n",
    "    try:        \n",
    "        x-=np.mean(x) # the -= means can be read as x = x- np.mean(x)\n",
    "        x/=np.std(x)\n",
    "        return x\n",
    "    except TypeError:\n",
    "        print(\"le type des données n'est pas conforme (float attendu)\")"
   ]
  },
  {
   "cell_type": "code",
   "execution_count": 67,
   "metadata": {},
   "outputs": [
    {
     "name": "stdout",
     "output_type": "stream",
     "text": [
      "le type des données n'est pas float\n"
     ]
    }
   ],
   "source": [
    "standardisation(Matrice)"
   ]
  },
  {
   "cell_type": "code",
   "execution_count": 75,
   "metadata": {},
   "outputs": [
    {
     "name": "stdout",
     "output_type": "stream",
     "text": [
      "<class 'tuple'>\n",
      "2.5\n"
     ]
    }
   ],
   "source": [
    "# si matrice2 n'est pas un array mais un tuple\n",
    "# cela marche car np.mean fonctionne sur une liste de val numériques\n",
    "matrice2=(1,2,3,4)\n",
    "print(type(matrice2))\n",
    "standardisation(matrice2)\n",
    "print(np.mean(matrice2))"
   ]
  },
  {
   "cell_type": "markdown",
   "metadata": {},
   "source": [
    "## Lambda Function"
   ]
  },
  {
   "cell_type": "code",
   "execution_count": 77,
   "metadata": {},
   "outputs": [
    {
     "data": {
      "text/plain": [
       "<map at 0x22fa4a1cfd0>"
      ]
     },
     "execution_count": 77,
     "metadata": {},
     "output_type": "execute_result"
    }
   ],
   "source": [
    "# appliquons une lambda fonction pour mettre au carré les valeurs du vecteur numérique\n",
    "# utilise la lambda func pour à tout x renvoyer f(x)=x²\n",
    "# map applique une fonction à un iterable, ici le tuple numbers\n",
    "map(lambda x :x**2,Matrice)"
   ]
  },
  {
   "cell_type": "code",
   "execution_count": 93,
   "metadata": {},
   "outputs": [
    {
     "name": "stdout",
     "output_type": "stream",
     "text": [
      "[False, True, False, False, False, False, False, False, False, False]\n"
     ]
    },
    {
     "data": {
      "text/plain": [
       "9"
      ]
     },
     "execution_count": 93,
     "metadata": {},
     "output_type": "execute_result"
    }
   ],
   "source": [
    "# fonction qui test esi un element vaut 1\n",
    "result= list(map(lambda x: x==1.00, Matrice))\n",
    "print(result)\n",
    "result.count(False)"
   ]
  },
  {
   "cell_type": "code",
   "execution_count": null,
   "metadata": {},
   "outputs": [],
   "source": [
    "#python ne sait pas représenter l'instance donc il faut la transformer\n",
    "list(map(lambda x :x**2,Matrice))"
   ]
  },
  {
   "cell_type": "code",
   "execution_count": null,
   "metadata": {},
   "outputs": [],
   "source": [
    "# Créer une fonction qui retourne l'aire d'un triangle et l'appliquer pour un triangle de base 2 et de hauteur 3\n",
    "f = lambda base, hauteur : (base*hauteur)/2\n",
    "f(base = 2,hauteur = 3)"
   ]
  },
  {
   "cell_type": "markdown",
   "metadata": {},
   "source": [
    "## COMPLEMENT MODULE DE FONCTIONS"
   ]
  },
  {
   "cell_type": "code",
   "execution_count": 14,
   "metadata": {},
   "outputs": [
    {
     "data": {
      "text/plain": [
       "['',\n",
       " 'C:\\\\Users\\\\dgr\\\\Documents\\\\Formations\\\\SCU Python\\\\NEW\\\\Jupyter',\n",
       " 'C:\\\\Users\\\\dgr\\\\AppData\\\\Local\\\\Continuum\\\\anaconda3\\\\python37.zip',\n",
       " 'C:\\\\Users\\\\dgr\\\\AppData\\\\Local\\\\Continuum\\\\anaconda3\\\\DLLs',\n",
       " 'C:\\\\Users\\\\dgr\\\\AppData\\\\Local\\\\Continuum\\\\anaconda3\\\\lib',\n",
       " 'C:\\\\Users\\\\dgr\\\\AppData\\\\Local\\\\Continuum\\\\anaconda3',\n",
       " 'C:\\\\Users\\\\dgr\\\\AppData\\\\Local\\\\Continuum\\\\anaconda3\\\\lib\\\\site-packages',\n",
       " 'C:\\\\Users\\\\dgr\\\\AppData\\\\Local\\\\Continuum\\\\anaconda3\\\\lib\\\\site-packages\\\\chardet-3.0.4-py3.7.egg',\n",
       " 'C:\\\\Users\\\\dgr\\\\AppData\\\\Local\\\\Continuum\\\\anaconda3\\\\lib\\\\site-packages\\\\docloud-1.0.257-py3.7.egg',\n",
       " 'C:\\\\Users\\\\dgr\\\\AppData\\\\Local\\\\Continuum\\\\anaconda3\\\\lib\\\\site-packages\\\\win32',\n",
       " 'C:\\\\Users\\\\dgr\\\\AppData\\\\Local\\\\Continuum\\\\anaconda3\\\\lib\\\\site-packages\\\\win32\\\\lib',\n",
       " 'C:\\\\Users\\\\dgr\\\\AppData\\\\Local\\\\Continuum\\\\anaconda3\\\\lib\\\\site-packages\\\\Pythonwin',\n",
       " 'C:\\\\Users\\\\dgr\\\\AppData\\\\Local\\\\Continuum\\\\anaconda3\\\\lib\\\\site-packages\\\\IPython\\\\extensions',\n",
       " 'C:\\\\Users\\\\dgr\\\\.ipython',\n",
       " 'C:\\\\Users\\\\dgr\\\\Documents\\\\Formations\\\\SCU Python\\\\NEW\\\\modules']"
      ]
     },
     "execution_count": 14,
     "metadata": {},
     "output_type": "execute_result"
    }
   ],
   "source": [
    "# on déclare un repertoire supplémentaire \n",
    "# où python peut aller chercher des définitions de modules\n",
    "import sys\n",
    "sys.path.append(\"C:\\\\Users\\\\dgr\\\\Documents\\\\Formations\\SCU Python\\\\NEW\\modules\")\n",
    "sys.path\n"
   ]
  },
  {
   "cell_type": "code",
   "execution_count": 16,
   "metadata": {},
   "outputs": [],
   "source": [
    "# importation d'une fonction stockée en module\n",
    "from standardisation import standardisation"
   ]
  },
  {
   "cell_type": "code",
   "execution_count": 17,
   "metadata": {},
   "outputs": [],
   "source": [
    "\n",
    "# test de la fonction sur une dataframe\n",
    "import pandas as pd\n",
    "iris = pd.read_json(\"iris.json\")\n",
    "\n",
    "# axis=0 on raisonne par col, on prend toutes les lignes de chaq col\n",
    "\n",
    "# utilisation de la fonction , en entrée on attend 1 vecteur\n",
    "iris_norm_petal_length= standardisation(iris['petalLength'])\n"
   ]
  },
  {
   "cell_type": "code",
   "execution_count": 18,
   "metadata": {},
   "outputs": [
    {
     "data": {
      "text/plain": [
       "-1.6890192947964048e-15"
      ]
     },
     "execution_count": 18,
     "metadata": {},
     "output_type": "execute_result"
    }
   ],
   "source": [
    "iris_norm_petal_length.mean(axis=0)"
   ]
  },
  {
   "cell_type": "code",
   "execution_count": 19,
   "metadata": {},
   "outputs": [],
   "source": [
    "# ma fonction ne marche sur plusieurs vecteurs, donc il faut que j'applique col apres col la fonction avec apply\n",
    "iris_norm = iris[['petalLength', 'petalWidth', 'sepalLength', 'sepalWidth']].apply(standardisation,axis=0)"
   ]
  },
  {
   "cell_type": "code",
   "execution_count": 20,
   "metadata": {},
   "outputs": [
    {
     "data": {
      "text/plain": [
       "petalLength   -1.450691e-16\n",
       "petalWidth    -1.442550e-15\n",
       "sepalLength   -1.652382e-15\n",
       "sepalWidth    -1.862399e-15\n",
       "dtype: float64"
      ]
     },
     "execution_count": 20,
     "metadata": {},
     "output_type": "execute_result"
    }
   ],
   "source": [
    "# par défaut axis=0, on voit que la moy =0\n",
    "iris_norm.mean(axis=0)\n",
    "iris_norm.mean()"
   ]
  },
  {
   "cell_type": "markdown",
   "metadata": {},
   "source": [
    "## BONUS SERIALISATION PICKLE"
   ]
  },
  {
   "cell_type": "code",
   "execution_count": 4,
   "metadata": {},
   "outputs": [],
   "source": [
    "import pickle"
   ]
  },
  {
   "cell_type": "code",
   "execution_count": null,
   "metadata": {},
   "outputs": [],
   "source": [
    "# L'étape suivante lit un fichier, effectue des manipulations et crée une datafram\n",
    "# Comment sauvegarder l'objet pour éviter de repartir à zéro"
   ]
  },
  {
   "cell_type": "code",
   "execution_count": 2,
   "metadata": {},
   "outputs": [
    {
     "name": "stdout",
     "output_type": "stream",
     "text": [
      "<class 'pandas.core.frame.DataFrame'>\n",
      "RangeIndex: 150 entries, 0 to 149\n",
      "Data columns (total 5 columns):\n",
      "longueurPetale    150 non-null float64\n",
      "largeurPetale     150 non-null float64\n",
      "longueurSepale    150 non-null float64\n",
      "largeurSepale     150 non-null float64\n",
      "espece            150 non-null category\n",
      "dtypes: category(1), float64(4)\n",
      "memory usage: 5.0 KB\n"
     ]
    }
   ],
   "source": [
    "import pandas as pd\n",
    "import os # commandes systèmes pour definir le rép de travail\n",
    "#repertoire = \"C:\\\\Users\\\\dgr\\\\Documents\\\\Formations\\\\SCU Python\\\\NEW\\\\data\"\n",
    "os.chdir(\"D:/Users/pcformation/Desktop/formationPy/data\")\n",
    "#os.getcwd()\n",
    "\n",
    "# pandas permet de lire un json et de créer une table\n",
    "iris = pd.read_json(\"iris.json\")\n",
    "iris.columns # index des col\n",
    "# on renomme les colonnes\n",
    "iris.columns = ['longueurPetale', 'largeurPetale', 'longueurSepale', 'largeurSepale', 'espece']\n",
    "\n",
    "# structure\n",
    "#iris.info()\n",
    "\n",
    "# on change le type de l'espece\n",
    "iris.espece = iris.espece.astype('category')\n",
    "iris.info()"
   ]
  },
  {
   "cell_type": "code",
   "execution_count": 5,
   "metadata": {},
   "outputs": [],
   "source": [
    "# Sauvegarder IRIS\n",
    "file=open(\"monfichier_surmondisque.df\",\"wb\")\n",
    "pickle.dump(iris,file)\n",
    "file.close()"
   ]
  },
  {
   "cell_type": "code",
   "execution_count": 6,
   "metadata": {},
   "outputs": [],
   "source": [
    "import os\n",
    "os.getcwd()\n",
    "\n",
    "del iris\n",
    "\n"
   ]
  },
  {
   "cell_type": "code",
   "execution_count": 7,
   "metadata": {},
   "outputs": [
    {
     "ename": "NameError",
     "evalue": "name 'iris' is not defined",
     "output_type": "error",
     "traceback": [
      "\u001b[1;31m---------------------------------------------------------------------------\u001b[0m",
      "\u001b[1;31mNameError\u001b[0m                                 Traceback (most recent call last)",
      "\u001b[1;32m<ipython-input-7-b8079666e339>\u001b[0m in \u001b[0;36m<module>\u001b[1;34m\u001b[0m\n\u001b[1;32m----> 1\u001b[1;33m \u001b[0miris\u001b[0m\u001b[1;33m.\u001b[0m\u001b[0mdtypes\u001b[0m\u001b[1;33m\u001b[0m\u001b[1;33m\u001b[0m\u001b[0m\n\u001b[0m",
      "\u001b[1;31mNameError\u001b[0m: name 'iris' is not defined"
     ]
    }
   ],
   "source": [
    "iris.dtypes"
   ]
  },
  {
   "cell_type": "code",
   "execution_count": 12,
   "metadata": {},
   "outputs": [],
   "source": [
    "\n",
    "file=open(\"monfichier_surmondisque.df\",\"rb\")\n",
    "iris=pickle.load(file)\n",
    "file.close()"
   ]
  },
  {
   "cell_type": "code",
   "execution_count": 13,
   "metadata": {},
   "outputs": [
    {
     "data": {
      "text/plain": [
       "longueurPetale     float64\n",
       "largeurPetale      float64\n",
       "longueurSepale     float64\n",
       "largeurSepale      float64\n",
       "espece            category\n",
       "dtype: object"
      ]
     },
     "execution_count": 13,
     "metadata": {},
     "output_type": "execute_result"
    }
   ],
   "source": [
    "iris.dtypes"
   ]
  },
  {
   "cell_type": "markdown",
   "metadata": {},
   "source": [
    "## GESTION DES TIRAGES ALEATOIRES\n",
    "La graine doit être exécuté avant chaque utilisation d'une fonction aléatoire"
   ]
  },
  {
   "cell_type": "code",
   "execution_count": null,
   "metadata": {},
   "outputs": [],
   "source": [
    "#initialiser la graine pour l'aléa\n",
    "SEED=2018\n",
    "np.random.seed(SEED)\n",
    "# on lance une fois\n",
    "print(np.random.uniform(0,1,3))\n",
    "# [0.88234931 0.10432774 0.90700933]\n",
    "# la deuxieme fois, cela change car la seed n'est plus prise en compte\n",
    "print(np.random.uniform(0,1,3))\n",
    "#[0.3063989  0.44640887 0.58998539]\n",
    "# on refixe\n",
    "np.random.seed(SEED)\n",
    "print(np.random.uniform(0,1,3))\n",
    "#[0.88234931 0.10432774 0.90700933]\n",
    "\n",
    "# Tirage d'individus\n",
    "s = np.random.normal(-3,3,1000)\n"
   ]
  },
  {
   "cell_type": "code",
   "execution_count": null,
   "metadata": {},
   "outputs": [],
   "source": [
    "## PERCENTILES\n"
   ]
  },
  {
   "cell_type": "code",
   "execution_count": null,
   "metadata": {},
   "outputs": [],
   "source": [
    "import numpy as np\n",
    "x=np.random.rand(100)"
   ]
  },
  {
   "cell_type": "code",
   "execution_count": null,
   "metadata": {},
   "outputs": [],
   "source": [
    "deciles=range(0,101,10)\n",
    "print(deciles)\n"
   ]
  },
  {
   "cell_type": "code",
   "execution_count": null,
   "metadata": {},
   "outputs": [],
   "source": [
    "np.nanpercentile(x,deciles)"
   ]
  },
  {
   "cell_type": "code",
   "execution_count": null,
   "metadata": {},
   "outputs": [],
   "source": [
    "deciles=np.arange(0,100,100/3)\n",
    "print(deciles)"
   ]
  },
  {
   "cell_type": "code",
   "execution_count": null,
   "metadata": {},
   "outputs": [],
   "source": [
    "np.nanpercentile(x,deciles)"
   ]
  },
  {
   "cell_type": "code",
   "execution_count": null,
   "metadata": {},
   "outputs": [],
   "source": [
    "y=np.random.rand(100)\n",
    "\n",
    "np.corrcoef(x,y)"
   ]
  },
  {
   "cell_type": "markdown",
   "metadata": {},
   "source": [
    "##  Les variables sont des pointeurs"
   ]
  },
  {
   "cell_type": "code",
   "execution_count": 23,
   "metadata": {},
   "outputs": [],
   "source": [
    "# deux variables différentes qui pointent sur la meme donnée\n",
    "var1 = 5\n",
    "var2 = 5\n",
    "var3 = 5.0\n",
    "var4 =var1"
   ]
  },
  {
   "cell_type": "code",
   "execution_count": 24,
   "metadata": {},
   "outputs": [
    {
     "name": "stdout",
     "output_type": "stream",
     "text": [
      "0x7ffc31ecef80\n",
      "0x7ffc31ecef80\n",
      "0x2f5d306b2b8\n",
      "0x7ffc31ecef80\n"
     ]
    }
   ],
   "source": [
    "# Affiche l'adresse mémoire de localisation de la donnée\n",
    "# python variables sont des pointeurs\n",
    "print(hex(id(var1)))\n",
    "print(hex(id(var2)))\n",
    "print(hex(id(var3)))\n",
    "print(hex(id(var4)))"
   ]
  },
  {
   "cell_type": "code",
   "execution_count": 25,
   "metadata": {},
   "outputs": [],
   "source": [
    "# si on modifie la valeur, l'emplacement change"
   ]
  },
  {
   "cell_type": "code",
   "execution_count": 27,
   "metadata": {},
   "outputs": [],
   "source": [
    "var1 = var1**2"
   ]
  },
  {
   "cell_type": "code",
   "execution_count": 28,
   "metadata": {},
   "outputs": [
    {
     "name": "stdout",
     "output_type": "stream",
     "text": [
      "0x2f5d2f467d0\n",
      "0x7ffc31ecef80\n",
      "0x2f5d306b2b8\n",
      "0x7ffc31ecef80\n"
     ]
    }
   ],
   "source": [
    "print(hex(id(var1)))\n",
    "print(hex(id(var2)))\n",
    "print(hex(id(var3)))\n",
    "print(hex(id(var4)))"
   ]
  },
  {
   "cell_type": "code",
   "execution_count": 1,
   "metadata": {},
   "outputs": [],
   "source": [
    "import psutil"
   ]
  },
  {
   "cell_type": "code",
   "execution_count": 2,
   "metadata": {},
   "outputs": [
    {
     "name": "stdout",
     "output_type": "stream",
     "text": [
      "svmem(total=8415711232, available=4119973888, percent=51.0, used=4295737344, free=4119973888)\n"
     ]
    }
   ],
   "source": [
    "print(psutil.virtual_memory())"
   ]
  },
  {
   "cell_type": "code",
   "execution_count": 5,
   "metadata": {},
   "outputs": [],
   "source": [
    "# Big vecteur numérique de 500 M \n",
    "import numpy as np\n",
    "x=np.random.rand(500000000)"
   ]
  },
  {
   "cell_type": "code",
   "execution_count": 6,
   "metadata": {},
   "outputs": [
    {
     "name": "stdout",
     "output_type": "stream",
     "text": [
      "svmem(total=8415711232, available=56209408, percent=99.3, used=8359501824, free=56209408)\n"
     ]
    }
   ],
   "source": [
    "print(psutil.virtual_memory())"
   ]
  },
  {
   "cell_type": "code",
   "execution_count": 7,
   "metadata": {},
   "outputs": [],
   "source": [
    "del x"
   ]
  },
  {
   "cell_type": "code",
   "execution_count": 8,
   "metadata": {},
   "outputs": [
    {
     "name": "stdout",
     "output_type": "stream",
     "text": [
      "svmem(total=8415711232, available=6080245760, percent=27.8, used=2335465472, free=6080245760)\n"
     ]
    }
   ],
   "source": [
    "print(psutil.virtual_memory())"
   ]
  },
  {
   "cell_type": "code",
   "execution_count": null,
   "metadata": {},
   "outputs": [],
   "source": []
  }
 ],
 "metadata": {
  "kernelspec": {
   "display_name": "Python 3",
   "language": "python",
   "name": "python3"
  },
  "language_info": {
   "codemirror_mode": {
    "name": "ipython",
    "version": 3
   },
   "file_extension": ".py",
   "mimetype": "text/x-python",
   "name": "python",
   "nbconvert_exporter": "python",
   "pygments_lexer": "ipython3",
   "version": "3.7.3"
  }
 },
 "nbformat": 4,
 "nbformat_minor": 2
}
