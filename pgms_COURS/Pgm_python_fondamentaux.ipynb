{
 "cells": [
  {
   "cell_type": "markdown",
   "metadata": {},
   "source": [
    "# Python, \"les fondamentaux\"\n",
    "\n",
    "## Sommaire\n",
    "- [1. Python base](#sect1)\n",
    "    - [1.1. Manipulation des types natifs (focus séquences)](#sect11)\n",
    "        - [1.1.1. Les chaines de caractères](#sect111) \n",
    "        - [1.1.2. Les listes](#sect112)\n",
    "        - [1.1.3. Les tuples](#sect113)\n",
    "        - [1.1.4. Les ranges](#sect114)\n",
    "        - [1.1.5. Les dictionnaires](#sect115)\n",
    "        - [1.1.6. Les ensembles](#sect116)\n",
    "    - [1.2. Manipulation des tests et boucles](#sect12)\n",
    "    - [1.3. Création de fonctions](#sect13)\n",
    "- [2. Python fondamentaux data](#sect2)\n",
    "    - [2.1. Import packages et données](#sect21)\n",
    "        - [2.1.1. Import des packages](#sect211)\n",
    "        - [2.1.2. Chargement des données](#sect212)\n",
    "        - [2.1.3. Manipulation d'un dataframe](#sect213)\n",
    "    - [2.2. Mise en forme des données](#sect22)\n",
    "        - [2.2.1. Fusion des données](#sect221)\n",
    "        - [2.2.2. Audit des données](#sect222)\n",
    "        - [2.2.3. Nettoyage des données](#sect223)\n",
    "    - [2.3. Analyses statistiques](#sect23)\n",
    "        - [2.3.1. Statistiques descriptives univariées](#sect231)\n",
    "        - [2.3.2. Statistiques descriptives bivariées](#sect232)\n",
    "        - [2.3.3. Profilage](#sect233)\n",
    "\n",
    "\n",
    "## <a name=\"sect1\"></a> 1. Python base\n",
    "L'objectif de cette partie est de manipuler l'ensemble des notions vues dans le ppt : objet, attribut, méthode, fonction, type, ...\n",
    "### <a name=\"sect11\"></a>1.1 Manipulation des types natifs (focus séquences)\n",
    "Python dispose de base d'un certain nombre de type de données. Il s'agit ici de manipuler ceux les plus spécifiques à savoir les séquences : les chaines de caractères, les listes, les tuples, les ranges, les dictionnaires et les ensemble.\n",
    "\n",
    "#### <a name=\"sect111\"></a> 1.1.1. Les chaines de caractères\n",
    "##### Accès aux éléments de la chaine\n",
    "Les caractères de la chaine sont numérotés, on dit qu'ils ont un indice.\n",
    "\n",
    "Si ch est une chaine, ch[i] renverra le caractère de la chaine dont l'index est i"
   ]
  },
  {
   "cell_type": "code",
   "execution_count": null,
   "metadata": {},
   "outputs": [],
   "source": [
    "# On définit une chaine de caractère :\n",
    "x = \"premier cours de python\""
   ]
  },
  {
   "cell_type": "code",
   "execution_count": null,
   "metadata": {},
   "outputs": [],
   "source": [
    "# Afficher le type de x avec la fonction type :\n",
    "..."
   ]
  },
  {
   "cell_type": "code",
   "execution_count": null,
   "metadata": {},
   "outputs": [],
   "source": [
    "# Afficher la chaine de caractère x grâce à la fonction print :\n",
    "..."
   ]
  },
  {
   "cell_type": "code",
   "execution_count": null,
   "metadata": {},
   "outputs": [],
   "source": [
    "# Sélectionner le \"y\" contenu dans x en utilisant les index :\n",
    "# 1ère méthode : avec un index positif\n",
    "...\n",
    "# 2ème méthode : avec un index négatif\n",
    "..."
   ]
  },
  {
   "cell_type": "code",
   "execution_count": null,
   "metadata": {},
   "outputs": [],
   "source": [
    "# Afficher la longueur de la chaine de caractère avec la fonction len :\n",
    "..."
   ]
  },
  {
   "cell_type": "code",
   "execution_count": null,
   "metadata": {},
   "outputs": [],
   "source": [
    "# Sélectionner le 23ème éléments de la chaine de caractère :\n",
    "..."
   ]
  },
  {
   "cell_type": "markdown",
   "metadata": {},
   "source": [
    "A partir d'une chaine, on peut également extraire une sous-chaine de caractère. Si ch est une chaine, ch[n:p] revoie la sous chaine de ch comprise entre les indices n (inclus) et p (exclus). Si n est manquant, la valeur sera 0; si p est manquant, la valeur sera -1"
   ]
  },
  {
   "cell_type": "code",
   "execution_count": null,
   "metadata": {},
   "outputs": [],
   "source": [
    "# Extraire le mot \"cours\" de x :\n",
    "..."
   ]
  },
  {
   "cell_type": "markdown",
   "metadata": {},
   "source": [
    "Les chaines de caractères sont des objets dits \"immutables\". Cela signifie que l'on ne peut pas les modifier tels quels. Il sera nécessaire de passer par un autre objet si besoin.  "
   ]
  },
  {
   "cell_type": "code",
   "execution_count": null,
   "metadata": {},
   "outputs": [],
   "source": [
    "# Essayer de remplacer le 1er caractère par un 'P'\n",
    "..."
   ]
  },
  {
   "cell_type": "code",
   "execution_count": null,
   "metadata": {},
   "outputs": [],
   "source": [
    "# Créer un nouvel objet 'new_x' qui commence par un 'P' puis la chaine x à partir de 1\n",
    "..."
   ]
  },
  {
   "cell_type": "markdown",
   "metadata": {},
   "source": [
    "##### Formatage de chaines\n",
    "On peut \"fabriquer\" de nouvelles chaines en insérant des variables. Dans la chaine que l'on veut fabriquer, on met {} à chaque position où on voudrait qu'il y ait une variable. Puis, on termine par .format(variable1, variable2).\n",
    "\n"
   ]
  },
  {
   "cell_type": "code",
   "execution_count": null,
   "metadata": {},
   "outputs": [],
   "source": [
    "# Afficher \"Ceci est mon premier cours de python à Soft\" en utilisant la variable x :\n",
    "..."
   ]
  },
  {
   "cell_type": "markdown",
   "metadata": {},
   "source": [
    "On peut également définir chaque élément par un nom. Dans ce cas, on insère {nom} dans la chaine puis on termine par .format(nom=variable1)"
   ]
  },
  {
   "cell_type": "code",
   "execution_count": null,
   "metadata": {},
   "outputs": [],
   "source": [
    "# Recommencer en utilisant la version avec un nom :\n",
    "..."
   ]
  },
  {
   "cell_type": "markdown",
   "metadata": {},
   "source": [
    "##### Quelques méthodes et fonctions utiles\n",
    "Les chaines de caractères étant immutables, aucune de ses méthodes ne modifie l'objet d'origine mais elles renvoient toutes un nouvel objet, qui est la chaîne modifiée."
   ]
  },
  {
   "cell_type": "code",
   "execution_count": null,
   "metadata": {},
   "outputs": [],
   "source": [
    "# Afficher l'ensemble des méthodes disponibles pour les chaines de caractères en utilisant la fonction help :\n",
    "..."
   ]
  },
  {
   "cell_type": "code",
   "execution_count": null,
   "metadata": {},
   "outputs": [],
   "source": [
    "# Rechercher dans x la sous-chaine de caractères \"de\" : utiliser la méthode find()\n",
    "..."
   ]
  },
  {
   "cell_type": "code",
   "execution_count": null,
   "metadata": {},
   "outputs": [],
   "source": [
    "# Rechercher dans x la sous-chaine de caractères \"un\" :\n",
    "..."
   ]
  },
  {
   "cell_type": "code",
   "execution_count": null,
   "metadata": {},
   "outputs": [],
   "source": [
    "# Tester si la chaine x est un entier : utiliser la méthode isalnum()\n",
    "..."
   ]
  },
  {
   "cell_type": "code",
   "execution_count": null,
   "metadata": {},
   "outputs": [],
   "source": [
    "# Convertir la chaine x en majuscule :\n",
    "..."
   ]
  },
  {
   "cell_type": "code",
   "execution_count": null,
   "metadata": {},
   "outputs": [],
   "source": [
    "# Splitter la chaine x en utilisant le séparateur ' ' puis l'affecter à un nouvel objet y :\n",
    "..."
   ]
  },
  {
   "cell_type": "code",
   "execution_count": null,
   "metadata": {},
   "outputs": [],
   "source": [
    "# Afficher le type de y avec la fonction type :\n",
    "..."
   ]
  },
  {
   "cell_type": "markdown",
   "metadata": {},
   "source": [
    "#### <a name=\"sect112\"></a> 1.1.2. Les listes"
   ]
  },
  {
   "cell_type": "markdown",
   "metadata": {},
   "source": [
    "##### Accès aux éléments de la liste\n",
    "On accède aux éléments d'une liste de la même façon qu'on accède aux caractères d'une chaîne de caractères : on indique entre crochets l'indice de l'élément qui nous intéresse."
   ]
  },
  {
   "cell_type": "code",
   "execution_count": null,
   "metadata": {},
   "outputs": [],
   "source": [
    "# Sélectionner le 1ère élément de la liste y :\n",
    "..."
   ]
  },
  {
   "cell_type": "code",
   "execution_count": null,
   "metadata": {},
   "outputs": [],
   "source": [
    "# Sélectionner le dernier élément de la liste y :\n",
    "..."
   ]
  },
  {
   "cell_type": "code",
   "execution_count": null,
   "metadata": {},
   "outputs": [],
   "source": [
    "# Afficher le nombre d'éléments de la liste y en utilisant la fonction len :\n",
    "..."
   ]
  },
  {
   "cell_type": "markdown",
   "metadata": {},
   "source": [
    "##### Quelques méthodes et fonctions utiles\n",
    "Contrairement à la classe str, la classe list permet de remplacer un élément par un autre. Les listes sont en effet des types mutables."
   ]
  },
  {
   "cell_type": "code",
   "execution_count": null,
   "metadata": {},
   "outputs": [],
   "source": [
    "# Afficher l'ensemble des méthodes disponibles pour les listes :\n",
    "..."
   ]
  },
  {
   "cell_type": "code",
   "execution_count": null,
   "metadata": {},
   "outputs": [],
   "source": [
    "# Ajouter 'fondamentaux' à la fin de la liste y : méthode append()\n",
    "..."
   ]
  },
  {
   "cell_type": "code",
   "execution_count": null,
   "metadata": {},
   "outputs": [],
   "source": [
    "# Ajouter 'DE' en 5ème position de la liste : méthode insert()\n",
    "..."
   ]
  },
  {
   "cell_type": "code",
   "execution_count": null,
   "metadata": {},
   "outputs": [],
   "source": [
    "# Supprimer l'élément 'DE' de la liste y : méthode remove()\n",
    "..."
   ]
  },
  {
   "cell_type": "markdown",
   "metadata": {},
   "source": [
    "Les listes sont des objets qui peuvent en contenir d'autres. Ce sont donc des séquences, comme les chaînes de caractères, mais au lieu de contenir des caractères, elles peuvent contenir n'importe quel objet (str, int, list, etc.)"
   ]
  },
  {
   "cell_type": "code",
   "execution_count": null,
   "metadata": {},
   "outputs": [],
   "source": [
    "# Ajouter la sous-liste [1,2,3] à la liste y :\n",
    "..."
   ]
  },
  {
   "cell_type": "code",
   "execution_count": null,
   "metadata": {},
   "outputs": [],
   "source": [
    "# Accéder au chiffre 2 (second élément) de la sous liste de y :\n",
    "..."
   ]
  },
  {
   "cell_type": "markdown",
   "metadata": {},
   "source": [
    "##### Parcourir des listes\n",
    "Il existe 4 façons de parcourir une liste :\n",
    "- une boucle while sur les index\n",
    "- une boucle for sur les éléments\n",
    "- la fonction enumerate\n",
    "- liste active : on construit une liste à partir du parcours d'une liste"
   ]
  },
  {
   "cell_type": "code",
   "execution_count": null,
   "metadata": {},
   "outputs": [],
   "source": [
    "# Afficher 1 à 1 les éléments de y avec une boucle while :\n",
    "..."
   ]
  },
  {
   "cell_type": "code",
   "execution_count": null,
   "metadata": {},
   "outputs": [],
   "source": [
    "# Afficher 1 à 1 les éléments de y avec une boucle for :\n",
    "..."
   ]
  },
  {
   "cell_type": "code",
   "execution_count": null,
   "metadata": {},
   "outputs": [],
   "source": [
    "# Afficher 1 à 1 les éléments de y avec leur index : fonction enumerate\n",
    "..."
   ]
  },
  {
   "cell_type": "markdown",
   "metadata": {},
   "source": [
    "##### Modification des listes\n",
    "Il est possible de concaténer ensemble plusieurs listes, de faire une modification similaire à l'ensemble des éléments d'une liste ou bien de supprimer un élément."
   ]
  },
  {
   "cell_type": "code",
   "execution_count": null,
   "metadata": {},
   "outputs": [],
   "source": [
    "# Créer une nouvelle liste z qui contient les éléments 1,2,3,4 :\n",
    "..."
   ]
  },
  {
   "cell_type": "code",
   "execution_count": null,
   "metadata": {},
   "outputs": [],
   "source": [
    "# Multiplier par 3 l'ensemble des éléments multiples de 2, en utilisant la syntaxe d'une boucle for :\n",
    "# modulo de la division de nb par 2 : nb%2\n",
    "..."
   ]
  },
  {
   "cell_type": "code",
   "execution_count": null,
   "metadata": {},
   "outputs": [],
   "source": [
    "# Concaténer les listes y et z : méthode extend ou opérateur +\n",
    "..."
   ]
  },
  {
   "cell_type": "code",
   "execution_count": null,
   "metadata": {},
   "outputs": [],
   "source": [
    "# Supprimer le 3ème élément de la liste y : fonction del\n",
    "..."
   ]
  },
  {
   "cell_type": "markdown",
   "metadata": {},
   "source": [
    "#### <a name=\"sect113\"></a> 1.1.3. Les tuples\n",
    "Les tuples sont des séquences, assez semblables aux listes, sauf qu'on ne peut modifier un tuple après qu'il ait été créé. Cela signifie qu'on définit le contenu d'un tuple (les objets qu'il doit contenir) lors de sa création, mais qu'on ne peut en ajouter ou en retirer par la suite.\n",
    "\n",
    "Contrairement aux listes qui utilisent des crochets pour être définies, les tuples utilisent des parenthèses."
   ]
  },
  {
   "cell_type": "code",
   "execution_count": null,
   "metadata": {},
   "outputs": [],
   "source": [
    "# Créer un tuple 'mon_tuple' contenant les éléments 1, 'Bonjour' :\n",
    "..."
   ]
  },
  {
   "cell_type": "code",
   "execution_count": null,
   "metadata": {},
   "outputs": [],
   "source": [
    "# Afficher l'ensemble des méthodes associées aux tuples :\n",
    "..."
   ]
  },
  {
   "cell_type": "markdown",
   "metadata": {},
   "source": [
    "##### Accès aux éléments d'un tuple\n",
    "Cette partie fonctionne de la même façon que les chaines de caractères et les listes. En effet, les tuples sont indexés."
   ]
  },
  {
   "cell_type": "code",
   "execution_count": null,
   "metadata": {},
   "outputs": [],
   "source": [
    "# Accèder à l'élément 'Bonjour' de 'mon_tuple' :\n",
    "..."
   ]
  },
  {
   "cell_type": "code",
   "execution_count": null,
   "metadata": {},
   "outputs": [],
   "source": [
    "# modifier le tuple\n",
    "..."
   ]
  },
  {
   "cell_type": "markdown",
   "metadata": {},
   "source": [
    "#### <a name=\"sect114\"></a> 1.1.4. Les ranges\n",
    "Afin de créer des listes contenant une suite de nombres, on utilise la classe range.\n",
    "\n",
    "Pour instancier un objet de cette classe, 3 paramètres sont à renseigner :\n",
    "- la valeur de départ (incluse), qui vaut 1 si non renseignée\n",
    "- la valeur finale (excluse), obligatoire\n",
    "- le pas, qui vaut 1 si non renseigné"
   ]
  },
  {
   "cell_type": "code",
   "execution_count": null,
   "metadata": {},
   "outputs": [],
   "source": [
    "# Créer un range 'mon_range' comprenant l'ensemble des nombres pairs dans l'intervalle [0-10]\n",
    "..."
   ]
  },
  {
   "cell_type": "code",
   "execution_count": null,
   "metadata": {},
   "outputs": [],
   "source": [
    "# Afficher l'ensemble des méthodes associées aux ranges \n",
    "..."
   ]
  },
  {
   "cell_type": "code",
   "execution_count": null,
   "metadata": {},
   "outputs": [],
   "source": [
    "# Afficher le nombre de valeur contenue dans mon_range\n",
    "..."
   ]
  },
  {
   "cell_type": "code",
   "execution_count": null,
   "metadata": {},
   "outputs": [],
   "source": [
    "# Visualiser l'ensemble des valeurs de mon range\n",
    "..."
   ]
  },
  {
   "cell_type": "markdown",
   "metadata": {},
   "source": [
    "#### <a name=\"sect115\"></a> 1.1.5. Les dictionnaires\n",
    "Les dictionnaires sont des objets pouvant en contenir d'autres, à l'instar des listes. Cependant, au lieu d'héberger des informations dans un ordre précis, ils associent chaque objet contenu (= une valeur) à une clé (la plupart du temps, une chaîne de caractères). Par exemple, un dictionnaire peut contenir un carnet d'adresses et on accède à chaque contact en précisant son nom."
   ]
  },
  {
   "cell_type": "markdown",
   "metadata": {},
   "source": [
    "##### Création de dictionnaire\n",
    "De la même façon que les crochets délimitent les listes, les parenthéses délimitent les tuples, les dictionnaires sont délimités par les accolades."
   ]
  },
  {
   "cell_type": "code",
   "execution_count": null,
   "metadata": {},
   "outputs": [],
   "source": [
    "# Créer 'mon_dico', un dictionnaire vide : méthode .dict()\n",
    "..."
   ]
  },
  {
   "cell_type": "code",
   "execution_count": null,
   "metadata": {},
   "outputs": [],
   "source": [
    "# Afficher l'ensemble des méthodes d'un dictionnaire :\n",
    "..."
   ]
  },
  {
   "cell_type": "markdown",
   "metadata": {},
   "source": [
    "Les dictionnaires n'étant pas ordonnés, on ne peut pas utiliser d'index pour les manipuler, ajouter des éléments ou en supprimer. A la place, on utilise des clés qui peuvent être de types distincts"
   ]
  },
  {
   "cell_type": "code",
   "execution_count": null,
   "metadata": {},
   "outputs": [],
   "source": [
    "# Créer une première association clé - valeur avec comme clé, 'ma_cle', et comme valeur, 'ma_valeur' :\n",
    "# syntaxe dictionnaire['cle']='val'\n",
    "..."
   ]
  },
  {
   "cell_type": "code",
   "execution_count": null,
   "metadata": {},
   "outputs": [],
   "source": [
    "# Afficher le dictionnaire :\n",
    "..."
   ]
  },
  {
   "cell_type": "code",
   "execution_count": null,
   "metadata": {},
   "outputs": [],
   "source": [
    "# Ajouter une nouvelle association avec comme clé, 'ma_cle' et comme valeur, 'autre_valeur' :\n",
    "..."
   ]
  },
  {
   "cell_type": "code",
   "execution_count": null,
   "metadata": {},
   "outputs": [],
   "source": [
    "# Réafficher le dictionnaire :\n",
    "..."
   ]
  },
  {
   "cell_type": "markdown",
   "metadata": {},
   "source": [
    "Il est également de créer un dictionnaire directement avec des valeurs."
   ]
  },
  {
   "cell_type": "code",
   "execution_count": null,
   "metadata": {},
   "outputs": [],
   "source": [
    "# Remplacer le dictionnaire existant par un nouveau avec les associations clés-valeurs suivantes : \n",
    "# login - [1,2,3] et pw - ['azerty','qwerty','motdepasse']\n",
    "..."
   ]
  },
  {
   "cell_type": "code",
   "execution_count": null,
   "metadata": {},
   "outputs": [],
   "source": [
    "# Afficher le dictionnaire\n",
    "..."
   ]
  },
  {
   "cell_type": "markdown",
   "metadata": {},
   "source": [
    "##### Parcours des dictionnaires\n",
    "Les dictionnaires peuvent être parcourus de 3 façons :\n",
    "- en parcourant les clés avec la méthode keys\n",
    "- en parcourant les valeurs avec la méthode values\n",
    "- en parcourant l'association clé-valeur avec la méthode items"
   ]
  },
  {
   "cell_type": "code",
   "execution_count": null,
   "metadata": {},
   "outputs": [],
   "source": [
    "# Afficher 1 à 1 les clés de mon_dico :\n",
    "..."
   ]
  },
  {
   "cell_type": "code",
   "execution_count": null,
   "metadata": {},
   "outputs": [],
   "source": [
    "# Afficher 1 à 1 les valeurs de mon_dico :\n",
    "..."
   ]
  },
  {
   "cell_type": "code",
   "execution_count": null,
   "metadata": {},
   "outputs": [],
   "source": [
    "# Afficher 1 à 1 les associations clé-valeur de mon_dico :\n",
    "..."
   ]
  },
  {
   "cell_type": "code",
   "execution_count": null,
   "metadata": {},
   "outputs": [],
   "source": [
    "# Ecrire le dictionnaire sur le disque dur (Sérialisation avec JSON)\n",
    "# utiliser la librarie json  et la fonction open en écriture\n",
    "..."
   ]
  },
  {
   "cell_type": "markdown",
   "metadata": {},
   "source": [
    "#### <a name=\"sect116\"></a> 1.1.6. Les ensembles\n",
    "Les ensembles sont des objets entre les listes et les dictionnaires :\n",
    "- ils ont le même délimiteur que les dictionnaires (des accolades) mais ne possédes que de clés (donc impossible d'avoir 2 fois la même valeur dans un ensemble)\n",
    "- ils ne sont ni indexés, ni ordonnés, comme les dictionnaires\n",
    "- ils ont des méthodes communes avec les listes : add, pop, remove, etc."
   ]
  },
  {
   "cell_type": "code",
   "execution_count": null,
   "metadata": {},
   "outputs": [],
   "source": [
    "# Créer un ensemble 'mon_set' composer des éléments 'a' et 'b' :\n",
    "..."
   ]
  },
  {
   "cell_type": "code",
   "execution_count": null,
   "metadata": {},
   "outputs": [],
   "source": [
    "# Afficher l'ensemble des méthodes d'un ensemble :\n",
    "..."
   ]
  },
  {
   "cell_type": "code",
   "execution_count": null,
   "metadata": {},
   "outputs": [],
   "source": [
    "# Ajouter l'élément 'a' dans mon_set : méthode add()\n",
    "..."
   ]
  },
  {
   "cell_type": "code",
   "execution_count": null,
   "metadata": {},
   "outputs": [],
   "source": [
    "# Afficher 'mon_set'\n",
    "..."
   ]
  },
  {
   "cell_type": "markdown",
   "metadata": {},
   "source": [
    "### <a name=\"sect12\"></a>  1.2. Manipulation des tests et des boucles\n",
    "Seront abordés dans cette section :\n",
    "- les tests if\n",
    "- les boucles while\n",
    "- les boucles for\n",
    "\n",
    "##### Structures conditionnelles\n",
    "La forme complète d'un test utilise les mots-clés suivant : if, elif et else.\n",
    "\n",
    "Vous pouvez mettre autant de elif que vous voulez après une condition en if. Tout comme le else, cette instruction est facultative et, quand bien même vous construiriez une instruction en if,elif, vous n'êtes pas du tout obligé de prévoir un else après. En revanche, l'instruction else ne peut figurer qu'une fois, clôturant le bloc de la condition.\n",
    "\n",
    "\n",
    "\n",
    "\n",
    "\n"
   ]
  },
  {
   "cell_type": "markdown",
   "metadata": {},
   "source": [
    "<u>Exercice</u> : Déterminer si une année saisie par l'utilisateur est bissextile\n",
    "\n",
    "Pour cela on utilise la règle suivante :\n",
    "\"une année est dite bissextile si c'est un multiple de 4, sauf si c'est un multiple de 100. Toutefois, elle est considérée comme bissextile si c'est un multiple de 400\"\n",
    "    \n",
    "A noter que la demande d'une valeur à l'utilisateur se fait par la fonction input."
   ]
  },
  {
   "cell_type": "code",
   "execution_count": null,
   "metadata": {},
   "outputs": [],
   "source": [
    "..."
   ]
  },
  {
   "cell_type": "markdown",
   "metadata": {},
   "source": [
    "##### La boucle while\n",
    "Elle permet de réexécuter un bloc d'instruction tant qu'une condition est vrai.\n",
    "\n",
    "Refaire l'exercice précédent en vérifiant que l'utilisateur a bien saisi une année (i.e. un nombre). Si ce n'est pas, demander lui de recommencer jusqu'à ce que cela soit le cas."
   ]
  },
  {
   "cell_type": "code",
   "execution_count": null,
   "metadata": {},
   "outputs": [],
   "source": [
    "..."
   ]
  },
  {
   "cell_type": "markdown",
   "metadata": {},
   "source": [
    "##### Les boucles for\n",
    "Elles sont spécialisées dans le parcours des séquences (i.e. l'ensemble des types vus ci-dessus : chaine de caractères, liste, tuple, range, dictionnaire et ensemble).\n",
    "\n",
    "Des exemples de son utilisation ont déjà été fait plus haut pour les listes et les dictionnaires.\n",
    "On va donc voir ici une utilisation avec les chaines de caractères.\n",
    "\n",
    "<u>Exercice</u> : Afficher 1 à 1 les voyelles en minuscules contenues dans la chaine x"
   ]
  },
  {
   "cell_type": "code",
   "execution_count": null,
   "metadata": {},
   "outputs": [],
   "source": [
    "# pour les voyelles se baser sur une liste 'AEIOUYaeiouy'\n",
    "..."
   ]
  },
  {
   "cell_type": "markdown",
   "metadata": {},
   "source": [
    "### <a name=\"sect13\"></a> 1.3. Création de fonctions\n",
    "Une fonction est un ensemble de commandes regroupées sous un seul nom unique.\n",
    "\n",
    "Il existe 2 méthodes pour définir une fonction :\n",
    "- avec def ma_fonction(mes_paramtres) :\n",
    "- avec lambda\n",
    "\n",
    "##### Utilisation du mot-clé def"
   ]
  },
  {
   "cell_type": "code",
   "execution_count": null,
   "metadata": {},
   "outputs": [],
   "source": [
    "# Créer une fonction qui prend en paramètre une chaine de caractère\n",
    "# et qui renvoie un dictionnaire avec pour chaque mot en clé, un boolean indiquant si c'est un palindrome\n",
    "# Puis l'appliquer à la chaine x\n",
    "# chaine[::-1] : écrit la chaine à l'envers\n",
    "# chaine.split() : tokenize la chaine en mots\n",
    "..."
   ]
  },
  {
   "cell_type": "code",
   "execution_count": null,
   "metadata": {},
   "outputs": [],
   "source": [
    "# Appliquer la fonction est palindrome sur la phrase 'python est mieux que sas'\n",
    "..."
   ]
  },
  {
   "cell_type": "code",
   "execution_count": null,
   "metadata": {},
   "outputs": [],
   "source": [
    "# créons un vecteur de données numérique en objet array numpy\n",
    "# syntaxe : numpy.array()\n",
    "..."
   ]
  },
  {
   "cell_type": "code",
   "execution_count": null,
   "metadata": {},
   "outputs": [],
   "source": [
    "# créons une fonction qui standardise une colonne (1darray) : centrer et réduire (soustraire la moyenne et diviser par l'écart type)\n",
    "..."
   ]
  },
  {
   "cell_type": "code",
   "execution_count": null,
   "metadata": {},
   "outputs": [],
   "source": [
    "# appliquons la fonction standardisation, attention aux types des données\n",
    "..."
   ]
  },
  {
   "cell_type": "code",
   "execution_count": null,
   "metadata": {},
   "outputs": [],
   "source": [
    "# si on applique la fonction sur un array non float il y a un erreur\n",
    "..."
   ]
  },
  {
   "cell_type": "code",
   "execution_count": null,
   "metadata": {},
   "outputs": [],
   "source": [
    "# Introduire une gestion d'exception dans la fonction => try except\n",
    "..."
   ]
  },
  {
   "cell_type": "markdown",
   "metadata": {},
   "source": [
    "##### Utilisation du mot-clé lambda"
   ]
  },
  {
   "cell_type": "code",
   "execution_count": null,
   "metadata": {},
   "outputs": [],
   "source": [
    "# appliquons une lambda fonction pour mettre au carré les valeurs du vecteur numérique : utiliser map (lambda x : ..., vecteur)\n",
    "..."
   ]
  },
  {
   "cell_type": "code",
   "execution_count": null,
   "metadata": {},
   "outputs": [],
   "source": [
    "# fonction qui teste si un element vaut 1\n",
    "..."
   ]
  },
  {
   "cell_type": "code",
   "execution_count": null,
   "metadata": {},
   "outputs": [],
   "source": [
    "# Créer une fonction qui retourne l'aire d'un triangle et l'appliquer pour un triangle de base 2 et de hauteur 3\n",
    "..."
   ]
  },
  {
   "cell_type": "markdown",
   "metadata": {},
   "source": [
    "## <a name=\"sect2\"></a> 2. Python fondamentaux data\n",
    "Un exercice pratique est proposé ici pour se rapprocher de ce qui pourra être fait lors d'un projet.\n",
    "\n",
    "<u>Contexte</u> : <br>\n",
    "Notre équipe de Data Scientists est sollicitée pour un projet de grande ampleur qui nécessite de staffer 6 personnes qu’il s’agit de déterminer. Avant de faire l’étude de scoring, nous commençons par une analyse exploratoire des données dont nous disposons.\n",
    "\n",
    "<u>Description des fichiers</u> :\n",
    "<ol>\n",
    "    <li> « RH_Jouet.csv » :\n",
    "    <ul>\n",
    "        <li><i>ID</i> : numéro d’identifiant\n",
    "        <li><i>Prenom</i> : prénom\n",
    "        <li><i>Genre</i> : sexe (G= Garçon, F= Fille)\n",
    "        <li><i>SEG.VALEUR</i> : information donnée par les services RH sous forme de lettres\n",
    "        <li><i>AGE</i> : l’âge\n",
    "        <li><i>CODE_DPT</i> : département d'habitation\n",
    "        <li><i>Dat_ARRIVEE</i> : date d’arrivée dans l’entreprise\n",
    "        <li><i>PRIMe</i> : montant de la dernière prime\n",
    "    </ul>\n",
    "    <li>« COMPETENCE_Jouet.csv » :\n",
    "    <ul>\n",
    "        <li><i>ID</i> : numéro d’identifiant\n",
    "        <li><i>REPORTING</i> : note de compétence en reporting\n",
    "        <li><i>SAS</i> : note de compétence en SAS\n",
    "        <li><i>TEXTM</i> : note de compétence en Text Mining\n",
    "        <li><i>MARKET</i> : note de compétence en marketing\n",
    "        <li><i>CADRAGE</i> : note de compétence en cadrage de projet\n",
    "        <li><i>NPROJET</i> : nombre de missions similaires menées dans le passé\n",
    "        <li><i>ML</i> : note de compétence en Machine Learning\n",
    "        <li><i>TOP</i> : variable cible (pour le score)\n",
    "    </ul>\n",
    "</ol>\t\n",
    "\n",
    "\n",
    "### <a name=\"sect21\"></a> 2.1. Import des packages et des données\n",
    "#### <a name=\"sect211\"></a> 2.1.1. Import des packages"
   ]
  },
  {
   "cell_type": "code",
   "execution_count": null,
   "metadata": {},
   "outputs": [],
   "source": [
    "import os\n",
    "\n",
    "# traitement des données\n",
    "import pandas as pd\n",
    "import numpy as np\n",
    "import scipy.stats as sp\n",
    "import datetime as dt\n",
    "\n",
    "# Graphiques\n",
    "import matplotlib.pyplot as plt\n",
    "%matplotlib inline\n",
    "import seaborn as sns\n",
    "\n",
    "pd.options.mode.chained_assignment = None"
   ]
  },
  {
   "cell_type": "markdown",
   "metadata": {},
   "source": [
    "#### <a name=\"sect212\"></a> 2.1.2. Chargement des données\n",
    "##### En utilisant le package <u><i>os</i></u> et ses fonctions <i>getcwd()</i> et <i>chdir()</i>, on va se placer dans le répertoire où sont situé les données"
   ]
  },
  {
   "cell_type": "code",
   "execution_count": null,
   "metadata": {},
   "outputs": [],
   "source": [
    "# Etape 1 : identifier dans quel répertoire l'on se trouve actuellement\n",
    "..."
   ]
  },
  {
   "cell_type": "code",
   "execution_count": null,
   "metadata": {},
   "outputs": [],
   "source": [
    "# Etape 2 : créer une variable 'repertoire' dans lequel sera contenu le futur chemin d'accés (../Python/Data)\n",
    "..."
   ]
  },
  {
   "cell_type": "code",
   "execution_count": null,
   "metadata": {},
   "outputs": [],
   "source": [
    "# Etape 3 : on se place dans le répertoire\n",
    "..."
   ]
  },
  {
   "cell_type": "code",
   "execution_count": null,
   "metadata": {},
   "outputs": [],
   "source": [
    "# Etape 4 : on vérifie que le changement a bien été fait (idem étape 1)\n",
    "..."
   ]
  },
  {
   "cell_type": "markdown",
   "metadata": {},
   "source": [
    "#### En utilisant le package <u><i>panda</i></u> et sa fonction <i>read_csv()</i>, importer les fichiers \"RH_Jouer.csv\" et \"COMPETENCE_Jouet.csv\"\n",
    "\n",
    "Pour information, les caractéristiques des fichiers sont les suivantes :\n",
    "<ol>\n",
    "    <li> « RH_Jouet.csv » :\n",
    "    <ul>\n",
    "        <li><i>Délimiteur</i> : point-virgule\n",
    "        <li><i>Décimal</i> : point\n",
    "        <li><i>Encodage</i> : 'iso-8859-1'\n",
    "    </ul>\n",
    "    <li>« COMPETENCE_Jouet.csv » :\n",
    "    <ul>\n",
    "        <li><i>Délimiteur</i> : point-virgule\n",
    "        <li><i>Décimal</i> : virgule\n",
    "        <li><i>Encodage</i> : 'iso-8859-1'\n",
    "    </ul>\n",
    "</ol>\t"
   ]
  },
  {
   "cell_type": "code",
   "execution_count": null,
   "metadata": {},
   "outputs": [],
   "source": [
    "# Etape 1 : créer une variable 'don1' contenant le fichier \"RH_Jouet.csv\"\n",
    "..."
   ]
  },
  {
   "cell_type": "code",
   "execution_count": null,
   "metadata": {},
   "outputs": [],
   "source": [
    "# Etape 2 : créer une variable 'don2' contenant le fichier \"COMPETENCE_Jouet.csv\"\n",
    "..."
   ]
  },
  {
   "cell_type": "markdown",
   "metadata": {},
   "source": [
    "#### <a name=\"sect213\"></a> 2.1.3. Manipulation d'un dataframe\n",
    "On vérifie tout d'abord que les données ont correctement été chargées."
   ]
  },
  {
   "cell_type": "code",
   "execution_count": null,
   "metadata": {},
   "outputs": [],
   "source": [
    "# Etape 1 : regarder la dimension de 'don1' en utilisant son attribut shape :\n",
    "..."
   ]
  },
  {
   "cell_type": "code",
   "execution_count": null,
   "metadata": {},
   "outputs": [],
   "source": [
    "# Etape 2 : afficher le nom des colonnes de 'don1' en utilisant son attribut columns :\n",
    "..."
   ]
  },
  {
   "cell_type": "code",
   "execution_count": null,
   "metadata": {},
   "outputs": [],
   "source": [
    "# Etape 3 : afficher le nom des index (i.e. lignes) en utilisant son attribut index :\n",
    "..."
   ]
  },
  {
   "cell_type": "code",
   "execution_count": null,
   "metadata": {},
   "outputs": [],
   "source": [
    "# Etape 4 : afficher le type de 'don1' en utilisant la fonction type :\n",
    "..."
   ]
  },
  {
   "cell_type": "code",
   "execution_count": null,
   "metadata": {},
   "outputs": [],
   "source": [
    "# Etape 5 : afficher le types de chaque colonnes de 'don1' en utilisant son attribut dtypes\n",
    "..."
   ]
  },
  {
   "cell_type": "code",
   "execution_count": null,
   "metadata": {},
   "outputs": [],
   "source": [
    "# Etape 6 : regarder la forme de 'don1' en affichant les 5 premières lignes\n",
    "..."
   ]
  },
  {
   "cell_type": "code",
   "execution_count": null,
   "metadata": {},
   "outputs": [],
   "source": [
    "# Etape 7 : Afficher les 5 dernières lignes de 'don2' avec la méthode tail\n",
    "..."
   ]
  },
  {
   "cell_type": "code",
   "execution_count": null,
   "metadata": {},
   "outputs": [],
   "source": [
    "# Etape 8 : Séléctionner uniquement la Serie 'GENRE' et afficher son type\n",
    "..."
   ]
  },
  {
   "cell_type": "code",
   "execution_count": null,
   "metadata": {
    "scrolled": true
   },
   "outputs": [],
   "source": [
    "# Etape 9 : Sélectionner de la 2ème à la 4ème colonnes de 'don1' avec l'attribut iloc\n",
    "..."
   ]
  },
  {
   "cell_type": "code",
   "execution_count": null,
   "metadata": {},
   "outputs": [],
   "source": [
    "# Etape 9 : même chose avec les noms des col (loc)\n",
    "..."
   ]
  },
  {
   "cell_type": "code",
   "execution_count": null,
   "metadata": {},
   "outputs": [],
   "source": [
    "# Etape 10 : Sélectionner de la 3ème à la 15ème lignes de 'don1' avec l'attribut iloc\n",
    "..."
   ]
  },
  {
   "cell_type": "code",
   "execution_count": null,
   "metadata": {},
   "outputs": [],
   "source": [
    "# Etape 11 : Sélectionner de la 2ème à la 4ème colonnes et de la 3ème à la 15ème lignes de 'don1' avec l'attibut iloc\n",
    "..."
   ]
  },
  {
   "cell_type": "markdown",
   "metadata": {},
   "source": [
    "### <a name=\"sect22\"></a> 2.2. Mise en forme des données\n",
    "#### <a name=\"sect232\"></a> 2.3.2. Fusion des données\n",
    "Le premier constat à faire, après avoir affiché les données, est que les colonnes ne sont pas nommées de la même façon. Avant de les fusionner, il va falloir homogénéïser les noms.\n",
    "\n",
    "##### Pour cela, l'attribut <i>columns</i> et les méthodes <i>str.replace()</i> et <i>str.upper()</i> pourront être utilisées."
   ]
  },
  {
   "cell_type": "code",
   "execution_count": null,
   "metadata": {},
   "outputs": [],
   "source": [
    "# Etape 1 : supprimer le préfixe \"fich.\" des colonnes de 'don1'\n",
    "..."
   ]
  },
  {
   "cell_type": "code",
   "execution_count": null,
   "metadata": {},
   "outputs": [],
   "source": [
    "# Etape 2 : mettre les noms des colonnes de 'don1' en majuscule\n",
    "..."
   ]
  },
  {
   "cell_type": "code",
   "execution_count": null,
   "metadata": {},
   "outputs": [],
   "source": [
    "# Etape 3 : vérifier que les colonnes de 'don1' et 'don2' ont bien la bonne forme\n",
    "..."
   ]
  },
  {
   "cell_type": "markdown",
   "metadata": {},
   "source": [
    "#### En utilisant le package <u><i>panda</i></u> et sa fonction <i>merge()</i>, créer un nouveau DataFrame 'don' contenant l'intersection de 'don1' et 'don2' selon le numéro d'identifiant.\n",
    "#### Puis regarder quelques informations sur ces données en utilisant les méthodes <i>shape</i> et <i>dtypes</i> et la fonction <i>type()</i>"
   ]
  },
  {
   "cell_type": "code",
   "execution_count": null,
   "metadata": {},
   "outputs": [],
   "source": [
    "# Etape 4 : réunir les données 'don1' et 'don2' dans un nouvel objet 'don'\n",
    "..."
   ]
  },
  {
   "cell_type": "code",
   "execution_count": null,
   "metadata": {},
   "outputs": [],
   "source": [
    "# Etape 5 : vérifier que 'don' est bien du type DataFrame\n",
    "..."
   ]
  },
  {
   "cell_type": "code",
   "execution_count": null,
   "metadata": {},
   "outputs": [],
   "source": [
    "# Etape 6 : regarder les dimensions de 'don'\n",
    "..."
   ]
  },
  {
   "cell_type": "code",
   "execution_count": null,
   "metadata": {},
   "outputs": [],
   "source": [
    "# Etape 7 : vérifier que le type est désormais le bon\n",
    "..."
   ]
  },
  {
   "cell_type": "markdown",
   "metadata": {},
   "source": [
    "#### <a name=\"sect222\"></a> 2.2.2. Audit des données\n",
    "Utiliser les méthodes info et descibe ainsi que l'attribut dtypes pour avoir un audit rapide des données"
   ]
  },
  {
   "cell_type": "code",
   "execution_count": null,
   "metadata": {},
   "outputs": [],
   "source": [
    "# Etape 1 : afficher l'ensemble des informations pour chaque variable avec la méthode info :\n",
    "..."
   ]
  },
  {
   "cell_type": "code",
   "execution_count": null,
   "metadata": {},
   "outputs": [],
   "source": [
    "# Etape 2 : affihcher quelques statistiques descriptives pour chaque variable avec la méthode describe :\n",
    "..."
   ]
  },
  {
   "cell_type": "code",
   "execution_count": null,
   "metadata": {},
   "outputs": [],
   "source": [
    "# Etape 3 : afficher le type de chaque colonne en utilisant l'attribut dtypes\n",
    "..."
   ]
  },
  {
   "cell_type": "code",
   "execution_count": null,
   "metadata": {},
   "outputs": [],
   "source": [
    "# Changer de format pour ID\n",
    "..."
   ]
  },
  {
   "cell_type": "markdown",
   "metadata": {},
   "source": [
    "#### <a name=\"sect223\"></a> 2.2.3. Nettoyage des données\n",
    "On va maintenant préparer les données afin qu'elles soient prêtes pour l'utilisation d'analyses statistiques"
   ]
  },
  {
   "cell_type": "code",
   "execution_count": null,
   "metadata": {},
   "outputs": [],
   "source": [
    "# Etape 1 : Mettre la colonne ID en format category en utilisant la méthode astype\n",
    "..."
   ]
  },
  {
   "cell_type": "code",
   "execution_count": null,
   "metadata": {},
   "outputs": [],
   "source": [
    "# Etape 2 : convertir la colonne DAT_ARRIVEE en date en utilisant la fonction to_datetime du package pandas\n",
    "..."
   ]
  },
  {
   "cell_type": "markdown",
   "metadata": {},
   "source": [
    "Dans le cas d'une segmentation ou d'un score, une variable au format date est peu intéressante. On va donc créer une nouvelle variable 'ANCIENNETE' qui contiendra le nombre de jours depuis son arrivée."
   ]
  },
  {
   "cell_type": "code",
   "execution_count": null,
   "metadata": {},
   "outputs": [],
   "source": [
    "# Etape 3 : créer une variable 'J0' contenant la date du jour en utilisant la fonction date.today du package datetime\n",
    "..."
   ]
  },
  {
   "cell_type": "code",
   "execution_count": null,
   "metadata": {},
   "outputs": [],
   "source": [
    "# Etape 4 : ajouter une nouvelle colonne 'ANCIENNETE' dans le DataFrame 'don' contenant la différence entre 'J0' et 'DAT.ARRIVEE'. On aura alors le nombre de jours d'ancienneté\n",
    "..."
   ]
  },
  {
   "cell_type": "markdown",
   "metadata": {},
   "source": [
    "<p style=\"color:#FF0000\";> Afin d'avoir l'ancienneté en mois, on utilise le code suivant : </p>"
   ]
  },
  {
   "cell_type": "code",
   "execution_count": null,
   "metadata": {},
   "outputs": [],
   "source": [
    "# Etape 5 : convertir 'ANCIENNETE' en mois\n",
    "don['ANCIENNETE'] = don['ANCIENNETE'] / np.timedelta64(1, 'M')"
   ]
  },
  {
   "cell_type": "markdown",
   "metadata": {},
   "source": [
    "On convertit également le variable 'AGE' en float."
   ]
  },
  {
   "cell_type": "code",
   "execution_count": null,
   "metadata": {},
   "outputs": [],
   "source": [
    "..."
   ]
  },
  {
   "cell_type": "code",
   "execution_count": null,
   "metadata": {},
   "outputs": [],
   "source": [
    "# Etape 6 : Vérifier que la variable GENRE ne contient que 2 modalités en utilisant la méthode nunique\n",
    "..."
   ]
  },
  {
   "cell_type": "code",
   "execution_count": null,
   "metadata": {},
   "outputs": [],
   "source": [
    "# Etape 7 : Afficher les modalités de la variable GENRE en utilisant la méthode unique\n",
    "..."
   ]
  },
  {
   "cell_type": "code",
   "execution_count": null,
   "metadata": {},
   "outputs": [],
   "source": [
    "# Etape 8 : Supprimer la variable PRIME qui contient trop de valeurs manquantes avec la méthode drop\n",
    "..."
   ]
  },
  {
   "cell_type": "code",
   "execution_count": null,
   "metadata": {},
   "outputs": [],
   "source": [
    "# Etape 9 : Supprimer les lignes avec prénom manquant en utilisant la fonction isnull du package pandas\n",
    "..."
   ]
  },
  {
   "cell_type": "code",
   "execution_count": null,
   "metadata": {},
   "outputs": [],
   "source": [
    "# Etape 10 : Remplacer les valeurs manquantes de l'AGE par sa moyenne\n",
    "..."
   ]
  },
  {
   "cell_type": "code",
   "execution_count": null,
   "metadata": {},
   "outputs": [],
   "source": [
    "# Etape 11 : Trier les données par ordre décroissant des prénoms et croissant des ages en utilisant la méthode sort_values\n",
    "..."
   ]
  },
  {
   "cell_type": "code",
   "execution_count": null,
   "metadata": {},
   "outputs": [],
   "source": [
    "# Etape 12 : Supprimer les doublons de PRENOM en utilisant la méthode drop_duplicates\n",
    "..."
   ]
  },
  {
   "cell_type": "markdown",
   "metadata": {},
   "source": [
    "SERIALISATION AVEC PICKLE\n",
    "On souhaite sauvegarder l'état du fichier pour pouvoir le recharger à une prochaine session"
   ]
  },
  {
   "cell_type": "code",
   "execution_count": null,
   "metadata": {},
   "outputs": [],
   "source": [
    "# utiliser pickle et sauvegarder\n",
    "import pickle\n",
    "..."
   ]
  },
  {
   "cell_type": "code",
   "execution_count": null,
   "metadata": {},
   "outputs": [],
   "source": [
    "# recharger le fichier \n",
    "..."
   ]
  },
  {
   "cell_type": "markdown",
   "metadata": {},
   "source": [
    "### <a name=\"sect23\"></a> 2.3. Analyses statistiques\n",
    "#### <a name=\"sect231\"></a> 2.3.1. Statistiques descriptives univariées\n",
    "##### Variables qualitatives"
   ]
  },
  {
   "cell_type": "code",
   "execution_count": null,
   "metadata": {},
   "outputs": [],
   "source": [
    "# Etape 1 : créer une variable x avec la colonne GENRE\n",
    "..."
   ]
  },
  {
   "cell_type": "code",
   "execution_count": null,
   "metadata": {},
   "outputs": [],
   "source": [
    "# Etape 2 : Utiliser la méthode describe pour obtenir des premières statistiques sur la variable x\n",
    "..."
   ]
  },
  {
   "cell_type": "code",
   "execution_count": null,
   "metadata": {},
   "outputs": [],
   "source": [
    "# Etape 3 : Afficher la répartition de la variable selon les modalités avec la méthode value_counts\n",
    "..."
   ]
  },
  {
   "cell_type": "code",
   "execution_count": null,
   "metadata": {
    "scrolled": true
   },
   "outputs": [],
   "source": [
    "# Etape 4 : Afficher un camembert pour montrer la répartition des modalités en utilisant la fonction pie du package matplotlib\n",
    "..."
   ]
  },
  {
   "cell_type": "code",
   "execution_count": null,
   "metadata": {},
   "outputs": [],
   "source": [
    "# Etape 5 : Aficher un diagramme en barre pour montrer la répartition des modalités en utilisant la fonction countplot du package seaborn\n",
    "..."
   ]
  },
  {
   "cell_type": "markdown",
   "metadata": {},
   "source": [
    "##### Variables quantitatives "
   ]
  },
  {
   "cell_type": "code",
   "execution_count": null,
   "metadata": {},
   "outputs": [],
   "source": [
    "# Etape 1 : Créer une variable x avec la colonne AGE\n",
    "..."
   ]
  },
  {
   "cell_type": "code",
   "execution_count": null,
   "metadata": {},
   "outputs": [],
   "source": [
    "# Etape 2 : Utiliser la méthode describe pour obtenir des premières statistiques sur la variable x\n",
    "..."
   ]
  },
  {
   "cell_type": "code",
   "execution_count": null,
   "metadata": {},
   "outputs": [],
   "source": [
    "# Etape 3 : Afficher les déciles en utilisant la fonction nanpercentile du package numpy\n",
    "..."
   ]
  },
  {
   "cell_type": "code",
   "execution_count": null,
   "metadata": {},
   "outputs": [],
   "source": [
    "# Etape 4 : Afficher un boxplot en utilisant la fonction boxplot du package seaborn\n",
    "..."
   ]
  },
  {
   "cell_type": "code",
   "execution_count": null,
   "metadata": {},
   "outputs": [],
   "source": [
    "# Etape 5 : Afficher un histogramme en utilisant la méthode hist\n",
    "..."
   ]
  },
  {
   "cell_type": "code",
   "execution_count": null,
   "metadata": {},
   "outputs": [],
   "source": [
    "# Etape 6 : Afficher la courbe de densité en utilisant la fonction kdeplot du package seaborn\n",
    "..."
   ]
  },
  {
   "cell_type": "code",
   "execution_count": null,
   "metadata": {},
   "outputs": [],
   "source": [
    "# Etape 7 : Réaliser un test de normalité en utilisant la fonction shapiro du package scipy.stats\n",
    "..."
   ]
  },
  {
   "cell_type": "code",
   "execution_count": null,
   "metadata": {},
   "outputs": [],
   "source": [
    "# Etape 8 : Discrétiser la variable en 2 classes en coupant à la moyenne avec la fonction cut du package panda\n",
    "..."
   ]
  },
  {
   "cell_type": "markdown",
   "metadata": {},
   "source": [
    "#### <a name=\"sect232\"></a> 2.3.2. Stastistiques descriptives bivariée\n",
    "##### Variables quantitatives"
   ]
  },
  {
   "cell_type": "code",
   "execution_count": null,
   "metadata": {},
   "outputs": [],
   "source": [
    "# Etape 1 : Créer un nuage de points avec les variables ANCIENNETE et AGE en utilisant la fonction lmplot du package seaborn\n",
    "..."
   ]
  },
  {
   "cell_type": "code",
   "execution_count": null,
   "metadata": {},
   "outputs": [],
   "source": [
    "# Etape 2 : Faire un nuage de point entre REPORTING et SAS et en mettrant chaque segment SEG.VALEUR dans une couleur\n",
    "# Pour cela utiliser le paramètre hue\n",
    "..."
   ]
  },
  {
   "cell_type": "code",
   "execution_count": null,
   "metadata": {},
   "outputs": [],
   "source": [
    "# Etape 3 : Tracer les courbes de densité des variables REPORTING et MARKET sur le même graphe\n",
    "# Pour cela, utiliser la fonction kdeplot du package seaborn\n",
    "..."
   ]
  },
  {
   "cell_type": "code",
   "execution_count": null,
   "metadata": {},
   "outputs": [],
   "source": [
    "# Etape 4 : Afficher le résultat du test de Kolgomorrof Smirnov entre la variable REPORTING et MARKET\n",
    "# Pour cela, utiliser la fonction ks_2samp du package scipy.stats\n",
    "..."
   ]
  },
  {
   "cell_type": "code",
   "execution_count": null,
   "metadata": {},
   "outputs": [],
   "source": [
    "# Etape 5 : Afficher le résultat du test de Student entre la variable REPORTING et MARKET\n",
    "# Pour cela, utiliser la fonction ttest_ind du package scipy.stats\n",
    "..."
   ]
  },
  {
   "cell_type": "code",
   "execution_count": null,
   "metadata": {},
   "outputs": [],
   "source": [
    "# Etape 6 : Afficher la correlation entre les variable REPORTING et MARKET\n",
    "# Pour cela, utiliser la fonction corrcoef du package numpy\n",
    "..."
   ]
  },
  {
   "cell_type": "markdown",
   "metadata": {},
   "source": [
    "##### Variables qualitatives"
   ]
  },
  {
   "cell_type": "code",
   "execution_count": null,
   "metadata": {},
   "outputs": [],
   "source": [
    "# Etape 1 : Afficher le table de contingence entre les variable TOP et SEG.VALEUR\n",
    "# Pour cela, utiliser la fonction crosstab du package pandas\n",
    "..."
   ]
  },
  {
   "cell_type": "code",
   "execution_count": null,
   "metadata": {},
   "outputs": [],
   "source": [
    "# Etape 2 : Afficher les résultats du test du Chi2\n",
    "# Pour cela, utiliser la fonction chi2_contingency du package scipy.stats\n",
    "..."
   ]
  },
  {
   "cell_type": "markdown",
   "metadata": {},
   "source": [
    "##### Variables quantitative et qualitative"
   ]
  },
  {
   "cell_type": "code",
   "execution_count": null,
   "metadata": {},
   "outputs": [],
   "source": [
    "# Afficher un boxplot de l'ANCIENNETE pour chaque segement de SEG.VALEUR\n",
    "# Pour cela, utiliser la fonction boxplot du package seaborn\n",
    "..."
   ]
  },
  {
   "cell_type": "markdown",
   "metadata": {},
   "source": [
    "#### <a name=\"sect233\"></a> 2.3.3. Profilage\n",
    "##### Etude de profil selon la moyenne"
   ]
  },
  {
   "cell_type": "code",
   "execution_count": null,
   "metadata": {},
   "outputs": [],
   "source": [
    "# Etape 1 : Créer un nouvel objet VarKeep contenant la liste des variables à étudier :\n",
    "# \"AGE\",\"TOP\",\"ANCIENNETE\",\"REPORTING\",\"SAS\",\"TEXTM\", \"MARKET\",\"CADRAGE\",\"NPROJET\",\"ML\"\n",
    "..."
   ]
  },
  {
   "cell_type": "code",
   "execution_count": null,
   "metadata": {},
   "outputs": [],
   "source": [
    "# Etape 2 : Créer un dataframe m qui contient la moyenne de chaque variable pour chaque segment (SEG.VALEUR)\n",
    "..."
   ]
  },
  {
   "cell_type": "code",
   "execution_count": null,
   "metadata": {},
   "outputs": [],
   "source": [
    "# Afficher m\n",
    "..."
   ]
  },
  {
   "cell_type": "markdown",
   "metadata": {},
   "source": [
    "##### Etude de profil selon les effectifs"
   ]
  },
  {
   "cell_type": "code",
   "execution_count": null,
   "metadata": {},
   "outputs": [],
   "source": [
    "# Etape 3 : Créer un dataframe eff qui contient la taille de chaque segment (SEG.VALEUR)\n",
    "..."
   ]
  },
  {
   "cell_type": "code",
   "execution_count": null,
   "metadata": {},
   "outputs": [],
   "source": [
    "# Etape 4 : Renommer la variable ID en Eff\n",
    "..."
   ]
  },
  {
   "cell_type": "code",
   "execution_count": null,
   "metadata": {},
   "outputs": [],
   "source": [
    "# Afficher eff"
   ]
  },
  {
   "cell_type": "markdown",
   "metadata": {},
   "source": [
    "##### Regroupement des moyennes et de l'effectif"
   ]
  },
  {
   "cell_type": "code",
   "execution_count": null,
   "metadata": {},
   "outputs": [],
   "source": [
    "# Etape 1 : Faire une jointure entre m et eff\n",
    "..."
   ]
  },
  {
   "cell_type": "markdown",
   "metadata": {},
   "source": [
    "On aurait également pu faire tout ça en une seule fois sans faire de merge. Pour cela, on utilise la méthode agg "
   ]
  },
  {
   "cell_type": "code",
   "execution_count": null,
   "metadata": {},
   "outputs": [],
   "source": [
    "moy = don.groupby('SEG.VALEUR',as_index=False) \\\n",
    ".agg({'ID': 'count' \\\n",
    "      ,'AGE':['mean','min','max'] \\\n",
    "      ,\"TOP\" :'mean' \\\n",
    "      ,\"ANCIENNETE\" :'mean' \\\n",
    "      ,\"REPORTING\" :'mean' \\\n",
    "      ,\"SAS\":'mean' \\\n",
    "      ,\"TEXTM\" :'mean' \\\n",
    "      , \"MARKET\" :'mean' \\\n",
    "      ,\"CADRAGE\" :'mean' \\\n",
    "      ,\"NPROJET\" :'mean' \\\n",
    "      ,\"ML\" :'mean'}) \\\n",
    ".rename(columns = {'ID' : 'Eff'})\n",
    "moy"
   ]
  }
 ],
 "metadata": {
  "kernelspec": {
   "display_name": "Python 3",
   "language": "python",
   "name": "python3"
  },
  "language_info": {
   "codemirror_mode": {
    "name": "ipython",
    "version": 3
   },
   "file_extension": ".py",
   "mimetype": "text/x-python",
   "name": "python",
   "nbconvert_exporter": "python",
   "pygments_lexer": "ipython3",
   "version": "3.7.0"
  }
 },
 "nbformat": 4,
 "nbformat_minor": 2
}
