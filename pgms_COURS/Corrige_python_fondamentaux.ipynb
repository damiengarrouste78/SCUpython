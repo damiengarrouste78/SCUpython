{
 "cells": [
  {
   "cell_type": "markdown",
   "metadata": {},
   "source": [
    "# Python, \"les fondamentaux\"\n",
    "\n",
    "## Sommaire\n",
    "- [1. Python base](#sect1)\n",
    "    - [1.1. Manipulation des types natifs (focus séquences)](#sect11)\n",
    "        - [1.1.1. Les chaines de caractères](#sect111) \n",
    "        - [1.1.2. Les listes](#sect112)\n",
    "        - [1.1.3. Les tuples](#sect113)\n",
    "        - [1.1.4. Les ranges](#sect114)\n",
    "        - [1.1.5. Les dictionnaires](#sect115)\n",
    "        - [1.1.6. Les ensembles](#sect116)\n",
    "    - [1.2. Manipulation des tests et boucles](#sect12)\n",
    "    - [1.3. Création de fonctions](#sect13)\n",
    "- [2. Python fondamentaux data](#sect2)\n",
    "    - [2.1. Import packages et données](#sect21)\n",
    "        - [2.1.1. Import des packages](#sect211)\n",
    "        - [2.1.2. Chargement des données](#sect212)\n",
    "        - [2.1.3. Manipulation d'un dataframe](#sect213)\n",
    "    - [2.2. Mise en forme des données](#sect22)\n",
    "        - [2.2.1. Fusion des données](#sect221)\n",
    "        - [2.2.2. Audit des données](#sect222)\n",
    "        - [2.2.3. Nettoyage des données](#sect223)\n",
    "    - [2.3. Analyses statistiques](#sect23)\n",
    "        - [2.3.1. Statistiques descriptives univariées](#sect231)\n",
    "        - [2.3.2. Statistiques descriptives bivariées](#sect232)\n",
    "        - [2.3.3. Profilage](#sect233)\n",
    "\n",
    "\n",
    "## <a name=\"sect1\"></a> 1. Python base\n",
    "L'objectif de cette partie est de manipuler l'ensemble des notions vues dans le ppt : objet, attribut, méthode, fonction, type, ...\n",
    "### <a name=\"sect11\"></a>1.1 Manipulation des types natifs (focus séquences)\n",
    "Python dispose de base d'un certain nombre de type de données. Il s'agit ici de manipuler ceux les plus spécifiques à savoir les séquences : les chaines de caractères, les listes, les tuples, les ranges, les dictionnaires et les ensemble.\n",
    "\n",
    "#### <a name=\"sect111\"></a> 1.1.1. Les chaines de caractères\n",
    "##### Accès aux éléments de la chaine\n",
    "Les caractères de la chaine sont numérotés, on dit qu'ils ont un indice.\n",
    "\n",
    "Si ch est une chaine, ch[i] renverra le caractère de la chaine dont l'index est i"
   ]
  },
  {
   "cell_type": "code",
   "execution_count": 4,
   "metadata": {},
   "outputs": [],
   "source": [
    "# On définit une chaine de caractère :\n",
    "x = \"premier cours de python\""
   ]
  },
  {
   "cell_type": "code",
   "execution_count": 5,
   "metadata": {},
   "outputs": [
    {
     "data": {
      "text/plain": [
       "str"
      ]
     },
     "execution_count": 5,
     "metadata": {},
     "output_type": "execute_result"
    }
   ],
   "source": [
    "# Afficher le type de x avec la fonction type :\n",
    "type(x)"
   ]
  },
  {
   "cell_type": "raw",
   "metadata": {},
   "source": [
    "print(x)"
   ]
  },
  {
   "cell_type": "code",
   "execution_count": 6,
   "metadata": {},
   "outputs": [
    {
     "name": "stdout",
     "output_type": "stream",
     "text": [
      "premier cours de python\n"
     ]
    }
   ],
   "source": [
    "# Afficher la chaine de caractère x grâce à la fonction print :\n",
    "print(x)"
   ]
  },
  {
   "cell_type": "code",
   "execution_count": 7,
   "metadata": {
    "scrolled": true
   },
   "outputs": [
    {
     "name": "stdout",
     "output_type": "stream",
     "text": [
      "y\n",
      "y\n"
     ]
    }
   ],
   "source": [
    "# Sélectionner le \"y\" contenu dans x en utilisant les indices :\n",
    "# 1ère méthode : avec un index positif\n",
    "print(x[18])\n",
    "# 2ème méthode : avec un index négatif\n",
    "print(x[-5])"
   ]
  },
  {
   "cell_type": "code",
   "execution_count": 8,
   "metadata": {},
   "outputs": [
    {
     "data": {
      "text/plain": [
       "23"
      ]
     },
     "execution_count": 8,
     "metadata": {},
     "output_type": "execute_result"
    }
   ],
   "source": [
    "# Afficher la longueur de la chaine de caractère avec la fonction len :\n",
    "len(x)"
   ]
  },
  {
   "cell_type": "code",
   "execution_count": 6,
   "metadata": {},
   "outputs": [
    {
     "ename": "IndexError",
     "evalue": "string index out of range",
     "output_type": "error",
     "traceback": [
      "\u001b[1;31m---------------------------------------------------------------------------\u001b[0m",
      "\u001b[1;31mIndexError\u001b[0m                                Traceback (most recent call last)",
      "\u001b[1;32m<ipython-input-6-1ea7805d1db9>\u001b[0m in \u001b[0;36m<module>\u001b[1;34m()\u001b[0m\n\u001b[0;32m      1\u001b[0m \u001b[1;31m# Sélectionner le 23ème éléments de la chaine de caractère :\u001b[0m\u001b[1;33m\u001b[0m\u001b[1;33m\u001b[0m\u001b[0m\n\u001b[1;32m----> 2\u001b[1;33m \u001b[0mx\u001b[0m\u001b[1;33m[\u001b[0m\u001b[1;36m23\u001b[0m\u001b[1;33m]\u001b[0m\u001b[1;33m\u001b[0m\u001b[0m\n\u001b[0m",
      "\u001b[1;31mIndexError\u001b[0m: string index out of range"
     ]
    }
   ],
   "source": [
    "# Sélectionner le 23ème éléments de la chaine de caractère :\n",
    "x[23]"
   ]
  },
  {
   "cell_type": "markdown",
   "metadata": {},
   "source": [
    "A partir d'une chaine, on peut également extraire une sous-chaine de caractère. Si ch est une chaine, ch[n:p] revoie la sous chaine de ch comprise entre les indices n (inclus) et p (exclus). Si n est manquant, la valeur sera 0; si p est manquant, la valeur sera -1"
   ]
  },
  {
   "cell_type": "code",
   "execution_count": 9,
   "metadata": {},
   "outputs": [
    {
     "data": {
      "text/plain": [
       "'cours'"
      ]
     },
     "execution_count": 9,
     "metadata": {},
     "output_type": "execute_result"
    }
   ],
   "source": [
    "# Extraire le mot \"cours\" de x :\n",
    "x[8:13]"
   ]
  },
  {
   "cell_type": "markdown",
   "metadata": {},
   "source": [
    "Les chaines de caractères sont des objets dits \"immutables\". Cela signifie que l'on ne peut pas les modifier tels quels. Il sera nécessaire de passer par un autre objet si besoin.  "
   ]
  },
  {
   "cell_type": "code",
   "execution_count": 5,
   "metadata": {},
   "outputs": [
    {
     "ename": "TypeError",
     "evalue": "'str' object does not support item assignment",
     "output_type": "error",
     "traceback": [
      "\u001b[1;31m---------------------------------------------------------------------------\u001b[0m",
      "\u001b[1;31mTypeError\u001b[0m                                 Traceback (most recent call last)",
      "\u001b[1;32m<ipython-input-5-e3e989014d0e>\u001b[0m in \u001b[0;36m<module>\u001b[1;34m()\u001b[0m\n\u001b[0;32m      1\u001b[0m \u001b[1;31m# Essayer de remplacer le 1er caractère par un 'P'\u001b[0m\u001b[1;33m\u001b[0m\u001b[1;33m\u001b[0m\u001b[0m\n\u001b[1;32m----> 2\u001b[1;33m \u001b[0mx\u001b[0m\u001b[1;33m[\u001b[0m\u001b[1;36m0\u001b[0m\u001b[1;33m]\u001b[0m \u001b[1;33m=\u001b[0m \u001b[1;34m'P'\u001b[0m\u001b[1;33m\u001b[0m\u001b[0m\n\u001b[0m",
      "\u001b[1;31mTypeError\u001b[0m: 'str' object does not support item assignment"
     ]
    }
   ],
   "source": [
    "# Essayer de remplacer le 1er caractère par un 'P'\n",
    "x[0] = 'P'"
   ]
  },
  {
   "cell_type": "code",
   "execution_count": 10,
   "metadata": {},
   "outputs": [
    {
     "data": {
      "text/plain": [
       "'Premier cours de python'"
      ]
     },
     "execution_count": 10,
     "metadata": {},
     "output_type": "execute_result"
    }
   ],
   "source": [
    "# Créer un nouvel objet 'new_x' qui commence par un 'P' puis la chaine x à partir de 1\n",
    "new_x = 'P'+x[1:]\n",
    "new_x"
   ]
  },
  {
   "cell_type": "markdown",
   "metadata": {},
   "source": [
    "##### Formatage de chaines\n",
    "On peut \"fabriquer\" de nouvelles chaines en insérant des variables. Dans la chaine que l'on veut fabriquer, on met {} à chaque position où on voudrait qu'il y ait une variable. Puis, on termine par .format(variable1, variable2).\n",
    "\n"
   ]
  },
  {
   "cell_type": "code",
   "execution_count": 11,
   "metadata": {},
   "outputs": [
    {
     "name": "stdout",
     "output_type": "stream",
     "text": [
      "Ceci est mon premier cours de python à Soft\n"
     ]
    }
   ],
   "source": [
    "# Afficher \"Ceci est mon premier cours de python à Soft\" en utilisant la variable x :\n",
    "print (\"Ceci est mon {} à Soft\".format(x))"
   ]
  },
  {
   "cell_type": "markdown",
   "metadata": {},
   "source": [
    "On peut également définir chaque élément par un nom. Dans ce cas, on insère {nom} dans la chaine puis on termine par .format(nom=variable1)"
   ]
  },
  {
   "cell_type": "code",
   "execution_count": 10,
   "metadata": {},
   "outputs": [
    {
     "name": "stdout",
     "output_type": "stream",
     "text": [
      "Ceci est mon premier cours de python à Soft\n"
     ]
    }
   ],
   "source": [
    "# Recommencer en utilisant la version avec un nom :\n",
    "print(\"Ceci est mon {n} à Soft\".format(n=x))"
   ]
  },
  {
   "cell_type": "markdown",
   "metadata": {},
   "source": [
    "##### Quelques méthodes et fonctions utiles\n",
    "Les chaines de caractères étant immutables, aucune de ses méthodes ne modifie l'objet d'origine mais elles renvoient toutes un nouvel objet, qui est la chaîne modifiée."
   ]
  },
  {
   "cell_type": "code",
   "execution_count": null,
   "metadata": {},
   "outputs": [],
   "source": [
    "# Afficher l'ensemble des méthodes disponibles pour les chaines de caractères en utilisant la fonction help :\n",
    "help(str)"
   ]
  },
  {
   "cell_type": "code",
   "execution_count": 12,
   "metadata": {},
   "outputs": [
    {
     "data": {
      "text/plain": [
       "14"
      ]
     },
     "execution_count": 12,
     "metadata": {},
     "output_type": "execute_result"
    }
   ],
   "source": [
    "# Rechercher dans x la sous-chaine de caractères \"de\" :\n",
    "x.find(\"de\")"
   ]
  },
  {
   "cell_type": "code",
   "execution_count": 8,
   "metadata": {},
   "outputs": [
    {
     "data": {
      "text/plain": [
       "-1"
      ]
     },
     "execution_count": 8,
     "metadata": {},
     "output_type": "execute_result"
    }
   ],
   "source": [
    "# Rechercher dans x la sous-chaine de caractères \"un\" :\n",
    "x.find(\"un\")"
   ]
  },
  {
   "cell_type": "code",
   "execution_count": 10,
   "metadata": {},
   "outputs": [
    {
     "data": {
      "text/plain": [
       "False"
      ]
     },
     "execution_count": 10,
     "metadata": {},
     "output_type": "execute_result"
    }
   ],
   "source": [
    "# Tester si la chaine x est un entier :\n",
    "x.isalnum()"
   ]
  },
  {
   "cell_type": "code",
   "execution_count": 13,
   "metadata": {},
   "outputs": [
    {
     "ename": "AttributeError",
     "evalue": "'str' object has no attribute 'isint'",
     "output_type": "error",
     "traceback": [
      "\u001b[1;31m---------------------------------------------------------------------------\u001b[0m",
      "\u001b[1;31mAttributeError\u001b[0m                            Traceback (most recent call last)",
      "\u001b[1;32m<ipython-input-13-01ecd55163c4>\u001b[0m in \u001b[0;36m<module>\u001b[1;34m()\u001b[0m\n\u001b[1;32m----> 1\u001b[1;33m \u001b[0mx\u001b[0m\u001b[1;33m.\u001b[0m\u001b[0misint\u001b[0m\u001b[1;33m(\u001b[0m\u001b[1;33m)\u001b[0m\u001b[1;33m\u001b[0m\u001b[0m\n\u001b[0m",
      "\u001b[1;31mAttributeError\u001b[0m: 'str' object has no attribute 'isint'"
     ]
    }
   ],
   "source": [
    "x.isint()"
   ]
  },
  {
   "cell_type": "code",
   "execution_count": 11,
   "metadata": {},
   "outputs": [],
   "source": [
    "# Convertir la chaine x en majuscule :\n",
    "x = x.upper()"
   ]
  },
  {
   "cell_type": "code",
   "execution_count": 14,
   "metadata": {},
   "outputs": [],
   "source": [
    "# Splitter la chaine x en utilisant le séparateur ' ' puis l'affecter à un nouvel objet y :\n",
    "y = x.split()"
   ]
  },
  {
   "cell_type": "code",
   "execution_count": 15,
   "metadata": {},
   "outputs": [
    {
     "data": {
      "text/plain": [
       "['premier', 'cours', 'de', 'python']"
      ]
     },
     "execution_count": 15,
     "metadata": {},
     "output_type": "execute_result"
    }
   ],
   "source": [
    "y"
   ]
  },
  {
   "cell_type": "code",
   "execution_count": 14,
   "metadata": {},
   "outputs": [
    {
     "data": {
      "text/plain": [
       "list"
      ]
     },
     "execution_count": 14,
     "metadata": {},
     "output_type": "execute_result"
    }
   ],
   "source": [
    "# Afficher le type de y avec la fonction type :\n",
    "type(y)"
   ]
  },
  {
   "cell_type": "code",
   "execution_count": 16,
   "metadata": {},
   "outputs": [
    {
     "ename": "NameError",
     "evalue": "name 'find' is not defined",
     "output_type": "error",
     "traceback": [
      "\u001b[1;31m---------------------------------------------------------------------------\u001b[0m",
      "\u001b[1;31mNameError\u001b[0m                                 Traceback (most recent call last)",
      "\u001b[1;32m<ipython-input-16-8179b288496f>\u001b[0m in \u001b[0;36m<module>\u001b[1;34m()\u001b[0m\n\u001b[1;32m----> 1\u001b[1;33m \u001b[0mhelp\u001b[0m\u001b[1;33m(\u001b[0m\u001b[0mfind\u001b[0m\u001b[1;33m)\u001b[0m\u001b[1;33m\u001b[0m\u001b[0m\n\u001b[0m",
      "\u001b[1;31mNameError\u001b[0m: name 'find' is not defined"
     ]
    }
   ],
   "source": []
  },
  {
   "cell_type": "markdown",
   "metadata": {},
   "source": [
    "#### <a name=\"sect112\"></a> 1.1.2. Les listes"
   ]
  },
  {
   "cell_type": "markdown",
   "metadata": {},
   "source": [
    "##### Accès aux éléments de la liste\n",
    "On accède aux éléments d'une liste de la même façon qu'on accède aux caractères d'une chaîne de caractères : on indique entre crochets l'indice de l'élément qui nous intéresse."
   ]
  },
  {
   "cell_type": "code",
   "execution_count": 20,
   "metadata": {},
   "outputs": [
    {
     "data": {
      "text/plain": [
       "'PREMIER'"
      ]
     },
     "execution_count": 20,
     "metadata": {},
     "output_type": "execute_result"
    }
   ],
   "source": [
    "# Sélectionner le 1ère élément de la liste y :\n",
    "y[0]"
   ]
  },
  {
   "cell_type": "code",
   "execution_count": 21,
   "metadata": {},
   "outputs": [
    {
     "data": {
      "text/plain": [
       "'PYTHON'"
      ]
     },
     "execution_count": 21,
     "metadata": {},
     "output_type": "execute_result"
    }
   ],
   "source": [
    "# Sélectionner le dernier élément de la liste y :\n",
    "y[-1]"
   ]
  },
  {
   "cell_type": "code",
   "execution_count": 22,
   "metadata": {},
   "outputs": [
    {
     "data": {
      "text/plain": [
       "4"
      ]
     },
     "execution_count": 22,
     "metadata": {},
     "output_type": "execute_result"
    }
   ],
   "source": [
    "# Afficher le nombre d'éléments de la liste y en utilisant la fonction len :\n",
    "len(y)"
   ]
  },
  {
   "cell_type": "markdown",
   "metadata": {},
   "source": [
    "##### Quelques méthodes et fonctions utiles\n",
    "Contrairement à la classe str, la classe list permet de remplacer un élément par un autre. Les listes sont en effet des types mutables."
   ]
  },
  {
   "cell_type": "code",
   "execution_count": null,
   "metadata": {},
   "outputs": [],
   "source": [
    "# Afficher l'ensemble des méthodes disponibles pour les listes :\n",
    "help(list)"
   ]
  },
  {
   "cell_type": "code",
   "execution_count": 14,
   "metadata": {},
   "outputs": [
    {
     "data": {
      "text/plain": [
       "['PREMIER', 'COURS', 'DE', 'PYTHON', 'fondamentaux']"
      ]
     },
     "execution_count": 14,
     "metadata": {},
     "output_type": "execute_result"
    }
   ],
   "source": [
    "# Ajouter 'fondamentaux' à la fin de la liste y :\n",
    "y.append('fondamentaux')\n",
    "y"
   ]
  },
  {
   "cell_type": "code",
   "execution_count": 15,
   "metadata": {},
   "outputs": [
    {
     "data": {
      "text/plain": [
       "['PREMIER', 'COURS', 'DE', 'PYTHON', 'DE', 'fondamentaux']"
      ]
     },
     "execution_count": 15,
     "metadata": {},
     "output_type": "execute_result"
    }
   ],
   "source": [
    "# Ajouter 'DE' en 5ème position de la liste :\n",
    "y.insert(4,'DE')\n",
    "y"
   ]
  },
  {
   "cell_type": "code",
   "execution_count": 16,
   "metadata": {},
   "outputs": [
    {
     "data": {
      "text/plain": [
       "['PREMIER', 'COURS', 'PYTHON', 'DE', 'fondamentaux']"
      ]
     },
     "execution_count": 16,
     "metadata": {},
     "output_type": "execute_result"
    }
   ],
   "source": [
    "# Supprimer l'élément 'DE' de la liste y :\n",
    "y.remove('DE')\n",
    "y"
   ]
  },
  {
   "cell_type": "markdown",
   "metadata": {},
   "source": [
    "Les listes sont des objets qui peuvent en contenir d'autres. Ce sont donc des séquences, comme les chaînes de caractères, mais au lieu de contenir des caractères, elles peuvent contenir n'importe quel objet (str, int, list, etc.)"
   ]
  },
  {
   "cell_type": "code",
   "execution_count": 17,
   "metadata": {},
   "outputs": [
    {
     "data": {
      "text/plain": [
       "['PREMIER', 'COURS', 'PYTHON', 'DE', 'fondamentaux', [1, 2, 3]]"
      ]
     },
     "execution_count": 17,
     "metadata": {},
     "output_type": "execute_result"
    }
   ],
   "source": [
    "# Ajouter la sous-liste [1,2,3] à la liste y :\n",
    "y.append([1,2,3])\n",
    "\n",
    "# la méthode append appliquée à une liste ne renvoie rien en sortie mais actualise l'objet auquel elle est appliquée\n",
    "y"
   ]
  },
  {
   "cell_type": "code",
   "execution_count": 17,
   "metadata": {},
   "outputs": [],
   "source": [
    "z=y"
   ]
  },
  {
   "cell_type": "code",
   "execution_count": 18,
   "metadata": {},
   "outputs": [
    {
     "name": "stdout",
     "output_type": "stream",
     "text": [
      "['premier', 'cours', 'de', 'python']\n"
     ]
    }
   ],
   "source": [
    "print(z)"
   ]
  },
  {
   "cell_type": "code",
   "execution_count": 18,
   "metadata": {},
   "outputs": [
    {
     "data": {
      "text/plain": [
       "2"
      ]
     },
     "execution_count": 18,
     "metadata": {},
     "output_type": "execute_result"
    }
   ],
   "source": [
    "# Accéder au chiffre 2 de la sous liste de y : dernier élement de la première liste et second element de la sous liste\n",
    "y[-1][1]"
   ]
  },
  {
   "cell_type": "code",
   "execution_count": 21,
   "metadata": {},
   "outputs": [
    {
     "data": {
      "text/plain": [
       "2"
      ]
     },
     "execution_count": 21,
     "metadata": {},
     "output_type": "execute_result"
    }
   ],
   "source": [
    "# pareil\n",
    "y[5][1]"
   ]
  },
  {
   "cell_type": "markdown",
   "metadata": {},
   "source": [
    "##### Parcours des listes\n",
    "Il existe plusieurs façons de parcourir une liste :\n",
    "- une boucle while sur les index\n",
    "- une boucle for sur les éléments\n",
    "- la fonction enumerate \n",
    "- liste active : on construit une liste à partir du parcours d'une liste\n"
   ]
  },
  {
   "cell_type": "code",
   "execution_count": 20,
   "metadata": {},
   "outputs": [
    {
     "name": "stdout",
     "output_type": "stream",
     "text": [
      "PREMIER\n",
      "COURS\n",
      "PYTHON\n",
      "DE\n",
      "fondamentaux\n",
      "[1, 2, 3]\n"
     ]
    }
   ],
   "source": [
    "# Afficher 1 à 1 les éléments de y avec une boucle while :\n",
    "i = 0\n",
    "while i<len(y):\n",
    "    print(y[i])\n",
    "    i+=1"
   ]
  },
  {
   "cell_type": "code",
   "execution_count": 21,
   "metadata": {},
   "outputs": [
    {
     "name": "stdout",
     "output_type": "stream",
     "text": [
      "PREMIER\n",
      "COURS\n",
      "PYTHON\n",
      "DE\n",
      "fondamentaux\n",
      "[1, 2, 3]\n"
     ]
    }
   ],
   "source": [
    "# Afficher 1 à 1 les éléments de y avec une boucle for :\n",
    "for element in y :\n",
    "    print(element)"
   ]
  },
  {
   "cell_type": "code",
   "execution_count": 21,
   "metadata": {},
   "outputs": [
    {
     "name": "stdout",
     "output_type": "stream",
     "text": [
      "premier\n",
      "cours\n",
      "de\n",
      "python\n"
     ]
    }
   ],
   "source": [
    "for i in range(len(y)+1):\n",
    "    print(y[i])"
   ]
  },
  {
   "cell_type": "code",
   "execution_count": 22,
   "metadata": {},
   "outputs": [
    {
     "name": "stdout",
     "output_type": "stream",
     "text": [
      "0 PREMIER\n",
      "1 COURS\n",
      "2 PYTHON\n",
      "3 DE\n",
      "4 fondamentaux\n",
      "5 [1, 2, 3]\n"
     ]
    }
   ],
   "source": [
    "# Afficher 1 à 1 les éléments de y avec leur indices :\n",
    "for index, element in enumerate(y):\n",
    "    print(index,element)"
   ]
  },
  {
   "cell_type": "code",
   "execution_count": 23,
   "metadata": {},
   "outputs": [
    {
     "data": {
      "text/plain": [
       "['PREMIER', 'COURS', 'PYTHON', 'DE', 'fondamentaux', [1, 2, 3]]"
      ]
     },
     "execution_count": 23,
     "metadata": {},
     "output_type": "execute_result"
    }
   ],
   "source": [
    "[element for element in y]"
   ]
  },
  {
   "cell_type": "code",
   "execution_count": 26,
   "metadata": {},
   "outputs": [
    {
     "name": "stdout",
     "output_type": "stream",
     "text": [
      "1\n"
     ]
    },
    {
     "data": {
      "text/plain": [
       "False"
      ]
     },
     "execution_count": 26,
     "metadata": {},
     "output_type": "execute_result"
    }
   ],
   "source": [
    "num=7\n",
    "print(num%2)\n",
    "num%2==0"
   ]
  },
  {
   "cell_type": "code",
   "execution_count": 29,
   "metadata": {},
   "outputs": [
    {
     "data": {
      "text/plain": [
       "False"
      ]
     },
     "execution_count": 29,
     "metadata": {},
     "output_type": "execute_result"
    }
   ],
   "source": [
    "type(num)=='int'"
   ]
  },
  {
   "cell_type": "markdown",
   "metadata": {},
   "source": [
    "##### Modification des listes\n",
    "Il est possible de concaténer ensemble plusieurs listes, de faire une modification similaire à l'ensemble des éléments d'une liste ou bien de supprimer un élément."
   ]
  },
  {
   "cell_type": "code",
   "execution_count": 32,
   "metadata": {},
   "outputs": [],
   "source": [
    "# Créer une nouvelle liste z qui contient les éléments 1,2,3,4 :\n",
    "z = [1,2,3,4]"
   ]
  },
  {
   "cell_type": "code",
   "execution_count": 36,
   "metadata": {},
   "outputs": [],
   "source": [
    "# Multiplier l'ensemble des éléments, multiples de 2, par 3 en utilisant la syntaxe d'une boucle for :\n",
    "z = [ele*3 for ele in z if ele%2==0]"
   ]
  },
  {
   "cell_type": "code",
   "execution_count": 39,
   "metadata": {},
   "outputs": [
    {
     "name": "stdout",
     "output_type": "stream",
     "text": [
      "54\n",
      "108\n",
      "[54, 108]\n"
     ]
    }
   ],
   "source": [
    "# parcourir la liste et ajouter au fur et à mesure dans l nouvelle liste\n",
    "l=[]\n",
    "for ele in z:\n",
    "    if ele%2==0:\n",
    "        l.append(ele*3)\n",
    "        print(ele*3)\n",
    "print(l)"
   ]
  },
  {
   "cell_type": "code",
   "execution_count": 26,
   "metadata": {},
   "outputs": [
    {
     "data": {
      "text/plain": [
       "[36, 144]"
      ]
     },
     "execution_count": 26,
     "metadata": {},
     "output_type": "execute_result"
    }
   ],
   "source": [
    "# au carré\n",
    "comblineaire=[x**2 for x in z]\n",
    "comblineaire"
   ]
  },
  {
   "cell_type": "code",
   "execution_count": 27,
   "metadata": {},
   "outputs": [],
   "source": [
    "# Concaténer les listes y et z :\n",
    "y.extend(z)"
   ]
  },
  {
   "cell_type": "code",
   "execution_count": 28,
   "metadata": {},
   "outputs": [
    {
     "name": "stdout",
     "output_type": "stream",
     "text": [
      "['PREMIER', 'COURS', 'PYTHON', 'DE', 'fondamentaux', [1, 2, 3], 6, 12]\n"
     ]
    }
   ],
   "source": [
    "print(y)"
   ]
  },
  {
   "cell_type": "code",
   "execution_count": 31,
   "metadata": {},
   "outputs": [
    {
     "name": "stdout",
     "output_type": "stream",
     "text": [
      "['PREMIER', 'COURS', 'PYTHON', 'DE', 'fondamentaux', [1, 2, 3], 6, 12, 6, 12, 6, 12]\n"
     ]
    }
   ],
   "source": [
    "#  l'opérteur + concatène aussi\n",
    "print(y+z)"
   ]
  },
  {
   "cell_type": "code",
   "execution_count": 29,
   "metadata": {},
   "outputs": [],
   "source": [
    "# Supprimer le 3ème élément de la liste y :\n",
    "del y[2]"
   ]
  },
  {
   "cell_type": "markdown",
   "metadata": {},
   "source": [
    "#### <a name=\"sect113\"></a> 1.1.3. Les tuples\n",
    "Les tuples sont des séquences, assez semblables aux listes, sauf qu'on ne peut modifier un tuple après qu'il ait été créé. Cela signifie qu'on définit le contenu d'un tuple (les objets qu'il doit contenir) lors de sa création, mais qu'on ne peut en ajouter ou en retirer par la suite.\n",
    "\n",
    "Contrairement aux listes qui utilisent des crochets pour être définies, les tuples utilisent des parenthèses."
   ]
  },
  {
   "cell_type": "code",
   "execution_count": 30,
   "metadata": {},
   "outputs": [],
   "source": [
    "# Créer un tuple 'mon_tuple' contenant les éléments 1, 'Bonjour' :\n",
    "mon_tuple = (1,'Bonjour')"
   ]
  },
  {
   "cell_type": "code",
   "execution_count": null,
   "metadata": {
    "scrolled": true
   },
   "outputs": [],
   "source": [
    "# Afficher l'ensemble des méthodes associées aux tuples :\n",
    "help(tuple)"
   ]
  },
  {
   "cell_type": "markdown",
   "metadata": {},
   "source": [
    "##### Accès aux éléments d'un tuple\n",
    "Cette partie fonctionne de la même façon que les chaines de caractères et les listes. En effet, les tuples sont indexés."
   ]
  },
  {
   "cell_type": "code",
   "execution_count": 38,
   "metadata": {},
   "outputs": [
    {
     "data": {
      "text/plain": [
       "'Bonjour'"
      ]
     },
     "execution_count": 38,
     "metadata": {},
     "output_type": "execute_result"
    }
   ],
   "source": [
    "# Accèder à l'élément 'Bonjour' de 'mon_tuple' :\n",
    "mon_tuple[1]"
   ]
  },
  {
   "cell_type": "code",
   "execution_count": 36,
   "metadata": {},
   "outputs": [
    {
     "ename": "TypeError",
     "evalue": "'tuple' object does not support item assignment",
     "output_type": "error",
     "traceback": [
      "\u001b[1;31m---------------------------------------------------------------------------\u001b[0m",
      "\u001b[1;31mTypeError\u001b[0m                                 Traceback (most recent call last)",
      "\u001b[1;32m<ipython-input-36-2e7f11e64bf9>\u001b[0m in \u001b[0;36m<module>\u001b[1;34m()\u001b[0m\n\u001b[0;32m      1\u001b[0m \u001b[1;31m# immuable 'tuple' object does not support item assignment\u001b[0m\u001b[1;33m\u001b[0m\u001b[1;33m\u001b[0m\u001b[0m\n\u001b[1;32m----> 2\u001b[1;33m \u001b[0mmon_tuple\u001b[0m\u001b[1;33m[\u001b[0m\u001b[1;36m0\u001b[0m\u001b[1;33m]\u001b[0m\u001b[1;33m=\u001b[0m\u001b[1;34m'chien'\u001b[0m\u001b[1;33m\u001b[0m\u001b[0m\n\u001b[0m",
      "\u001b[1;31mTypeError\u001b[0m: 'tuple' object does not support item assignment"
     ]
    }
   ],
   "source": [
    "# modifier le tuple\n",
    "# immuable 'tuple' object does not support item assignment\n",
    "mon_tuple[0]='chien'"
   ]
  },
  {
   "cell_type": "markdown",
   "metadata": {},
   "source": [
    "#### <a name=\"sect114\"></a> 1.1.4. Les ranges\n",
    "Afin de créer des listes contenant une suite de nombres, on utilise la classe range.\n",
    "\n",
    "Pour instancier un objet de cette classe, 3 paramètres sont à renseigner :\n",
    "- la valeur de départ (incluse), qui vaut 1 si non renseignée\n",
    "- la valeur finale (excluse), obligatoire\n",
    "- le pas, qui vaut 1 si non renseigné"
   ]
  },
  {
   "cell_type": "code",
   "execution_count": 44,
   "metadata": {},
   "outputs": [],
   "source": [
    "# Créer un range 'mon_range' comprenant l'ensemble des nombres pairs dans l'intervalle [0-10]\n",
    "mon_range = range(0,11,2)"
   ]
  },
  {
   "cell_type": "code",
   "execution_count": 49,
   "metadata": {},
   "outputs": [
    {
     "name": "stdout",
     "output_type": "stream",
     "text": [
      "10\n",
      "[0, 2, 4, 6, 8, 10]\n"
     ]
    }
   ],
   "source": [
    "print(mon_range[5])\n",
    "print(list(mon_range))"
   ]
  },
  {
   "cell_type": "code",
   "execution_count": 52,
   "metadata": {},
   "outputs": [
    {
     "name": "stdout",
     "output_type": "stream",
     "text": [
      "<map object at 0x0000014479E4F8D0>\n"
     ]
    }
   ],
   "source": [
    "# on applique aux éléments du range la fonction carré\n",
    "z=map(lambda x:x**2,mon_range)\n",
    "# le map ne renvoie rien\n",
    "print(z)"
   ]
  },
  {
   "cell_type": "code",
   "execution_count": 53,
   "metadata": {},
   "outputs": [
    {
     "name": "stdout",
     "output_type": "stream",
     "text": [
      "[0, 4, 16, 36, 64, 100]\n"
     ]
    }
   ],
   "source": [
    "print(list(z))"
   ]
  },
  {
   "cell_type": "code",
   "execution_count": null,
   "metadata": {
    "scrolled": true
   },
   "outputs": [],
   "source": [
    "help(range)"
   ]
  },
  {
   "cell_type": "code",
   "execution_count": 42,
   "metadata": {},
   "outputs": [
    {
     "data": {
      "text/plain": [
       "6"
      ]
     },
     "execution_count": 42,
     "metadata": {},
     "output_type": "execute_result"
    }
   ],
   "source": [
    "# Afficher le nombre de valeur contenue dans mon_range\n",
    "len(mon_range)"
   ]
  },
  {
   "cell_type": "code",
   "execution_count": 43,
   "metadata": {},
   "outputs": [
    {
     "name": "stdout",
     "output_type": "stream",
     "text": [
      "0\n",
      "2\n",
      "4\n",
      "6\n",
      "8\n",
      "10\n"
     ]
    }
   ],
   "source": [
    "# Visualiser l'ensemble des valeurs de mon range\n",
    "for i in mon_range :\n",
    "    print(i)\n"
   ]
  },
  {
   "cell_type": "code",
   "execution_count": 34,
   "metadata": {},
   "outputs": [
    {
     "data": {
      "text/plain": [
       "[0, 2, 4, 6, 8, 10]"
      ]
     },
     "execution_count": 34,
     "metadata": {},
     "output_type": "execute_result"
    }
   ],
   "source": [
    "[i for i in mon_range]"
   ]
  },
  {
   "cell_type": "markdown",
   "metadata": {},
   "source": [
    "#### <a name=\"sect115\"></a> 1.1.5. Les dictionnaires\n",
    "Les dictionnaires sont des objets pouvant en contenir d'autres, à l'instar des listes. Cependant, au lieu d'héberger des informations dans un ordre précis, ils associent chaque objet contenu (= une valeur) à une clé (la plupart du temps, une chaîne de caractères). Par exemple, un dictionnaire peut contenir un carnet d'adresses et on accède à chaque contact en précisant son nom."
   ]
  },
  {
   "cell_type": "markdown",
   "metadata": {},
   "source": [
    "##### Création de dictionnaire\n",
    "De la même façon que les crochets délimitent les listes, les parenthéses délimitent les tuples, les dictionnaires sont délimités par les accolades."
   ]
  },
  {
   "cell_type": "code",
   "execution_count": 54,
   "metadata": {},
   "outputs": [],
   "source": [
    "# Créer 'mon_dico', un dictionnaire vide :\n",
    "mon_dico = dict()\n",
    "# ou mon_dico = {}"
   ]
  },
  {
   "cell_type": "code",
   "execution_count": 44,
   "metadata": {
    "collapsed": true
   },
   "outputs": [
    {
     "name": "stdout",
     "output_type": "stream",
     "text": [
      "Help on class dict in module builtins:\n",
      "\n",
      "class dict(object)\n",
      " |  dict() -> new empty dictionary\n",
      " |  dict(mapping) -> new dictionary initialized from a mapping object's\n",
      " |      (key, value) pairs\n",
      " |  dict(iterable) -> new dictionary initialized as if via:\n",
      " |      d = {}\n",
      " |      for k, v in iterable:\n",
      " |          d[k] = v\n",
      " |  dict(**kwargs) -> new dictionary initialized with the name=value pairs\n",
      " |      in the keyword argument list.  For example:  dict(one=1, two=2)\n",
      " |  \n",
      " |  Methods defined here:\n",
      " |  \n",
      " |  __contains__(self, key, /)\n",
      " |      True if D has a key k, else False.\n",
      " |  \n",
      " |  __delitem__(self, key, /)\n",
      " |      Delete self[key].\n",
      " |  \n",
      " |  __eq__(self, value, /)\n",
      " |      Return self==value.\n",
      " |  \n",
      " |  __ge__(self, value, /)\n",
      " |      Return self>=value.\n",
      " |  \n",
      " |  __getattribute__(self, name, /)\n",
      " |      Return getattr(self, name).\n",
      " |  \n",
      " |  __getitem__(...)\n",
      " |      x.__getitem__(y) <==> x[y]\n",
      " |  \n",
      " |  __gt__(self, value, /)\n",
      " |      Return self>value.\n",
      " |  \n",
      " |  __init__(self, /, *args, **kwargs)\n",
      " |      Initialize self.  See help(type(self)) for accurate signature.\n",
      " |  \n",
      " |  __iter__(self, /)\n",
      " |      Implement iter(self).\n",
      " |  \n",
      " |  __le__(self, value, /)\n",
      " |      Return self<=value.\n",
      " |  \n",
      " |  __len__(self, /)\n",
      " |      Return len(self).\n",
      " |  \n",
      " |  __lt__(self, value, /)\n",
      " |      Return self<value.\n",
      " |  \n",
      " |  __ne__(self, value, /)\n",
      " |      Return self!=value.\n",
      " |  \n",
      " |  __new__(*args, **kwargs) from builtins.type\n",
      " |      Create and return a new object.  See help(type) for accurate signature.\n",
      " |  \n",
      " |  __repr__(self, /)\n",
      " |      Return repr(self).\n",
      " |  \n",
      " |  __setitem__(self, key, value, /)\n",
      " |      Set self[key] to value.\n",
      " |  \n",
      " |  __sizeof__(...)\n",
      " |      D.__sizeof__() -> size of D in memory, in bytes\n",
      " |  \n",
      " |  clear(...)\n",
      " |      D.clear() -> None.  Remove all items from D.\n",
      " |  \n",
      " |  copy(...)\n",
      " |      D.copy() -> a shallow copy of D\n",
      " |  \n",
      " |  fromkeys(iterable, value=None, /) from builtins.type\n",
      " |      Returns a new dict with keys from iterable and values equal to value.\n",
      " |  \n",
      " |  get(...)\n",
      " |      D.get(k[,d]) -> D[k] if k in D, else d.  d defaults to None.\n",
      " |  \n",
      " |  items(...)\n",
      " |      D.items() -> a set-like object providing a view on D's items\n",
      " |  \n",
      " |  keys(...)\n",
      " |      D.keys() -> a set-like object providing a view on D's keys\n",
      " |  \n",
      " |  pop(...)\n",
      " |      D.pop(k[,d]) -> v, remove specified key and return the corresponding value.\n",
      " |      If key is not found, d is returned if given, otherwise KeyError is raised\n",
      " |  \n",
      " |  popitem(...)\n",
      " |      D.popitem() -> (k, v), remove and return some (key, value) pair as a\n",
      " |      2-tuple; but raise KeyError if D is empty.\n",
      " |  \n",
      " |  setdefault(...)\n",
      " |      D.setdefault(k[,d]) -> D.get(k,d), also set D[k]=d if k not in D\n",
      " |  \n",
      " |  update(...)\n",
      " |      D.update([E, ]**F) -> None.  Update D from dict/iterable E and F.\n",
      " |      If E is present and has a .keys() method, then does:  for k in E: D[k] = E[k]\n",
      " |      If E is present and lacks a .keys() method, then does:  for k, v in E: D[k] = v\n",
      " |      In either case, this is followed by: for k in F:  D[k] = F[k]\n",
      " |  \n",
      " |  values(...)\n",
      " |      D.values() -> an object providing a view on D's values\n",
      " |  \n",
      " |  ----------------------------------------------------------------------\n",
      " |  Data and other attributes defined here:\n",
      " |  \n",
      " |  __hash__ = None\n",
      "\n"
     ]
    }
   ],
   "source": [
    "# Afficher l'ensemble des méthodes d'un dictionnaire :\n",
    "help(dict)"
   ]
  },
  {
   "cell_type": "markdown",
   "metadata": {},
   "source": [
    "Les dictionnaires n'étant pas ordonnés, on ne peut pas utiliser d'index pour les manipuler, ajouter des éléments ou en supprimer. A la place, on utilise des clés qui peuvent être de types distincts"
   ]
  },
  {
   "cell_type": "code",
   "execution_count": 38,
   "metadata": {},
   "outputs": [],
   "source": [
    "# Créer une première association clé - valeur avec comme clé, 'ma_cle', et comme valeur, 'ma_valeur' :\n",
    "mon_dico['ma_cle'] = 'ma_valeur'"
   ]
  },
  {
   "cell_type": "code",
   "execution_count": 39,
   "metadata": {},
   "outputs": [
    {
     "data": {
      "text/plain": [
       "{'ma_cle': 'ma_valeur'}"
      ]
     },
     "execution_count": 39,
     "metadata": {},
     "output_type": "execute_result"
    }
   ],
   "source": [
    "# Afficher le dictionnaire :\n",
    "mon_dico"
   ]
  },
  {
   "cell_type": "code",
   "execution_count": 40,
   "metadata": {},
   "outputs": [],
   "source": [
    "# Ajouter une nouvelle association avec comme clé, 'ma_cle' et comme valeur, 'autre_valeur' :\n",
    "mon_dico['ma_cle'] = 'autre_valeur'"
   ]
  },
  {
   "cell_type": "code",
   "execution_count": 41,
   "metadata": {},
   "outputs": [
    {
     "data": {
      "text/plain": [
       "{'ma_cle': 'autre_valeur'}"
      ]
     },
     "execution_count": 41,
     "metadata": {},
     "output_type": "execute_result"
    }
   ],
   "source": [
    "# Réafficher le dictionnaire :\n",
    "mon_dico"
   ]
  },
  {
   "cell_type": "markdown",
   "metadata": {},
   "source": [
    "Il est également de créer un dictionnaire directement avec des valeurs."
   ]
  },
  {
   "cell_type": "code",
   "execution_count": 42,
   "metadata": {},
   "outputs": [],
   "source": [
    "# Remplacer le dictionnaire existant par un nouveau avec les associations clés-valeurs suivantes : \n",
    "# login - [1,2,3] et pw - ['azerty','qwerty','motdepasse']\n",
    "mon_dico = {'login':[1,2,3], 'pw':['azerty','qwerty','motdepasse']}"
   ]
  },
  {
   "cell_type": "code",
   "execution_count": 43,
   "metadata": {},
   "outputs": [
    {
     "data": {
      "text/plain": [
       "{'login': [1, 2, 3], 'pw': ['azerty', 'qwerty', 'motdepasse']}"
      ]
     },
     "execution_count": 43,
     "metadata": {},
     "output_type": "execute_result"
    }
   ],
   "source": [
    "mon_dico"
   ]
  },
  {
   "cell_type": "markdown",
   "metadata": {},
   "source": [
    "##### Parcours des dictionnaires\n",
    "Les dictionnaires peuvent être parcourus de 3 façons :\n",
    "- en parcourant les clés avec la méthode keys\n",
    "- en parcourant les valeurs avec la méthode values\n",
    "- en parcourant l'association clé-valeur avec la méthode items"
   ]
  },
  {
   "cell_type": "code",
   "execution_count": 44,
   "metadata": {},
   "outputs": [
    {
     "name": "stdout",
     "output_type": "stream",
     "text": [
      "login\n",
      "pw\n"
     ]
    }
   ],
   "source": [
    "# Afficher 1 à 1 les clés de mon_dico :\n",
    "for cles in mon_dico.keys():\n",
    "    print(cles)"
   ]
  },
  {
   "cell_type": "code",
   "execution_count": 47,
   "metadata": {},
   "outputs": [
    {
     "name": "stdout",
     "output_type": "stream",
     "text": [
      "[1, 2, 3]\n",
      "['azerty', 'qwerty', 'motdepasse']\n"
     ]
    }
   ],
   "source": [
    "# Afficher 1 à 1 les valeurs de mon_dico :\n",
    "for valeurs in mon_dico.values() :\n",
    "    print(valeurs)"
   ]
  },
  {
   "cell_type": "code",
   "execution_count": 46,
   "metadata": {},
   "outputs": [
    {
     "name": "stdout",
     "output_type": "stream",
     "text": [
      "[1, 2, 3]\n",
      "['azerty', 'qwerty', 'motdepasse']\n"
     ]
    }
   ],
   "source": [
    "# ou\n",
    "for cles in mon_dico.keys():\n",
    "    print(mon_dico[cles])"
   ]
  },
  {
   "cell_type": "code",
   "execution_count": 53,
   "metadata": {},
   "outputs": [
    {
     "name": "stdout",
     "output_type": "stream",
     "text": [
      "login [1, 2, 3]\n",
      "pw ['azerty', 'qwerty', 'motdepasse']\n"
     ]
    }
   ],
   "source": [
    "# Afficher 1 à 1 les associations clé-valeur de mon_dico :\n",
    "for cle,valeur in mon_dico.items() :\n",
    "    print(cle,valeur)"
   ]
  },
  {
   "cell_type": "markdown",
   "metadata": {},
   "source": [
    "Sérialisation avec JSON (ne marche pas sur les DF!), sous forme de dictionnaire"
   ]
  },
  {
   "cell_type": "code",
   "execution_count": 114,
   "metadata": {},
   "outputs": [],
   "source": [
    "import json\n",
    "# on sauvegarde le dictionnaire avec la librairie json\n",
    "with open(\"exemple.json\", \"w\") as f:\n",
    "    json.dump(mon_dico, f)"
   ]
  },
  {
   "cell_type": "code",
   "execution_count": 117,
   "metadata": {},
   "outputs": [],
   "source": [
    "del mon_dico"
   ]
  },
  {
   "cell_type": "code",
   "execution_count": 118,
   "metadata": {},
   "outputs": [
    {
     "ename": "NameError",
     "evalue": "name 'mon_dico' is not defined",
     "output_type": "error",
     "traceback": [
      "\u001b[1;31m---------------------------------------------------------------------------\u001b[0m",
      "\u001b[1;31mNameError\u001b[0m                                 Traceback (most recent call last)",
      "\u001b[1;32m<ipython-input-118-9a485e90eb8d>\u001b[0m in \u001b[0;36m<module>\u001b[1;34m()\u001b[0m\n\u001b[1;32m----> 1\u001b[1;33m \u001b[0mprint\u001b[0m\u001b[1;33m(\u001b[0m\u001b[0mmon_dico\u001b[0m\u001b[1;33m)\u001b[0m\u001b[1;33m\u001b[0m\u001b[0m\n\u001b[0m",
      "\u001b[1;31mNameError\u001b[0m: name 'mon_dico' is not defined"
     ]
    }
   ],
   "source": [
    "print(mon_dico)"
   ]
  },
  {
   "cell_type": "code",
   "execution_count": 119,
   "metadata": {},
   "outputs": [
    {
     "name": "stdout",
     "output_type": "stream",
     "text": [
      "{'login': [1, 2, 3], 'pw': ['azerty', 'qwerty', 'motdepasse']}\n"
     ]
    }
   ],
   "source": [
    "# on relit le dictionnaire sauvegardé\n",
    "with open(\"exemple.json\") as f:\n",
    "    mon_dico = json.load(f)\n",
    "print(mon_dico)"
   ]
  },
  {
   "cell_type": "markdown",
   "metadata": {},
   "source": [
    "#### <a name=\"sect116\"></a> 1.1.6. Les ensembles\n",
    "Les ensembles sont des objets entre les listes et les dictionnaires :\n",
    "- ils ont le même délimiteur que les dictionnaires (des accolades) mais ne possédes que de clés (donc impossible d'avoir 2 fois la même valeur dans un ensemble)\n",
    "- ils ne sont ni indexés, ni ordonnés, comme les dictionnaires\n",
    "- ils ont des méthodes communes avec les listes : add, pop, remove, etc."
   ]
  },
  {
   "cell_type": "code",
   "execution_count": 48,
   "metadata": {},
   "outputs": [],
   "source": [
    "# Créer un ensemble 'mon_set' composer des éléments 'a' et 'b' :\n",
    "mon_set = {'a','b'}"
   ]
  },
  {
   "cell_type": "code",
   "execution_count": null,
   "metadata": {},
   "outputs": [],
   "source": [
    "# Afficher l'ensemble des méthodes d'un ensemble :\n",
    "help(set)"
   ]
  },
  {
   "cell_type": "code",
   "execution_count": 49,
   "metadata": {},
   "outputs": [],
   "source": [
    "# Ajouter l'élément 'a' dans mon_set\n",
    "mon_set.add('a')"
   ]
  },
  {
   "cell_type": "code",
   "execution_count": 50,
   "metadata": {},
   "outputs": [
    {
     "name": "stdout",
     "output_type": "stream",
     "text": [
      "{'b', 'a'}\n"
     ]
    }
   ],
   "source": [
    "print(mon_set)"
   ]
  },
  {
   "cell_type": "markdown",
   "metadata": {},
   "source": [
    "### <a name=\"sect12\"></a>  1.2. Manipulation des tests et des boucles\n",
    "Seront abordés dans cette section :\n",
    "- les tests if\n",
    "- les boucles while\n",
    "- les boucles for\n",
    "\n",
    "##### Structures conditionnelles\n",
    "La forme complète d'un test utilise les mots-clés suivant : if, elif et else.\n",
    "\n",
    "Vous pouvez mettre autant de elif que vous voulez après une condition en if. Tout comme le else, cette instruction est facultative et, quand bien même vous construiriez une instruction en if,elif, vous n'êtes pas du tout obligé de prévoir un else après. En revanche, l'instruction else ne peut figurer qu'une fois, clôturant le bloc de la condition.\n",
    "\n",
    "\n",
    "\n",
    "\n",
    "\n"
   ]
  },
  {
   "cell_type": "markdown",
   "metadata": {},
   "source": [
    "<u>Exercice</u> : Déterminer si une année saisie par l'utilisateur est bissextile\n",
    "\n",
    "Pour cela on utilise la règle suivante :\n",
    "\"une année est dite bissextile si c'est un multiple de 4, sauf si c'est un multiple de 100. Toutefois, elle est considérée comme bissextile si c'est un multiple de 400\"\n",
    "    \n",
    "A noter que la demande d'une valeur à l'utilisateur se fait par la fonction input."
   ]
  },
  {
   "cell_type": "code",
   "execution_count": 32,
   "metadata": {},
   "outputs": [
    {
     "name": "stdin",
     "output_type": "stream",
     "text": [
      "Saisissez une année :  2009\n"
     ]
    },
    {
     "name": "stdout",
     "output_type": "stream",
     "text": [
      "L'année saisie n'est pas bissextile.\n"
     ]
    }
   ],
   "source": [
    "annee = int(input(\"Saisissez une année : \"))\n",
    "\n",
    "if annee % 400 == 0 or (annee % 4 == 0 and annee % 100 != 0):\n",
    "    print(\"L'année saisie est bissextile.\")\n",
    "else:\n",
    "    print(\"L'année saisie n'est pas bissextile.\")"
   ]
  },
  {
   "cell_type": "markdown",
   "metadata": {},
   "source": [
    "##### La boucle while\n",
    "Elle permet de réexécuter un bloc d'instruction tant qu'une condition est vrai.\n",
    "\n",
    "Refaire l'exercice précédent en vérifiant que l'utilisateur a bien saisi une année (i.e. un nombre). Si ce n'est pas, demander lui de recommencer jusqu'à ce que cela soit le cas."
   ]
  },
  {
   "cell_type": "code",
   "execution_count": 52,
   "metadata": {
    "scrolled": true
   },
   "outputs": [
    {
     "name": "stdin",
     "output_type": "stream",
     "text": [
      "Saisissez une année :  2019\n"
     ]
    },
    {
     "name": "stdout",
     "output_type": "stream",
     "text": [
      "L'année saisie n'est pas bissextile.\n"
     ]
    }
   ],
   "source": [
    "annee = str()\n",
    "while not annee.isdigit() :\n",
    "    annee = input(\"Saisissez une année : \")\n",
    "    \n",
    "annee = int(annee)\n",
    "if annee % 400 == 0 or (annee % 4 == 0 and annee % 100 != 0):\n",
    "    print(\"L'année saisie est bissextile.\")\n",
    "else:\n",
    "    print(\"L'année saisie n'est pas bissextile.\")"
   ]
  },
  {
   "cell_type": "markdown",
   "metadata": {},
   "source": [
    "##### Les boucles for\n",
    "Elles sont spécialisées dans le parcours des séquences (i.e. l'ensemble des types vus ci-dessus : chaine de caractères, liste, tuple, range, dictionnaire et ensemble).\n",
    "\n",
    "Des exemples de son utilisation ont déjà été fait plus haut pour les listes et les dictionnaires.\n",
    "On va donc voir ici une utilisation avec les chaines de caractères.\n",
    "\n",
    "<u>Exercice</u> : Afficher 1 à 1 les voyelles en minuscules contenues dans la chaine x"
   ]
  },
  {
   "cell_type": "code",
   "execution_count": 33,
   "metadata": {},
   "outputs": [
    {
     "name": "stdout",
     "output_type": "stream",
     "text": [
      "e\n",
      "i\n",
      "e\n",
      "o\n",
      "u\n",
      "e\n",
      "y\n",
      "o\n"
     ]
    }
   ],
   "source": [
    "for lettre in x :\n",
    "    if lettre in 'AEIOUYaeiouy' :\n",
    "        print(lettre.lower())"
   ]
  },
  {
   "cell_type": "markdown",
   "metadata": {},
   "source": [
    "### <a name=\"sect13\"></a> 1.3. Création de fonctions\n",
    "Une fonction est un ensemble de commandes regroupées sous un seul nom unique.\n",
    "\n",
    "Il existe 2 méthodes pour définir une fonction :\n",
    "- avec def ma_fonction(mes_paramtres) :\n",
    "- avec lambda\n",
    "\n",
    "##### Utilisation du mot-clé def"
   ]
  },
  {
   "cell_type": "code",
   "execution_count": 34,
   "metadata": {},
   "outputs": [
    {
     "data": {
      "text/plain": [
       "'ici'"
      ]
     },
     "execution_count": 34,
     "metadata": {},
     "output_type": "execute_result"
    }
   ],
   "source": [
    "mot='ici'\n",
    "mot[::-1]"
   ]
  },
  {
   "cell_type": "code",
   "execution_count": 57,
   "metadata": {},
   "outputs": [
    {
     "data": {
      "text/plain": [
       "{'PREMIER': False, 'COURS': False, 'DE': False, 'PYTHON': False}"
      ]
     },
     "execution_count": 57,
     "metadata": {},
     "output_type": "execute_result"
    }
   ],
   "source": [
    "# Créer une fonction qui prend en paramètre une chaine de caractère\n",
    "# et qui renvoie un dictionnaire avec pour chaque mot en clé, un boolean indiquant si c'est un palindrome\n",
    "# Puis l'appliquer à la chaine x\n",
    "def est_palindrome(chaine):\n",
    "    res = {}\n",
    "    for mot in chaine.split():\n",
    "        if mot ==mot[::-1]:\n",
    "            res[mot] = True\n",
    "        else : res[mot]=False\n",
    "    return res\n",
    "\n",
    "est_palindrome(x)"
   ]
  },
  {
   "cell_type": "code",
   "execution_count": 58,
   "metadata": {},
   "outputs": [
    {
     "data": {
      "text/plain": [
       "{'python': False, 'est': False, 'mieux': False, 'que': False, 'sas': True}"
      ]
     },
     "execution_count": 58,
     "metadata": {},
     "output_type": "execute_result"
    }
   ],
   "source": [
    "# Appliquer la fonction est palindrome sur la phrase 'python est mieux que sas'\n",
    "est_palindrome('python est mieux que sas')"
   ]
  },
  {
   "cell_type": "code",
   "execution_count": 94,
   "metadata": {},
   "outputs": [],
   "source": [
    "# créons un vecteur de données numérique en objet array\n",
    "import numpy as np\n",
    "Matrice = np.array(range(10))"
   ]
  },
  {
   "cell_type": "code",
   "execution_count": 90,
   "metadata": {},
   "outputs": [],
   "source": [
    "# créons une fonction qui standardise une colonne (1darray) : centrer et réduire (soustraire la moyenne et diviser par l'écart type)\n",
    "def standardisation(x): \n",
    "        x-=np.mean(x) # the -= means can be read as x = x- np.mean(x)\n",
    "        x/=np.std(x)\n",
    "        return x"
   ]
  },
  {
   "cell_type": "code",
   "execution_count": 91,
   "metadata": {},
   "outputs": [
    {
     "data": {
      "text/plain": [
       "array([0., 1., 2., 3., 4., 5., 6., 7., 8., 9.])"
      ]
     },
     "execution_count": 91,
     "metadata": {},
     "output_type": "execute_result"
    }
   ],
   "source": [
    "# appliquons la fonction standardisation, attention aux types des données\n",
    "Matrice.astype(float)"
   ]
  },
  {
   "cell_type": "code",
   "execution_count": 99,
   "metadata": {},
   "outputs": [
    {
     "data": {
      "text/plain": [
       "array([-1.5666989 , -1.21854359, -0.87038828, -0.52223297, -0.17407766,\n",
       "        0.17407766,  0.52223297,  0.87038828,  1.21854359,  1.5666989 ])"
      ]
     },
     "execution_count": 99,
     "metadata": {},
     "output_type": "execute_result"
    }
   ],
   "source": [
    "standardisation(Matrice.astype(float))"
   ]
  },
  {
   "cell_type": "code",
   "execution_count": null,
   "metadata": {},
   "outputs": [],
   "source": [
    "# si on applique la fonction sur un array non float il y a un erreur"
   ]
  },
  {
   "cell_type": "code",
   "execution_count": 96,
   "metadata": {},
   "outputs": [
    {
     "ename": "TypeError",
     "evalue": "Cannot cast ufunc subtract output from dtype('float64') to dtype('int32') with casting rule 'same_kind'",
     "output_type": "error",
     "traceback": [
      "\u001b[1;31m---------------------------------------------------------------------------\u001b[0m",
      "\u001b[1;31mTypeError\u001b[0m                                 Traceback (most recent call last)",
      "\u001b[1;32m<ipython-input-96-1de49a8a8416>\u001b[0m in \u001b[0;36m<module>\u001b[1;34m()\u001b[0m\n\u001b[1;32m----> 1\u001b[1;33m \u001b[0mstandardisation\u001b[0m\u001b[1;33m(\u001b[0m\u001b[0mMatrice\u001b[0m\u001b[1;33m)\u001b[0m\u001b[1;33m\u001b[0m\u001b[0m\n\u001b[0m",
      "\u001b[1;32m<ipython-input-90-22cf0cc91fc7>\u001b[0m in \u001b[0;36mstandardisation\u001b[1;34m(x)\u001b[0m\n\u001b[0;32m      1\u001b[0m \u001b[1;31m# créons une fonction qui standardise une colonne (1darray)\u001b[0m\u001b[1;33m\u001b[0m\u001b[1;33m\u001b[0m\u001b[0m\n\u001b[0;32m      2\u001b[0m \u001b[1;32mdef\u001b[0m \u001b[0mstandardisation\u001b[0m\u001b[1;33m(\u001b[0m\u001b[0mx\u001b[0m\u001b[1;33m)\u001b[0m\u001b[1;33m:\u001b[0m\u001b[1;33m\u001b[0m\u001b[0m\n\u001b[1;32m----> 3\u001b[1;33m         \u001b[0mx\u001b[0m\u001b[1;33m-=\u001b[0m\u001b[0mnp\u001b[0m\u001b[1;33m.\u001b[0m\u001b[0mmean\u001b[0m\u001b[1;33m(\u001b[0m\u001b[0mx\u001b[0m\u001b[1;33m)\u001b[0m \u001b[1;31m# the -= means can be read as x = x- np.mean(x)\u001b[0m\u001b[1;33m\u001b[0m\u001b[0m\n\u001b[0m\u001b[0;32m      4\u001b[0m         \u001b[0mx\u001b[0m\u001b[1;33m/=\u001b[0m\u001b[0mnp\u001b[0m\u001b[1;33m.\u001b[0m\u001b[0mstd\u001b[0m\u001b[1;33m(\u001b[0m\u001b[0mx\u001b[0m\u001b[1;33m)\u001b[0m\u001b[1;33m\u001b[0m\u001b[0m\n\u001b[0;32m      5\u001b[0m         \u001b[1;32mreturn\u001b[0m \u001b[0mx\u001b[0m\u001b[1;33m\u001b[0m\u001b[0m\n",
      "\u001b[1;31mTypeError\u001b[0m: Cannot cast ufunc subtract output from dtype('float64') to dtype('int32') with casting rule 'same_kind'"
     ]
    }
   ],
   "source": [
    "standardisation(Matrice)"
   ]
  },
  {
   "cell_type": "code",
   "execution_count": 97,
   "metadata": {},
   "outputs": [],
   "source": [
    "# Introduire une gestion d'exception dans la fonction => try except\n",
    "def standardisation(x): \n",
    "    try:        \n",
    "        x-=np.mean(x) # the -= means can be read as x = x- np.mean(x)\n",
    "        x/=np.std(x)\n",
    "        return x\n",
    "    except TypeError:\n",
    "        print(\"le type des données n'est pas float\")"
   ]
  },
  {
   "cell_type": "code",
   "execution_count": 98,
   "metadata": {},
   "outputs": [
    {
     "name": "stdout",
     "output_type": "stream",
     "text": [
      "le type des données n'est pas float\n"
     ]
    }
   ],
   "source": [
    "standardisation(Matrice)"
   ]
  },
  {
   "cell_type": "markdown",
   "metadata": {},
   "source": [
    "##### Utilisation du mot-clé lambda"
   ]
  },
  {
   "cell_type": "code",
   "execution_count": 78,
   "metadata": {},
   "outputs": [
    {
     "data": {
      "text/plain": [
       "<map at 0x24a5d4297f0>"
      ]
     },
     "execution_count": 78,
     "metadata": {},
     "output_type": "execute_result"
    }
   ],
   "source": [
    "# appliquons une lambda fonction pour mettre au carré les valeurs du vecteur numérique\n",
    "map(lambda x :x**2,Matrice)"
   ]
  },
  {
   "cell_type": "code",
   "execution_count": 93,
   "metadata": {},
   "outputs": [
    {
     "name": "stdout",
     "output_type": "stream",
     "text": [
      "[False, True, False, False, False, False, False, False, False, False]\n"
     ]
    },
    {
     "data": {
      "text/plain": [
       "9"
      ]
     },
     "execution_count": 93,
     "metadata": {},
     "output_type": "execute_result"
    }
   ],
   "source": [
    "# fonction qui test si un element vaut 1\n",
    "result= list(map(lambda x: x==1.00, Matrice))\n",
    "print(result)\n",
    "result.count(False)"
   ]
  },
  {
   "cell_type": "markdown",
   "metadata": {},
   "source": [
    "python ne sait pas représenter l'instance donc il faut la transformer"
   ]
  },
  {
   "cell_type": "code",
   "execution_count": null,
   "metadata": {},
   "outputs": [],
   "source": [
    "list(map(lambda x :x**2,Matrice))"
   ]
  },
  {
   "cell_type": "code",
   "execution_count": 63,
   "metadata": {},
   "outputs": [
    {
     "data": {
      "text/plain": [
       "3.0"
      ]
     },
     "execution_count": 63,
     "metadata": {},
     "output_type": "execute_result"
    }
   ],
   "source": [
    "# Créer une fonction qui retourne l'aire d'un triangle et l'appliquer pour un triangle de base 2 et de hauteur 3\n",
    "f = lambda base, hauteur : (base*hauteur)/2\n",
    "f(base = 2,hauteur = 3)"
   ]
  },
  {
   "cell_type": "markdown",
   "metadata": {},
   "source": [
    "## <a name=\"sect2\"></a> 2. Python fondamentaux data\n",
    "Un exercice pratique est proposé ici pour se rapprocher de ce qui pourra être fait lors d'un projet.\n",
    "\n",
    "<u>Contexte</u> : <br>\n",
    "Notre équipe de Data Scientists est sollicitée pour un projet de grande ampleur qui nécessite de staffer 6 personnes qu’il s’agit de déterminer. Avant de faire l’étude de scoring, nous commençons par une analyse exploratoire des données dont nous disposons.\n",
    "\n",
    "<u>Description des fichiers</u> :\n",
    "<ol>\n",
    "    <li> « RH_Jouet.csv » :\n",
    "    <ul>\n",
    "        <li><i>ID</i> : numéro d’identifiant\n",
    "        <li><i>Prenom</i> : prénom\n",
    "        <li><i>Genre</i> : sexe (G= Garçon, F= Fille)\n",
    "        <li><i>SEG.VALEUR</i> : information donnée par les services RH sous forme de lettres\n",
    "        <li><i>AGE</i> : l’âge\n",
    "        <li><i>CODE_DPT</i> : département d'habitation\n",
    "        <li><i>Dat_ARRIVEE</i> : date d’arrivée dans l’entreprise\n",
    "        <li><i>PRIMe</i> : montant de la dernière prime\n",
    "    </ul>\n",
    "    <li>« COMPETENCE_Jouet.csv » :\n",
    "    <ul>\n",
    "        <li><i>ID</i> : numéro d’identifiant\n",
    "        <li><i>REPORTING</i> : note de compétence en reporting\n",
    "        <li><i>SAS</i> : note de compétence en SAS\n",
    "        <li><i>TEXTM</i> : note de compétence en Text Mining\n",
    "        <li><i>MARKET</i> : note de compétence en marketing\n",
    "        <li><i>CADRAGE</i> : note de compétence en cadrage de projet\n",
    "        <li><i>NPROJET</i> : nombre de missions similaires menées dans le passé\n",
    "        <li><i>ML</i> : note de compétence en Machine Learning\n",
    "        <li><i>TOP</i> : variable cible (pour le score)\n",
    "    </ul>\n",
    "</ol>\t\n",
    "\n",
    "\n",
    "### <a name=\"sect21\"></a> 2.1. Import des packages et des données\n",
    "#### <a name=\"sect211\"></a> 2.1.1. Import des packages"
   ]
  },
  {
   "cell_type": "code",
   "execution_count": 1,
   "metadata": {},
   "outputs": [],
   "source": [
    "import os\n",
    "\n",
    "# traitement des données\n",
    "import pandas as pd\n",
    "import numpy as np\n",
    "import scipy.stats as sp\n",
    "import datetime as dt\n",
    "#import random\n",
    "\n",
    "# Graphiques\n",
    "import matplotlib.pyplot as plt\n",
    "%matplotlib inline\n",
    "import seaborn as sns\n",
    "\n",
    "pd.options.mode.chained_assignment = None"
   ]
  },
  {
   "cell_type": "markdown",
   "metadata": {},
   "source": [
    "#### <a name=\"sect212\"></a> 2.1.2. Chargement des données\n",
    "##### En utilisant le package <u><i>os</i></u> et ses fonctions <i>getcwd()</i> et <i>chdir()</i>, on va se placer dans le répertoire où sont situé les données"
   ]
  },
  {
   "cell_type": "code",
   "execution_count": 2,
   "metadata": {},
   "outputs": [
    {
     "name": "stdout",
     "output_type": "stream",
     "text": [
      "C:\\Users\\dgr\\Documents\\Formations\\SCU Python\\NEW\\Jupyter\n"
     ]
    }
   ],
   "source": [
    "# Etape 1 : identifier dans quel répertoire l'on se trouve actuellement\n",
    "print(os.getcwd())"
   ]
  },
  {
   "cell_type": "code",
   "execution_count": 3,
   "metadata": {},
   "outputs": [],
   "source": [
    "# Etape 2 : créer une variable 'repertoire' dans lequel sera contenu le futur chemin d'accés (../Python/Data)\n",
    "repertoire = \"C:\\\\Users\\\\dgr\\\\Documents\\\\Formations\\\\SCU Python\\\\NEW\\data\\\\exercice_RH\"\n"
   ]
  },
  {
   "cell_type": "code",
   "execution_count": 4,
   "metadata": {},
   "outputs": [],
   "source": [
    "# Etape 3 : on se place dans le répertoire\n",
    "os.chdir(repertoire)"
   ]
  },
  {
   "cell_type": "code",
   "execution_count": 5,
   "metadata": {},
   "outputs": [
    {
     "name": "stdout",
     "output_type": "stream",
     "text": [
      "C:\\Users\\dgr\\Documents\\Formations\\SCU Python\\NEW\\data\\exercice_RH\n"
     ]
    }
   ],
   "source": [
    "# Etape 4 : on vérifie que le changement a bien été fait (idem étape 1)\n",
    "print(os.getcwd())"
   ]
  },
  {
   "cell_type": "markdown",
   "metadata": {},
   "source": [
    "#### En utilisant le package <u><i>panda</i></u> et sa fonction <i>read_csv()</i>, importer les fichiers \"RH_Jouer.csv\" et \"COMPETENCE_Jouet.csv\"\n",
    "\n",
    "Pour information, les caractéristiques des fichiers sont les suivantes :\n",
    "<ol>\n",
    "    <li> « RH_Jouet.csv » :\n",
    "    <ul>\n",
    "        <li><i>Délimiteur</i> : point-virgule\n",
    "        <li><i>Décimal</i> : point\n",
    "        <li><i>Encodage</i> : 'iso-8859-1'\n",
    "    </ul>\n",
    "    <li>« COMPETENCE_Jouet.csv » :\n",
    "    <ul>\n",
    "        <li><i>Délimiteur</i> : point-virgule\n",
    "        <li><i>Décimal</i> : virgule\n",
    "        <li><i>Encodage</i> : 'iso-8859-1'\n",
    "    </ul>\n",
    "</ol>\t"
   ]
  },
  {
   "cell_type": "code",
   "execution_count": 6,
   "metadata": {},
   "outputs": [],
   "source": [
    "# Etape 1 : créer une variable 'don1' contenant le fichier \"RH_Jouet.csv\"\n",
    "don1 = pd.read_csv(\"RH_Jouet.csv\", \n",
    "                   delimiter=';', \n",
    "                   decimal=\".\", \n",
    "                   encoding = 'iso-8859-1')"
   ]
  },
  {
   "cell_type": "code",
   "execution_count": 7,
   "metadata": {},
   "outputs": [],
   "source": [
    "# Etape 2 : créer une variable 'don2' contenant le fichier \"COMPETENCE_Jouet.csv\"\n",
    "don2 = pd.read_csv(\"COMPETENCE_Jouet.csv\", \n",
    "                   delimiter=';', \n",
    "                   decimal=\",\", \n",
    "                   encoding = 'iso-8859-1')"
   ]
  },
  {
   "cell_type": "markdown",
   "metadata": {},
   "source": [
    "#### <a name=\"sect213\"></a> 2.1.3. Manipulation d'un dataframe\n",
    "On vérifie tout d'abord que les données ont correctement été chargées."
   ]
  },
  {
   "cell_type": "code",
   "execution_count": 62,
   "metadata": {},
   "outputs": [
    {
     "data": {
      "text/plain": [
       "(1082, 8)"
      ]
     },
     "execution_count": 62,
     "metadata": {},
     "output_type": "execute_result"
    }
   ],
   "source": [
    "# Etape 1 : regarder la dimension de 'don1' en utilisant son attribut shape :\n",
    "don1.shape"
   ]
  },
  {
   "cell_type": "code",
   "execution_count": 63,
   "metadata": {},
   "outputs": [
    {
     "data": {
      "text/plain": [
       "Index(['fich.ID', 'fich.prenom', 'fich.Genre', 'fich.SEG.VALEUR', 'fich.AGE',\n",
       "       'fich.CODE_DPT', 'fich.Dat.ARRIVEE', 'fich.PRIMe'],\n",
       "      dtype='object')"
      ]
     },
     "execution_count": 63,
     "metadata": {},
     "output_type": "execute_result"
    }
   ],
   "source": [
    "# Etape 2 : afficher le nom des colonnes de 'don1' en utilisant son attribut columns :\n",
    "don1.columns"
   ]
  },
  {
   "cell_type": "code",
   "execution_count": 64,
   "metadata": {},
   "outputs": [
    {
     "data": {
      "text/plain": [
       "RangeIndex(start=0, stop=1082, step=1)"
      ]
     },
     "execution_count": 64,
     "metadata": {},
     "output_type": "execute_result"
    }
   ],
   "source": [
    "# Etape 3 : afficher le nom des index (i.e. lignes) en utilisant son attribut index :\n",
    "don1.index"
   ]
  },
  {
   "cell_type": "code",
   "execution_count": 65,
   "metadata": {},
   "outputs": [
    {
     "data": {
      "text/plain": [
       "pandas.core.frame.DataFrame"
      ]
     },
     "execution_count": 65,
     "metadata": {},
     "output_type": "execute_result"
    }
   ],
   "source": [
    "# Etape 4 : afficher le type de 'don1' en utilisant la fonction type :\n",
    "type(don1)"
   ]
  },
  {
   "cell_type": "code",
   "execution_count": 66,
   "metadata": {},
   "outputs": [
    {
     "data": {
      "text/plain": [
       "fich.ID               int64\n",
       "fich.prenom          object\n",
       "fich.Genre           object\n",
       "fich.SEG.VALEUR      object\n",
       "fich.AGE            float64\n",
       "fich.CODE_DPT         int64\n",
       "fich.Dat.ARRIVEE     object\n",
       "fich.PRIMe          float64\n",
       "dtype: object"
      ]
     },
     "execution_count": 66,
     "metadata": {},
     "output_type": "execute_result"
    }
   ],
   "source": [
    "# Etape 5 : afficher le types de chaque colonnes de 'don1' en utilisant son attribut dtypes\n",
    "don1.dtypes"
   ]
  },
  {
   "cell_type": "code",
   "execution_count": 67,
   "metadata": {},
   "outputs": [
    {
     "data": {
      "text/html": [
       "<div>\n",
       "<style scoped>\n",
       "    .dataframe tbody tr th:only-of-type {\n",
       "        vertical-align: middle;\n",
       "    }\n",
       "\n",
       "    .dataframe tbody tr th {\n",
       "        vertical-align: top;\n",
       "    }\n",
       "\n",
       "    .dataframe thead th {\n",
       "        text-align: right;\n",
       "    }\n",
       "</style>\n",
       "<table border=\"1\" class=\"dataframe\">\n",
       "  <thead>\n",
       "    <tr style=\"text-align: right;\">\n",
       "      <th></th>\n",
       "      <th>fich.ID</th>\n",
       "      <th>fich.prenom</th>\n",
       "      <th>fich.Genre</th>\n",
       "      <th>fich.SEG.VALEUR</th>\n",
       "      <th>fich.AGE</th>\n",
       "      <th>fich.CODE_DPT</th>\n",
       "      <th>fich.Dat.ARRIVEE</th>\n",
       "      <th>fich.PRIMe</th>\n",
       "    </tr>\n",
       "  </thead>\n",
       "  <tbody>\n",
       "    <tr>\n",
       "      <th>0</th>\n",
       "      <td>1001</td>\n",
       "      <td>PRENOM_Alice</td>\n",
       "      <td>G</td>\n",
       "      <td>B</td>\n",
       "      <td>35.0</td>\n",
       "      <td>23</td>\n",
       "      <td>14/03/2016</td>\n",
       "      <td>2868.0</td>\n",
       "    </tr>\n",
       "    <tr>\n",
       "      <th>1</th>\n",
       "      <td>1002</td>\n",
       "      <td>PRENOM_Eva</td>\n",
       "      <td>F</td>\n",
       "      <td>B</td>\n",
       "      <td>33.0</td>\n",
       "      <td>20</td>\n",
       "      <td>31/01/2016</td>\n",
       "      <td>NaN</td>\n",
       "    </tr>\n",
       "    <tr>\n",
       "      <th>2</th>\n",
       "      <td>1003</td>\n",
       "      <td>PRENOM_Zoé</td>\n",
       "      <td>G</td>\n",
       "      <td>A</td>\n",
       "      <td>24.4</td>\n",
       "      <td>37</td>\n",
       "      <td>24/03/2016</td>\n",
       "      <td>1936.0</td>\n",
       "    </tr>\n",
       "    <tr>\n",
       "      <th>3</th>\n",
       "      <td>1004</td>\n",
       "      <td>PRENOM_Enzo</td>\n",
       "      <td>G</td>\n",
       "      <td>B</td>\n",
       "      <td>25.0</td>\n",
       "      <td>73</td>\n",
       "      <td>11/07/2015</td>\n",
       "      <td>NaN</td>\n",
       "    </tr>\n",
       "    <tr>\n",
       "      <th>4</th>\n",
       "      <td>1005</td>\n",
       "      <td>PRENOM_Timéo</td>\n",
       "      <td>F</td>\n",
       "      <td>B</td>\n",
       "      <td>43.0</td>\n",
       "      <td>52</td>\n",
       "      <td>05/02/2015</td>\n",
       "      <td>NaN</td>\n",
       "    </tr>\n",
       "  </tbody>\n",
       "</table>\n",
       "</div>"
      ],
      "text/plain": [
       "   fich.ID   fich.prenom fich.Genre fich.SEG.VALEUR  fich.AGE  fich.CODE_DPT  \\\n",
       "0     1001  PRENOM_Alice          G               B      35.0             23   \n",
       "1     1002    PRENOM_Eva          F               B      33.0             20   \n",
       "2     1003   PRENOM_Zoé           G               A      24.4             37   \n",
       "3     1004   PRENOM_Enzo          G               B      25.0             73   \n",
       "4     1005  PRENOM_Timéo          F               B      43.0             52   \n",
       "\n",
       "  fich.Dat.ARRIVEE  fich.PRIMe  \n",
       "0       14/03/2016      2868.0  \n",
       "1       31/01/2016         NaN  \n",
       "2       24/03/2016      1936.0  \n",
       "3       11/07/2015         NaN  \n",
       "4       05/02/2015         NaN  "
      ]
     },
     "execution_count": 67,
     "metadata": {},
     "output_type": "execute_result"
    }
   ],
   "source": [
    "# Etape 6 : regarder la forme de 'don1' en affichant les 5 premières lignes\n",
    "don1.head(5)"
   ]
  },
  {
   "cell_type": "code",
   "execution_count": 68,
   "metadata": {},
   "outputs": [
    {
     "data": {
      "text/html": [
       "<div>\n",
       "<style scoped>\n",
       "    .dataframe tbody tr th:only-of-type {\n",
       "        vertical-align: middle;\n",
       "    }\n",
       "\n",
       "    .dataframe tbody tr th {\n",
       "        vertical-align: top;\n",
       "    }\n",
       "\n",
       "    .dataframe thead th {\n",
       "        text-align: right;\n",
       "    }\n",
       "</style>\n",
       "<table border=\"1\" class=\"dataframe\">\n",
       "  <thead>\n",
       "    <tr style=\"text-align: right;\">\n",
       "      <th></th>\n",
       "      <th>fich.ID</th>\n",
       "      <th>fich.prenom</th>\n",
       "      <th>fich.Genre</th>\n",
       "      <th>fich.SEG.VALEUR</th>\n",
       "      <th>fich.AGE</th>\n",
       "      <th>fich.CODE_DPT</th>\n",
       "      <th>fich.Dat.ARRIVEE</th>\n",
       "      <th>fich.PRIMe</th>\n",
       "    </tr>\n",
       "  </thead>\n",
       "  <tbody>\n",
       "    <tr>\n",
       "      <th>1077</th>\n",
       "      <td>2078</td>\n",
       "      <td>PRENOM_Noah</td>\n",
       "      <td>F</td>\n",
       "      <td>A</td>\n",
       "      <td>27.6</td>\n",
       "      <td>22</td>\n",
       "      <td>20/05/2015</td>\n",
       "      <td>NaN</td>\n",
       "    </tr>\n",
       "    <tr>\n",
       "      <th>1078</th>\n",
       "      <td>2079</td>\n",
       "      <td>PRENOM_Timéo</td>\n",
       "      <td>G</td>\n",
       "      <td>B</td>\n",
       "      <td>32.0</td>\n",
       "      <td>28</td>\n",
       "      <td>11/03/2015</td>\n",
       "      <td>2444.0</td>\n",
       "    </tr>\n",
       "    <tr>\n",
       "      <th>1079</th>\n",
       "      <td>2080</td>\n",
       "      <td>PRENOM_Clara</td>\n",
       "      <td>F</td>\n",
       "      <td>B</td>\n",
       "      <td>59.0</td>\n",
       "      <td>36</td>\n",
       "      <td>05/09/2014</td>\n",
       "      <td>2741.0</td>\n",
       "    </tr>\n",
       "    <tr>\n",
       "      <th>1080</th>\n",
       "      <td>2081</td>\n",
       "      <td>PRENOM_Jean</td>\n",
       "      <td>NaN</td>\n",
       "      <td>A</td>\n",
       "      <td>NaN</td>\n",
       "      <td>20</td>\n",
       "      <td>30/06/2016</td>\n",
       "      <td>NaN</td>\n",
       "    </tr>\n",
       "    <tr>\n",
       "      <th>1081</th>\n",
       "      <td>2082</td>\n",
       "      <td>PRENOM_Jacques</td>\n",
       "      <td>NaN</td>\n",
       "      <td>A</td>\n",
       "      <td>NaN</td>\n",
       "      <td>20</td>\n",
       "      <td>30/06/2016</td>\n",
       "      <td>NaN</td>\n",
       "    </tr>\n",
       "  </tbody>\n",
       "</table>\n",
       "</div>"
      ],
      "text/plain": [
       "      fich.ID     fich.prenom fich.Genre fich.SEG.VALEUR  fich.AGE  \\\n",
       "1077     2078     PRENOM_Noah          F               A      27.6   \n",
       "1078     2079    PRENOM_Timéo          G               B      32.0   \n",
       "1079     2080    PRENOM_Clara          F               B      59.0   \n",
       "1080     2081     PRENOM_Jean        NaN               A       NaN   \n",
       "1081     2082  PRENOM_Jacques        NaN               A       NaN   \n",
       "\n",
       "      fich.CODE_DPT fich.Dat.ARRIVEE  fich.PRIMe  \n",
       "1077             22       20/05/2015         NaN  \n",
       "1078             28       11/03/2015      2444.0  \n",
       "1079             36       05/09/2014      2741.0  \n",
       "1080             20       30/06/2016         NaN  \n",
       "1081             20       30/06/2016         NaN  "
      ]
     },
     "execution_count": 68,
     "metadata": {},
     "output_type": "execute_result"
    }
   ],
   "source": [
    "# Etape 7 : Afficher les 5 dernières lignes de 'don2' avec la méthode tail\n",
    "don1.tail()"
   ]
  },
  {
   "cell_type": "code",
   "execution_count": 69,
   "metadata": {},
   "outputs": [
    {
     "name": "stdout",
     "output_type": "stream",
     "text": [
      "<class 'pandas.core.series.Series'>\n"
     ]
    }
   ],
   "source": [
    "# Etape 8 : Séléctionner uniquement la Serie 'GENRE' et afficher son type\n",
    "don1['fich.Genre']\n",
    "print(type(don1['fich.Genre']))"
   ]
  },
  {
   "cell_type": "code",
   "execution_count": 70,
   "metadata": {
    "scrolled": true
   },
   "outputs": [
    {
     "data": {
      "text/html": [
       "<div>\n",
       "<style scoped>\n",
       "    .dataframe tbody tr th:only-of-type {\n",
       "        vertical-align: middle;\n",
       "    }\n",
       "\n",
       "    .dataframe tbody tr th {\n",
       "        vertical-align: top;\n",
       "    }\n",
       "\n",
       "    .dataframe thead th {\n",
       "        text-align: right;\n",
       "    }\n",
       "</style>\n",
       "<table border=\"1\" class=\"dataframe\">\n",
       "  <thead>\n",
       "    <tr style=\"text-align: right;\">\n",
       "      <th></th>\n",
       "      <th>fich.prenom</th>\n",
       "      <th>fich.Genre</th>\n",
       "      <th>fich.SEG.VALEUR</th>\n",
       "    </tr>\n",
       "  </thead>\n",
       "  <tbody>\n",
       "    <tr>\n",
       "      <th>0</th>\n",
       "      <td>PRENOM_Alice</td>\n",
       "      <td>G</td>\n",
       "      <td>B</td>\n",
       "    </tr>\n",
       "    <tr>\n",
       "      <th>1</th>\n",
       "      <td>PRENOM_Eva</td>\n",
       "      <td>F</td>\n",
       "      <td>B</td>\n",
       "    </tr>\n",
       "    <tr>\n",
       "      <th>2</th>\n",
       "      <td>PRENOM_Zoé</td>\n",
       "      <td>G</td>\n",
       "      <td>A</td>\n",
       "    </tr>\n",
       "    <tr>\n",
       "      <th>3</th>\n",
       "      <td>PRENOM_Enzo</td>\n",
       "      <td>G</td>\n",
       "      <td>B</td>\n",
       "    </tr>\n",
       "    <tr>\n",
       "      <th>4</th>\n",
       "      <td>PRENOM_Timéo</td>\n",
       "      <td>F</td>\n",
       "      <td>B</td>\n",
       "    </tr>\n",
       "    <tr>\n",
       "      <th>5</th>\n",
       "      <td>PRENOM_Louis</td>\n",
       "      <td>F</td>\n",
       "      <td>A</td>\n",
       "    </tr>\n",
       "    <tr>\n",
       "      <th>6</th>\n",
       "      <td>PRENOM_Timéo</td>\n",
       "      <td>F</td>\n",
       "      <td>A</td>\n",
       "    </tr>\n",
       "    <tr>\n",
       "      <th>7</th>\n",
       "      <td>PRENOM_Maëlys</td>\n",
       "      <td>F</td>\n",
       "      <td>B</td>\n",
       "    </tr>\n",
       "    <tr>\n",
       "      <th>8</th>\n",
       "      <td>PRENOM_Raphaël</td>\n",
       "      <td>F</td>\n",
       "      <td>B</td>\n",
       "    </tr>\n",
       "    <tr>\n",
       "      <th>9</th>\n",
       "      <td>PRENOM_Lilou</td>\n",
       "      <td>F</td>\n",
       "      <td>C</td>\n",
       "    </tr>\n",
       "    <tr>\n",
       "      <th>10</th>\n",
       "      <td>PRENOM_Timéo</td>\n",
       "      <td>F</td>\n",
       "      <td>B</td>\n",
       "    </tr>\n",
       "    <tr>\n",
       "      <th>11</th>\n",
       "      <td>PRENOM_Léa</td>\n",
       "      <td>G</td>\n",
       "      <td>B</td>\n",
       "    </tr>\n",
       "    <tr>\n",
       "      <th>12</th>\n",
       "      <td>PRENOM_Timéo</td>\n",
       "      <td>F</td>\n",
       "      <td>A</td>\n",
       "    </tr>\n",
       "    <tr>\n",
       "      <th>13</th>\n",
       "      <td>PRENOM_Mathis</td>\n",
       "      <td>F</td>\n",
       "      <td>B</td>\n",
       "    </tr>\n",
       "    <tr>\n",
       "      <th>14</th>\n",
       "      <td>PRENOM_Léa</td>\n",
       "      <td>F</td>\n",
       "      <td>A</td>\n",
       "    </tr>\n",
       "    <tr>\n",
       "      <th>15</th>\n",
       "      <td>PRENOM_Maël</td>\n",
       "      <td>G</td>\n",
       "      <td>B</td>\n",
       "    </tr>\n",
       "    <tr>\n",
       "      <th>16</th>\n",
       "      <td>PRENOM_Jules</td>\n",
       "      <td>G</td>\n",
       "      <td>B</td>\n",
       "    </tr>\n",
       "    <tr>\n",
       "      <th>17</th>\n",
       "      <td>PRENOM_Maël</td>\n",
       "      <td>F</td>\n",
       "      <td>B</td>\n",
       "    </tr>\n",
       "    <tr>\n",
       "      <th>18</th>\n",
       "      <td>PRENOM_Raphaël</td>\n",
       "      <td>F</td>\n",
       "      <td>B</td>\n",
       "    </tr>\n",
       "    <tr>\n",
       "      <th>19</th>\n",
       "      <td>PRENOM_Raphaël</td>\n",
       "      <td>G</td>\n",
       "      <td>A</td>\n",
       "    </tr>\n",
       "    <tr>\n",
       "      <th>20</th>\n",
       "      <td>PRENOM_Clément</td>\n",
       "      <td>G</td>\n",
       "      <td>A</td>\n",
       "    </tr>\n",
       "    <tr>\n",
       "      <th>21</th>\n",
       "      <td>PRENOM_Maëlys</td>\n",
       "      <td>G</td>\n",
       "      <td>B</td>\n",
       "    </tr>\n",
       "    <tr>\n",
       "      <th>22</th>\n",
       "      <td>PRENOM_Maël</td>\n",
       "      <td>F</td>\n",
       "      <td>A</td>\n",
       "    </tr>\n",
       "    <tr>\n",
       "      <th>23</th>\n",
       "      <td>PRENOM_Clara</td>\n",
       "      <td>F</td>\n",
       "      <td>A</td>\n",
       "    </tr>\n",
       "    <tr>\n",
       "      <th>24</th>\n",
       "      <td>PRENOM_Sarah</td>\n",
       "      <td>G</td>\n",
       "      <td>B</td>\n",
       "    </tr>\n",
       "    <tr>\n",
       "      <th>25</th>\n",
       "      <td>PRENOM_Enzo</td>\n",
       "      <td>F</td>\n",
       "      <td>A</td>\n",
       "    </tr>\n",
       "    <tr>\n",
       "      <th>26</th>\n",
       "      <td>PRENOM_Louna</td>\n",
       "      <td>F</td>\n",
       "      <td>C</td>\n",
       "    </tr>\n",
       "    <tr>\n",
       "      <th>27</th>\n",
       "      <td>PRENOM_Clara</td>\n",
       "      <td>F</td>\n",
       "      <td>A</td>\n",
       "    </tr>\n",
       "    <tr>\n",
       "      <th>28</th>\n",
       "      <td>PRENOM_Raphaël</td>\n",
       "      <td>G</td>\n",
       "      <td>B</td>\n",
       "    </tr>\n",
       "    <tr>\n",
       "      <th>29</th>\n",
       "      <td>PRENOM_Hugo</td>\n",
       "      <td>F</td>\n",
       "      <td>B</td>\n",
       "    </tr>\n",
       "    <tr>\n",
       "      <th>...</th>\n",
       "      <td>...</td>\n",
       "      <td>...</td>\n",
       "      <td>...</td>\n",
       "    </tr>\n",
       "    <tr>\n",
       "      <th>1052</th>\n",
       "      <td>PRENOM_Gabriel</td>\n",
       "      <td>F</td>\n",
       "      <td>B</td>\n",
       "    </tr>\n",
       "    <tr>\n",
       "      <th>1053</th>\n",
       "      <td>PRENOM_Théo</td>\n",
       "      <td>F</td>\n",
       "      <td>B</td>\n",
       "    </tr>\n",
       "    <tr>\n",
       "      <th>1054</th>\n",
       "      <td>PRENOM_Mathis</td>\n",
       "      <td>F</td>\n",
       "      <td>B</td>\n",
       "    </tr>\n",
       "    <tr>\n",
       "      <th>1055</th>\n",
       "      <td>PRENOM_Clara</td>\n",
       "      <td>F</td>\n",
       "      <td>A</td>\n",
       "    </tr>\n",
       "    <tr>\n",
       "      <th>1056</th>\n",
       "      <td>PRENOM_Lilou</td>\n",
       "      <td>G</td>\n",
       "      <td>A</td>\n",
       "    </tr>\n",
       "    <tr>\n",
       "      <th>1057</th>\n",
       "      <td>PRENOM_Sarah</td>\n",
       "      <td>F</td>\n",
       "      <td>B</td>\n",
       "    </tr>\n",
       "    <tr>\n",
       "      <th>1058</th>\n",
       "      <td>PRENOM_Léa</td>\n",
       "      <td>G</td>\n",
       "      <td>B</td>\n",
       "    </tr>\n",
       "    <tr>\n",
       "      <th>1059</th>\n",
       "      <td>PRENOM_Alice</td>\n",
       "      <td>F</td>\n",
       "      <td>A</td>\n",
       "    </tr>\n",
       "    <tr>\n",
       "      <th>1060</th>\n",
       "      <td>PRENOM_Alice</td>\n",
       "      <td>G</td>\n",
       "      <td>B</td>\n",
       "    </tr>\n",
       "    <tr>\n",
       "      <th>1061</th>\n",
       "      <td>PRENOM_Tom</td>\n",
       "      <td>F</td>\n",
       "      <td>B</td>\n",
       "    </tr>\n",
       "    <tr>\n",
       "      <th>1062</th>\n",
       "      <td>PRENOM_Sarah</td>\n",
       "      <td>F</td>\n",
       "      <td>A</td>\n",
       "    </tr>\n",
       "    <tr>\n",
       "      <th>1063</th>\n",
       "      <td>PRENOM_Lilou</td>\n",
       "      <td>F</td>\n",
       "      <td>B</td>\n",
       "    </tr>\n",
       "    <tr>\n",
       "      <th>1064</th>\n",
       "      <td>PRENOM_Léna</td>\n",
       "      <td>G</td>\n",
       "      <td>A</td>\n",
       "    </tr>\n",
       "    <tr>\n",
       "      <th>1065</th>\n",
       "      <td>PRENOM_Maëlys</td>\n",
       "      <td>F</td>\n",
       "      <td>B</td>\n",
       "    </tr>\n",
       "    <tr>\n",
       "      <th>1066</th>\n",
       "      <td>PRENOM_Jade</td>\n",
       "      <td>F</td>\n",
       "      <td>B</td>\n",
       "    </tr>\n",
       "    <tr>\n",
       "      <th>1067</th>\n",
       "      <td>PRENOM_Inès</td>\n",
       "      <td>F</td>\n",
       "      <td>A</td>\n",
       "    </tr>\n",
       "    <tr>\n",
       "      <th>1068</th>\n",
       "      <td>PRENOM_Zoé</td>\n",
       "      <td>F</td>\n",
       "      <td>A</td>\n",
       "    </tr>\n",
       "    <tr>\n",
       "      <th>1069</th>\n",
       "      <td>PRENOM_Hugo</td>\n",
       "      <td>F</td>\n",
       "      <td>A</td>\n",
       "    </tr>\n",
       "    <tr>\n",
       "      <th>1070</th>\n",
       "      <td>PRENOM_Jade</td>\n",
       "      <td>G</td>\n",
       "      <td>A</td>\n",
       "    </tr>\n",
       "    <tr>\n",
       "      <th>1071</th>\n",
       "      <td>PRENOM_Alice</td>\n",
       "      <td>F</td>\n",
       "      <td>B</td>\n",
       "    </tr>\n",
       "    <tr>\n",
       "      <th>1072</th>\n",
       "      <td>PRENOM_Manon</td>\n",
       "      <td>F</td>\n",
       "      <td>A</td>\n",
       "    </tr>\n",
       "    <tr>\n",
       "      <th>1073</th>\n",
       "      <td>PRENOM_Raphaël</td>\n",
       "      <td>F</td>\n",
       "      <td>B</td>\n",
       "    </tr>\n",
       "    <tr>\n",
       "      <th>1074</th>\n",
       "      <td>PRENOM_Eva</td>\n",
       "      <td>F</td>\n",
       "      <td>B</td>\n",
       "    </tr>\n",
       "    <tr>\n",
       "      <th>1075</th>\n",
       "      <td>PRENOM_Mathis</td>\n",
       "      <td>F</td>\n",
       "      <td>B</td>\n",
       "    </tr>\n",
       "    <tr>\n",
       "      <th>1076</th>\n",
       "      <td>PRENOM_Timéo</td>\n",
       "      <td>F</td>\n",
       "      <td>B</td>\n",
       "    </tr>\n",
       "    <tr>\n",
       "      <th>1077</th>\n",
       "      <td>PRENOM_Noah</td>\n",
       "      <td>F</td>\n",
       "      <td>A</td>\n",
       "    </tr>\n",
       "    <tr>\n",
       "      <th>1078</th>\n",
       "      <td>PRENOM_Timéo</td>\n",
       "      <td>G</td>\n",
       "      <td>B</td>\n",
       "    </tr>\n",
       "    <tr>\n",
       "      <th>1079</th>\n",
       "      <td>PRENOM_Clara</td>\n",
       "      <td>F</td>\n",
       "      <td>B</td>\n",
       "    </tr>\n",
       "    <tr>\n",
       "      <th>1080</th>\n",
       "      <td>PRENOM_Jean</td>\n",
       "      <td>NaN</td>\n",
       "      <td>A</td>\n",
       "    </tr>\n",
       "    <tr>\n",
       "      <th>1081</th>\n",
       "      <td>PRENOM_Jacques</td>\n",
       "      <td>NaN</td>\n",
       "      <td>A</td>\n",
       "    </tr>\n",
       "  </tbody>\n",
       "</table>\n",
       "<p>1082 rows × 3 columns</p>\n",
       "</div>"
      ],
      "text/plain": [
       "         fich.prenom fich.Genre fich.SEG.VALEUR\n",
       "0       PRENOM_Alice          G               B\n",
       "1         PRENOM_Eva          F               B\n",
       "2        PRENOM_Zoé           G               A\n",
       "3        PRENOM_Enzo          G               B\n",
       "4       PRENOM_Timéo          F               B\n",
       "5       PRENOM_Louis          F               A\n",
       "6       PRENOM_Timéo          F               A\n",
       "7      PRENOM_Maëlys          F               B\n",
       "8     PRENOM_Raphaël          F               B\n",
       "9       PRENOM_Lilou          F               C\n",
       "10      PRENOM_Timéo          F               B\n",
       "11        PRENOM_Léa          G               B\n",
       "12      PRENOM_Timéo          F               A\n",
       "13     PRENOM_Mathis          F               B\n",
       "14        PRENOM_Léa          F               A\n",
       "15       PRENOM_Maël          G               B\n",
       "16      PRENOM_Jules          G               B\n",
       "17       PRENOM_Maël          F               B\n",
       "18    PRENOM_Raphaël          F               B\n",
       "19    PRENOM_Raphaël          G               A\n",
       "20    PRENOM_Clément          G               A\n",
       "21     PRENOM_Maëlys          G               B\n",
       "22       PRENOM_Maël          F               A\n",
       "23      PRENOM_Clara          F               A\n",
       "24      PRENOM_Sarah          G               B\n",
       "25       PRENOM_Enzo          F               A\n",
       "26      PRENOM_Louna          F               C\n",
       "27      PRENOM_Clara          F               A\n",
       "28    PRENOM_Raphaël          G               B\n",
       "29       PRENOM_Hugo          F               B\n",
       "...              ...        ...             ...\n",
       "1052  PRENOM_Gabriel          F               B\n",
       "1053     PRENOM_Théo          F               B\n",
       "1054   PRENOM_Mathis          F               B\n",
       "1055    PRENOM_Clara          F               A\n",
       "1056    PRENOM_Lilou          G               A\n",
       "1057    PRENOM_Sarah          F               B\n",
       "1058      PRENOM_Léa          G               B\n",
       "1059    PRENOM_Alice          F               A\n",
       "1060    PRENOM_Alice          G               B\n",
       "1061      PRENOM_Tom          F               B\n",
       "1062    PRENOM_Sarah          F               A\n",
       "1063    PRENOM_Lilou          F               B\n",
       "1064     PRENOM_Léna          G               A\n",
       "1065   PRENOM_Maëlys          F               B\n",
       "1066     PRENOM_Jade          F               B\n",
       "1067     PRENOM_Inès          F               A\n",
       "1068     PRENOM_Zoé           F               A\n",
       "1069     PRENOM_Hugo          F               A\n",
       "1070     PRENOM_Jade          G               A\n",
       "1071    PRENOM_Alice          F               B\n",
       "1072    PRENOM_Manon          F               A\n",
       "1073  PRENOM_Raphaël          F               B\n",
       "1074      PRENOM_Eva          F               B\n",
       "1075   PRENOM_Mathis          F               B\n",
       "1076    PRENOM_Timéo          F               B\n",
       "1077     PRENOM_Noah          F               A\n",
       "1078    PRENOM_Timéo          G               B\n",
       "1079    PRENOM_Clara          F               B\n",
       "1080     PRENOM_Jean        NaN               A\n",
       "1081  PRENOM_Jacques        NaN               A\n",
       "\n",
       "[1082 rows x 3 columns]"
      ]
     },
     "execution_count": 70,
     "metadata": {},
     "output_type": "execute_result"
    }
   ],
   "source": [
    "# Etape 9 : Sélectionner de la 2ème à la 4ème colonnes de 'don1' avec l'attribut iloc\n",
    "don1.iloc[:,1:4]"
   ]
  },
  {
   "cell_type": "code",
   "execution_count": 71,
   "metadata": {},
   "outputs": [
    {
     "data": {
      "text/html": [
       "<div>\n",
       "<style scoped>\n",
       "    .dataframe tbody tr th:only-of-type {\n",
       "        vertical-align: middle;\n",
       "    }\n",
       "\n",
       "    .dataframe tbody tr th {\n",
       "        vertical-align: top;\n",
       "    }\n",
       "\n",
       "    .dataframe thead th {\n",
       "        text-align: right;\n",
       "    }\n",
       "</style>\n",
       "<table border=\"1\" class=\"dataframe\">\n",
       "  <thead>\n",
       "    <tr style=\"text-align: right;\">\n",
       "      <th></th>\n",
       "      <th>fich.prenom</th>\n",
       "      <th>fich.Genre</th>\n",
       "      <th>fich.SEG.VALEUR</th>\n",
       "    </tr>\n",
       "  </thead>\n",
       "  <tbody>\n",
       "    <tr>\n",
       "      <th>0</th>\n",
       "      <td>PRENOM_Alice</td>\n",
       "      <td>G</td>\n",
       "      <td>B</td>\n",
       "    </tr>\n",
       "    <tr>\n",
       "      <th>1</th>\n",
       "      <td>PRENOM_Eva</td>\n",
       "      <td>F</td>\n",
       "      <td>B</td>\n",
       "    </tr>\n",
       "    <tr>\n",
       "      <th>2</th>\n",
       "      <td>PRENOM_Zoé</td>\n",
       "      <td>G</td>\n",
       "      <td>A</td>\n",
       "    </tr>\n",
       "    <tr>\n",
       "      <th>3</th>\n",
       "      <td>PRENOM_Enzo</td>\n",
       "      <td>G</td>\n",
       "      <td>B</td>\n",
       "    </tr>\n",
       "    <tr>\n",
       "      <th>4</th>\n",
       "      <td>PRENOM_Timéo</td>\n",
       "      <td>F</td>\n",
       "      <td>B</td>\n",
       "    </tr>\n",
       "    <tr>\n",
       "      <th>5</th>\n",
       "      <td>PRENOM_Louis</td>\n",
       "      <td>F</td>\n",
       "      <td>A</td>\n",
       "    </tr>\n",
       "    <tr>\n",
       "      <th>6</th>\n",
       "      <td>PRENOM_Timéo</td>\n",
       "      <td>F</td>\n",
       "      <td>A</td>\n",
       "    </tr>\n",
       "    <tr>\n",
       "      <th>7</th>\n",
       "      <td>PRENOM_Maëlys</td>\n",
       "      <td>F</td>\n",
       "      <td>B</td>\n",
       "    </tr>\n",
       "    <tr>\n",
       "      <th>8</th>\n",
       "      <td>PRENOM_Raphaël</td>\n",
       "      <td>F</td>\n",
       "      <td>B</td>\n",
       "    </tr>\n",
       "    <tr>\n",
       "      <th>9</th>\n",
       "      <td>PRENOM_Lilou</td>\n",
       "      <td>F</td>\n",
       "      <td>C</td>\n",
       "    </tr>\n",
       "    <tr>\n",
       "      <th>10</th>\n",
       "      <td>PRENOM_Timéo</td>\n",
       "      <td>F</td>\n",
       "      <td>B</td>\n",
       "    </tr>\n",
       "    <tr>\n",
       "      <th>11</th>\n",
       "      <td>PRENOM_Léa</td>\n",
       "      <td>G</td>\n",
       "      <td>B</td>\n",
       "    </tr>\n",
       "    <tr>\n",
       "      <th>12</th>\n",
       "      <td>PRENOM_Timéo</td>\n",
       "      <td>F</td>\n",
       "      <td>A</td>\n",
       "    </tr>\n",
       "    <tr>\n",
       "      <th>13</th>\n",
       "      <td>PRENOM_Mathis</td>\n",
       "      <td>F</td>\n",
       "      <td>B</td>\n",
       "    </tr>\n",
       "    <tr>\n",
       "      <th>14</th>\n",
       "      <td>PRENOM_Léa</td>\n",
       "      <td>F</td>\n",
       "      <td>A</td>\n",
       "    </tr>\n",
       "    <tr>\n",
       "      <th>15</th>\n",
       "      <td>PRENOM_Maël</td>\n",
       "      <td>G</td>\n",
       "      <td>B</td>\n",
       "    </tr>\n",
       "    <tr>\n",
       "      <th>16</th>\n",
       "      <td>PRENOM_Jules</td>\n",
       "      <td>G</td>\n",
       "      <td>B</td>\n",
       "    </tr>\n",
       "    <tr>\n",
       "      <th>17</th>\n",
       "      <td>PRENOM_Maël</td>\n",
       "      <td>F</td>\n",
       "      <td>B</td>\n",
       "    </tr>\n",
       "    <tr>\n",
       "      <th>18</th>\n",
       "      <td>PRENOM_Raphaël</td>\n",
       "      <td>F</td>\n",
       "      <td>B</td>\n",
       "    </tr>\n",
       "    <tr>\n",
       "      <th>19</th>\n",
       "      <td>PRENOM_Raphaël</td>\n",
       "      <td>G</td>\n",
       "      <td>A</td>\n",
       "    </tr>\n",
       "    <tr>\n",
       "      <th>20</th>\n",
       "      <td>PRENOM_Clément</td>\n",
       "      <td>G</td>\n",
       "      <td>A</td>\n",
       "    </tr>\n",
       "    <tr>\n",
       "      <th>21</th>\n",
       "      <td>PRENOM_Maëlys</td>\n",
       "      <td>G</td>\n",
       "      <td>B</td>\n",
       "    </tr>\n",
       "    <tr>\n",
       "      <th>22</th>\n",
       "      <td>PRENOM_Maël</td>\n",
       "      <td>F</td>\n",
       "      <td>A</td>\n",
       "    </tr>\n",
       "    <tr>\n",
       "      <th>23</th>\n",
       "      <td>PRENOM_Clara</td>\n",
       "      <td>F</td>\n",
       "      <td>A</td>\n",
       "    </tr>\n",
       "    <tr>\n",
       "      <th>24</th>\n",
       "      <td>PRENOM_Sarah</td>\n",
       "      <td>G</td>\n",
       "      <td>B</td>\n",
       "    </tr>\n",
       "    <tr>\n",
       "      <th>25</th>\n",
       "      <td>PRENOM_Enzo</td>\n",
       "      <td>F</td>\n",
       "      <td>A</td>\n",
       "    </tr>\n",
       "    <tr>\n",
       "      <th>26</th>\n",
       "      <td>PRENOM_Louna</td>\n",
       "      <td>F</td>\n",
       "      <td>C</td>\n",
       "    </tr>\n",
       "    <tr>\n",
       "      <th>27</th>\n",
       "      <td>PRENOM_Clara</td>\n",
       "      <td>F</td>\n",
       "      <td>A</td>\n",
       "    </tr>\n",
       "    <tr>\n",
       "      <th>28</th>\n",
       "      <td>PRENOM_Raphaël</td>\n",
       "      <td>G</td>\n",
       "      <td>B</td>\n",
       "    </tr>\n",
       "    <tr>\n",
       "      <th>29</th>\n",
       "      <td>PRENOM_Hugo</td>\n",
       "      <td>F</td>\n",
       "      <td>B</td>\n",
       "    </tr>\n",
       "    <tr>\n",
       "      <th>...</th>\n",
       "      <td>...</td>\n",
       "      <td>...</td>\n",
       "      <td>...</td>\n",
       "    </tr>\n",
       "    <tr>\n",
       "      <th>1052</th>\n",
       "      <td>PRENOM_Gabriel</td>\n",
       "      <td>F</td>\n",
       "      <td>B</td>\n",
       "    </tr>\n",
       "    <tr>\n",
       "      <th>1053</th>\n",
       "      <td>PRENOM_Théo</td>\n",
       "      <td>F</td>\n",
       "      <td>B</td>\n",
       "    </tr>\n",
       "    <tr>\n",
       "      <th>1054</th>\n",
       "      <td>PRENOM_Mathis</td>\n",
       "      <td>F</td>\n",
       "      <td>B</td>\n",
       "    </tr>\n",
       "    <tr>\n",
       "      <th>1055</th>\n",
       "      <td>PRENOM_Clara</td>\n",
       "      <td>F</td>\n",
       "      <td>A</td>\n",
       "    </tr>\n",
       "    <tr>\n",
       "      <th>1056</th>\n",
       "      <td>PRENOM_Lilou</td>\n",
       "      <td>G</td>\n",
       "      <td>A</td>\n",
       "    </tr>\n",
       "    <tr>\n",
       "      <th>1057</th>\n",
       "      <td>PRENOM_Sarah</td>\n",
       "      <td>F</td>\n",
       "      <td>B</td>\n",
       "    </tr>\n",
       "    <tr>\n",
       "      <th>1058</th>\n",
       "      <td>PRENOM_Léa</td>\n",
       "      <td>G</td>\n",
       "      <td>B</td>\n",
       "    </tr>\n",
       "    <tr>\n",
       "      <th>1059</th>\n",
       "      <td>PRENOM_Alice</td>\n",
       "      <td>F</td>\n",
       "      <td>A</td>\n",
       "    </tr>\n",
       "    <tr>\n",
       "      <th>1060</th>\n",
       "      <td>PRENOM_Alice</td>\n",
       "      <td>G</td>\n",
       "      <td>B</td>\n",
       "    </tr>\n",
       "    <tr>\n",
       "      <th>1061</th>\n",
       "      <td>PRENOM_Tom</td>\n",
       "      <td>F</td>\n",
       "      <td>B</td>\n",
       "    </tr>\n",
       "    <tr>\n",
       "      <th>1062</th>\n",
       "      <td>PRENOM_Sarah</td>\n",
       "      <td>F</td>\n",
       "      <td>A</td>\n",
       "    </tr>\n",
       "    <tr>\n",
       "      <th>1063</th>\n",
       "      <td>PRENOM_Lilou</td>\n",
       "      <td>F</td>\n",
       "      <td>B</td>\n",
       "    </tr>\n",
       "    <tr>\n",
       "      <th>1064</th>\n",
       "      <td>PRENOM_Léna</td>\n",
       "      <td>G</td>\n",
       "      <td>A</td>\n",
       "    </tr>\n",
       "    <tr>\n",
       "      <th>1065</th>\n",
       "      <td>PRENOM_Maëlys</td>\n",
       "      <td>F</td>\n",
       "      <td>B</td>\n",
       "    </tr>\n",
       "    <tr>\n",
       "      <th>1066</th>\n",
       "      <td>PRENOM_Jade</td>\n",
       "      <td>F</td>\n",
       "      <td>B</td>\n",
       "    </tr>\n",
       "    <tr>\n",
       "      <th>1067</th>\n",
       "      <td>PRENOM_Inès</td>\n",
       "      <td>F</td>\n",
       "      <td>A</td>\n",
       "    </tr>\n",
       "    <tr>\n",
       "      <th>1068</th>\n",
       "      <td>PRENOM_Zoé</td>\n",
       "      <td>F</td>\n",
       "      <td>A</td>\n",
       "    </tr>\n",
       "    <tr>\n",
       "      <th>1069</th>\n",
       "      <td>PRENOM_Hugo</td>\n",
       "      <td>F</td>\n",
       "      <td>A</td>\n",
       "    </tr>\n",
       "    <tr>\n",
       "      <th>1070</th>\n",
       "      <td>PRENOM_Jade</td>\n",
       "      <td>G</td>\n",
       "      <td>A</td>\n",
       "    </tr>\n",
       "    <tr>\n",
       "      <th>1071</th>\n",
       "      <td>PRENOM_Alice</td>\n",
       "      <td>F</td>\n",
       "      <td>B</td>\n",
       "    </tr>\n",
       "    <tr>\n",
       "      <th>1072</th>\n",
       "      <td>PRENOM_Manon</td>\n",
       "      <td>F</td>\n",
       "      <td>A</td>\n",
       "    </tr>\n",
       "    <tr>\n",
       "      <th>1073</th>\n",
       "      <td>PRENOM_Raphaël</td>\n",
       "      <td>F</td>\n",
       "      <td>B</td>\n",
       "    </tr>\n",
       "    <tr>\n",
       "      <th>1074</th>\n",
       "      <td>PRENOM_Eva</td>\n",
       "      <td>F</td>\n",
       "      <td>B</td>\n",
       "    </tr>\n",
       "    <tr>\n",
       "      <th>1075</th>\n",
       "      <td>PRENOM_Mathis</td>\n",
       "      <td>F</td>\n",
       "      <td>B</td>\n",
       "    </tr>\n",
       "    <tr>\n",
       "      <th>1076</th>\n",
       "      <td>PRENOM_Timéo</td>\n",
       "      <td>F</td>\n",
       "      <td>B</td>\n",
       "    </tr>\n",
       "    <tr>\n",
       "      <th>1077</th>\n",
       "      <td>PRENOM_Noah</td>\n",
       "      <td>F</td>\n",
       "      <td>A</td>\n",
       "    </tr>\n",
       "    <tr>\n",
       "      <th>1078</th>\n",
       "      <td>PRENOM_Timéo</td>\n",
       "      <td>G</td>\n",
       "      <td>B</td>\n",
       "    </tr>\n",
       "    <tr>\n",
       "      <th>1079</th>\n",
       "      <td>PRENOM_Clara</td>\n",
       "      <td>F</td>\n",
       "      <td>B</td>\n",
       "    </tr>\n",
       "    <tr>\n",
       "      <th>1080</th>\n",
       "      <td>PRENOM_Jean</td>\n",
       "      <td>NaN</td>\n",
       "      <td>A</td>\n",
       "    </tr>\n",
       "    <tr>\n",
       "      <th>1081</th>\n",
       "      <td>PRENOM_Jacques</td>\n",
       "      <td>NaN</td>\n",
       "      <td>A</td>\n",
       "    </tr>\n",
       "  </tbody>\n",
       "</table>\n",
       "<p>1082 rows × 3 columns</p>\n",
       "</div>"
      ],
      "text/plain": [
       "         fich.prenom fich.Genre fich.SEG.VALEUR\n",
       "0       PRENOM_Alice          G               B\n",
       "1         PRENOM_Eva          F               B\n",
       "2        PRENOM_Zoé           G               A\n",
       "3        PRENOM_Enzo          G               B\n",
       "4       PRENOM_Timéo          F               B\n",
       "5       PRENOM_Louis          F               A\n",
       "6       PRENOM_Timéo          F               A\n",
       "7      PRENOM_Maëlys          F               B\n",
       "8     PRENOM_Raphaël          F               B\n",
       "9       PRENOM_Lilou          F               C\n",
       "10      PRENOM_Timéo          F               B\n",
       "11        PRENOM_Léa          G               B\n",
       "12      PRENOM_Timéo          F               A\n",
       "13     PRENOM_Mathis          F               B\n",
       "14        PRENOM_Léa          F               A\n",
       "15       PRENOM_Maël          G               B\n",
       "16      PRENOM_Jules          G               B\n",
       "17       PRENOM_Maël          F               B\n",
       "18    PRENOM_Raphaël          F               B\n",
       "19    PRENOM_Raphaël          G               A\n",
       "20    PRENOM_Clément          G               A\n",
       "21     PRENOM_Maëlys          G               B\n",
       "22       PRENOM_Maël          F               A\n",
       "23      PRENOM_Clara          F               A\n",
       "24      PRENOM_Sarah          G               B\n",
       "25       PRENOM_Enzo          F               A\n",
       "26      PRENOM_Louna          F               C\n",
       "27      PRENOM_Clara          F               A\n",
       "28    PRENOM_Raphaël          G               B\n",
       "29       PRENOM_Hugo          F               B\n",
       "...              ...        ...             ...\n",
       "1052  PRENOM_Gabriel          F               B\n",
       "1053     PRENOM_Théo          F               B\n",
       "1054   PRENOM_Mathis          F               B\n",
       "1055    PRENOM_Clara          F               A\n",
       "1056    PRENOM_Lilou          G               A\n",
       "1057    PRENOM_Sarah          F               B\n",
       "1058      PRENOM_Léa          G               B\n",
       "1059    PRENOM_Alice          F               A\n",
       "1060    PRENOM_Alice          G               B\n",
       "1061      PRENOM_Tom          F               B\n",
       "1062    PRENOM_Sarah          F               A\n",
       "1063    PRENOM_Lilou          F               B\n",
       "1064     PRENOM_Léna          G               A\n",
       "1065   PRENOM_Maëlys          F               B\n",
       "1066     PRENOM_Jade          F               B\n",
       "1067     PRENOM_Inès          F               A\n",
       "1068     PRENOM_Zoé           F               A\n",
       "1069     PRENOM_Hugo          F               A\n",
       "1070     PRENOM_Jade          G               A\n",
       "1071    PRENOM_Alice          F               B\n",
       "1072    PRENOM_Manon          F               A\n",
       "1073  PRENOM_Raphaël          F               B\n",
       "1074      PRENOM_Eva          F               B\n",
       "1075   PRENOM_Mathis          F               B\n",
       "1076    PRENOM_Timéo          F               B\n",
       "1077     PRENOM_Noah          F               A\n",
       "1078    PRENOM_Timéo          G               B\n",
       "1079    PRENOM_Clara          F               B\n",
       "1080     PRENOM_Jean        NaN               A\n",
       "1081  PRENOM_Jacques        NaN               A\n",
       "\n",
       "[1082 rows x 3 columns]"
      ]
     },
     "execution_count": 71,
     "metadata": {},
     "output_type": "execute_result"
    }
   ],
   "source": [
    "# avec les index\n",
    "don1.loc[:,['fich.prenom', 'fich.Genre', 'fich.SEG.VALEUR']]"
   ]
  },
  {
   "cell_type": "code",
   "execution_count": 112,
   "metadata": {},
   "outputs": [
    {
     "data": {
      "text/html": [
       "<div>\n",
       "<style scoped>\n",
       "    .dataframe tbody tr th:only-of-type {\n",
       "        vertical-align: middle;\n",
       "    }\n",
       "\n",
       "    .dataframe tbody tr th {\n",
       "        vertical-align: top;\n",
       "    }\n",
       "\n",
       "    .dataframe thead th {\n",
       "        text-align: right;\n",
       "    }\n",
       "</style>\n",
       "<table border=\"1\" class=\"dataframe\">\n",
       "  <thead>\n",
       "    <tr style=\"text-align: right;\">\n",
       "      <th></th>\n",
       "      <th>fich.prenom</th>\n",
       "      <th>fich.Genre</th>\n",
       "      <th>fich.SEG.VALEUR</th>\n",
       "    </tr>\n",
       "  </thead>\n",
       "  <tbody>\n",
       "    <tr>\n",
       "      <th>0</th>\n",
       "      <td>PRENOM_Alice</td>\n",
       "      <td>G</td>\n",
       "      <td>B</td>\n",
       "    </tr>\n",
       "    <tr>\n",
       "      <th>1</th>\n",
       "      <td>PRENOM_Eva</td>\n",
       "      <td>F</td>\n",
       "      <td>B</td>\n",
       "    </tr>\n",
       "    <tr>\n",
       "      <th>2</th>\n",
       "      <td>PRENOM_Zoé</td>\n",
       "      <td>G</td>\n",
       "      <td>A</td>\n",
       "    </tr>\n",
       "    <tr>\n",
       "      <th>3</th>\n",
       "      <td>PRENOM_Enzo</td>\n",
       "      <td>G</td>\n",
       "      <td>B</td>\n",
       "    </tr>\n",
       "    <tr>\n",
       "      <th>4</th>\n",
       "      <td>PRENOM_Timéo</td>\n",
       "      <td>F</td>\n",
       "      <td>B</td>\n",
       "    </tr>\n",
       "    <tr>\n",
       "      <th>5</th>\n",
       "      <td>PRENOM_Louis</td>\n",
       "      <td>F</td>\n",
       "      <td>A</td>\n",
       "    </tr>\n",
       "    <tr>\n",
       "      <th>6</th>\n",
       "      <td>PRENOM_Timéo</td>\n",
       "      <td>F</td>\n",
       "      <td>A</td>\n",
       "    </tr>\n",
       "    <tr>\n",
       "      <th>7</th>\n",
       "      <td>PRENOM_Maëlys</td>\n",
       "      <td>F</td>\n",
       "      <td>B</td>\n",
       "    </tr>\n",
       "    <tr>\n",
       "      <th>8</th>\n",
       "      <td>PRENOM_Raphaël</td>\n",
       "      <td>F</td>\n",
       "      <td>B</td>\n",
       "    </tr>\n",
       "    <tr>\n",
       "      <th>9</th>\n",
       "      <td>PRENOM_Lilou</td>\n",
       "      <td>F</td>\n",
       "      <td>C</td>\n",
       "    </tr>\n",
       "    <tr>\n",
       "      <th>10</th>\n",
       "      <td>PRENOM_Timéo</td>\n",
       "      <td>F</td>\n",
       "      <td>B</td>\n",
       "    </tr>\n",
       "    <tr>\n",
       "      <th>11</th>\n",
       "      <td>PRENOM_Léa</td>\n",
       "      <td>G</td>\n",
       "      <td>B</td>\n",
       "    </tr>\n",
       "    <tr>\n",
       "      <th>12</th>\n",
       "      <td>PRENOM_Timéo</td>\n",
       "      <td>F</td>\n",
       "      <td>A</td>\n",
       "    </tr>\n",
       "    <tr>\n",
       "      <th>13</th>\n",
       "      <td>PRENOM_Mathis</td>\n",
       "      <td>F</td>\n",
       "      <td>B</td>\n",
       "    </tr>\n",
       "    <tr>\n",
       "      <th>14</th>\n",
       "      <td>PRENOM_Léa</td>\n",
       "      <td>F</td>\n",
       "      <td>A</td>\n",
       "    </tr>\n",
       "    <tr>\n",
       "      <th>15</th>\n",
       "      <td>PRENOM_Maël</td>\n",
       "      <td>G</td>\n",
       "      <td>B</td>\n",
       "    </tr>\n",
       "    <tr>\n",
       "      <th>16</th>\n",
       "      <td>PRENOM_Jules</td>\n",
       "      <td>G</td>\n",
       "      <td>B</td>\n",
       "    </tr>\n",
       "    <tr>\n",
       "      <th>17</th>\n",
       "      <td>PRENOM_Maël</td>\n",
       "      <td>F</td>\n",
       "      <td>B</td>\n",
       "    </tr>\n",
       "    <tr>\n",
       "      <th>18</th>\n",
       "      <td>PRENOM_Raphaël</td>\n",
       "      <td>F</td>\n",
       "      <td>B</td>\n",
       "    </tr>\n",
       "    <tr>\n",
       "      <th>19</th>\n",
       "      <td>PRENOM_Raphaël</td>\n",
       "      <td>G</td>\n",
       "      <td>A</td>\n",
       "    </tr>\n",
       "    <tr>\n",
       "      <th>20</th>\n",
       "      <td>PRENOM_Clément</td>\n",
       "      <td>G</td>\n",
       "      <td>A</td>\n",
       "    </tr>\n",
       "    <tr>\n",
       "      <th>21</th>\n",
       "      <td>PRENOM_Maëlys</td>\n",
       "      <td>G</td>\n",
       "      <td>B</td>\n",
       "    </tr>\n",
       "    <tr>\n",
       "      <th>22</th>\n",
       "      <td>PRENOM_Maël</td>\n",
       "      <td>F</td>\n",
       "      <td>A</td>\n",
       "    </tr>\n",
       "    <tr>\n",
       "      <th>23</th>\n",
       "      <td>PRENOM_Clara</td>\n",
       "      <td>F</td>\n",
       "      <td>A</td>\n",
       "    </tr>\n",
       "    <tr>\n",
       "      <th>24</th>\n",
       "      <td>PRENOM_Sarah</td>\n",
       "      <td>G</td>\n",
       "      <td>B</td>\n",
       "    </tr>\n",
       "    <tr>\n",
       "      <th>25</th>\n",
       "      <td>PRENOM_Enzo</td>\n",
       "      <td>F</td>\n",
       "      <td>A</td>\n",
       "    </tr>\n",
       "    <tr>\n",
       "      <th>26</th>\n",
       "      <td>PRENOM_Louna</td>\n",
       "      <td>F</td>\n",
       "      <td>C</td>\n",
       "    </tr>\n",
       "    <tr>\n",
       "      <th>27</th>\n",
       "      <td>PRENOM_Clara</td>\n",
       "      <td>F</td>\n",
       "      <td>A</td>\n",
       "    </tr>\n",
       "    <tr>\n",
       "      <th>28</th>\n",
       "      <td>PRENOM_Raphaël</td>\n",
       "      <td>G</td>\n",
       "      <td>B</td>\n",
       "    </tr>\n",
       "    <tr>\n",
       "      <th>29</th>\n",
       "      <td>PRENOM_Hugo</td>\n",
       "      <td>F</td>\n",
       "      <td>B</td>\n",
       "    </tr>\n",
       "    <tr>\n",
       "      <th>...</th>\n",
       "      <td>...</td>\n",
       "      <td>...</td>\n",
       "      <td>...</td>\n",
       "    </tr>\n",
       "    <tr>\n",
       "      <th>1052</th>\n",
       "      <td>PRENOM_Gabriel</td>\n",
       "      <td>F</td>\n",
       "      <td>B</td>\n",
       "    </tr>\n",
       "    <tr>\n",
       "      <th>1053</th>\n",
       "      <td>PRENOM_Théo</td>\n",
       "      <td>F</td>\n",
       "      <td>B</td>\n",
       "    </tr>\n",
       "    <tr>\n",
       "      <th>1054</th>\n",
       "      <td>PRENOM_Mathis</td>\n",
       "      <td>F</td>\n",
       "      <td>B</td>\n",
       "    </tr>\n",
       "    <tr>\n",
       "      <th>1055</th>\n",
       "      <td>PRENOM_Clara</td>\n",
       "      <td>F</td>\n",
       "      <td>A</td>\n",
       "    </tr>\n",
       "    <tr>\n",
       "      <th>1056</th>\n",
       "      <td>PRENOM_Lilou</td>\n",
       "      <td>G</td>\n",
       "      <td>A</td>\n",
       "    </tr>\n",
       "    <tr>\n",
       "      <th>1057</th>\n",
       "      <td>PRENOM_Sarah</td>\n",
       "      <td>F</td>\n",
       "      <td>B</td>\n",
       "    </tr>\n",
       "    <tr>\n",
       "      <th>1058</th>\n",
       "      <td>PRENOM_Léa</td>\n",
       "      <td>G</td>\n",
       "      <td>B</td>\n",
       "    </tr>\n",
       "    <tr>\n",
       "      <th>1059</th>\n",
       "      <td>PRENOM_Alice</td>\n",
       "      <td>F</td>\n",
       "      <td>A</td>\n",
       "    </tr>\n",
       "    <tr>\n",
       "      <th>1060</th>\n",
       "      <td>PRENOM_Alice</td>\n",
       "      <td>G</td>\n",
       "      <td>B</td>\n",
       "    </tr>\n",
       "    <tr>\n",
       "      <th>1061</th>\n",
       "      <td>PRENOM_Tom</td>\n",
       "      <td>F</td>\n",
       "      <td>B</td>\n",
       "    </tr>\n",
       "    <tr>\n",
       "      <th>1062</th>\n",
       "      <td>PRENOM_Sarah</td>\n",
       "      <td>F</td>\n",
       "      <td>A</td>\n",
       "    </tr>\n",
       "    <tr>\n",
       "      <th>1063</th>\n",
       "      <td>PRENOM_Lilou</td>\n",
       "      <td>F</td>\n",
       "      <td>B</td>\n",
       "    </tr>\n",
       "    <tr>\n",
       "      <th>1064</th>\n",
       "      <td>PRENOM_Léna</td>\n",
       "      <td>G</td>\n",
       "      <td>A</td>\n",
       "    </tr>\n",
       "    <tr>\n",
       "      <th>1065</th>\n",
       "      <td>PRENOM_Maëlys</td>\n",
       "      <td>F</td>\n",
       "      <td>B</td>\n",
       "    </tr>\n",
       "    <tr>\n",
       "      <th>1066</th>\n",
       "      <td>PRENOM_Jade</td>\n",
       "      <td>F</td>\n",
       "      <td>B</td>\n",
       "    </tr>\n",
       "    <tr>\n",
       "      <th>1067</th>\n",
       "      <td>PRENOM_Inès</td>\n",
       "      <td>F</td>\n",
       "      <td>A</td>\n",
       "    </tr>\n",
       "    <tr>\n",
       "      <th>1068</th>\n",
       "      <td>PRENOM_Zoé</td>\n",
       "      <td>F</td>\n",
       "      <td>A</td>\n",
       "    </tr>\n",
       "    <tr>\n",
       "      <th>1069</th>\n",
       "      <td>PRENOM_Hugo</td>\n",
       "      <td>F</td>\n",
       "      <td>A</td>\n",
       "    </tr>\n",
       "    <tr>\n",
       "      <th>1070</th>\n",
       "      <td>PRENOM_Jade</td>\n",
       "      <td>G</td>\n",
       "      <td>A</td>\n",
       "    </tr>\n",
       "    <tr>\n",
       "      <th>1071</th>\n",
       "      <td>PRENOM_Alice</td>\n",
       "      <td>F</td>\n",
       "      <td>B</td>\n",
       "    </tr>\n",
       "    <tr>\n",
       "      <th>1072</th>\n",
       "      <td>PRENOM_Manon</td>\n",
       "      <td>F</td>\n",
       "      <td>A</td>\n",
       "    </tr>\n",
       "    <tr>\n",
       "      <th>1073</th>\n",
       "      <td>PRENOM_Raphaël</td>\n",
       "      <td>F</td>\n",
       "      <td>B</td>\n",
       "    </tr>\n",
       "    <tr>\n",
       "      <th>1074</th>\n",
       "      <td>PRENOM_Eva</td>\n",
       "      <td>F</td>\n",
       "      <td>B</td>\n",
       "    </tr>\n",
       "    <tr>\n",
       "      <th>1075</th>\n",
       "      <td>PRENOM_Mathis</td>\n",
       "      <td>F</td>\n",
       "      <td>B</td>\n",
       "    </tr>\n",
       "    <tr>\n",
       "      <th>1076</th>\n",
       "      <td>PRENOM_Timéo</td>\n",
       "      <td>F</td>\n",
       "      <td>B</td>\n",
       "    </tr>\n",
       "    <tr>\n",
       "      <th>1077</th>\n",
       "      <td>PRENOM_Noah</td>\n",
       "      <td>F</td>\n",
       "      <td>A</td>\n",
       "    </tr>\n",
       "    <tr>\n",
       "      <th>1078</th>\n",
       "      <td>PRENOM_Timéo</td>\n",
       "      <td>G</td>\n",
       "      <td>B</td>\n",
       "    </tr>\n",
       "    <tr>\n",
       "      <th>1079</th>\n",
       "      <td>PRENOM_Clara</td>\n",
       "      <td>F</td>\n",
       "      <td>B</td>\n",
       "    </tr>\n",
       "    <tr>\n",
       "      <th>1080</th>\n",
       "      <td>PRENOM_Jean</td>\n",
       "      <td>NaN</td>\n",
       "      <td>A</td>\n",
       "    </tr>\n",
       "    <tr>\n",
       "      <th>1081</th>\n",
       "      <td>PRENOM_Jacques</td>\n",
       "      <td>NaN</td>\n",
       "      <td>A</td>\n",
       "    </tr>\n",
       "  </tbody>\n",
       "</table>\n",
       "<p>1082 rows × 3 columns</p>\n",
       "</div>"
      ],
      "text/plain": [
       "         fich.prenom fich.Genre fich.SEG.VALEUR\n",
       "0       PRENOM_Alice          G               B\n",
       "1         PRENOM_Eva          F               B\n",
       "2        PRENOM_Zoé           G               A\n",
       "3        PRENOM_Enzo          G               B\n",
       "4       PRENOM_Timéo          F               B\n",
       "5       PRENOM_Louis          F               A\n",
       "6       PRENOM_Timéo          F               A\n",
       "7      PRENOM_Maëlys          F               B\n",
       "8     PRENOM_Raphaël          F               B\n",
       "9       PRENOM_Lilou          F               C\n",
       "10      PRENOM_Timéo          F               B\n",
       "11        PRENOM_Léa          G               B\n",
       "12      PRENOM_Timéo          F               A\n",
       "13     PRENOM_Mathis          F               B\n",
       "14        PRENOM_Léa          F               A\n",
       "15       PRENOM_Maël          G               B\n",
       "16      PRENOM_Jules          G               B\n",
       "17       PRENOM_Maël          F               B\n",
       "18    PRENOM_Raphaël          F               B\n",
       "19    PRENOM_Raphaël          G               A\n",
       "20    PRENOM_Clément          G               A\n",
       "21     PRENOM_Maëlys          G               B\n",
       "22       PRENOM_Maël          F               A\n",
       "23      PRENOM_Clara          F               A\n",
       "24      PRENOM_Sarah          G               B\n",
       "25       PRENOM_Enzo          F               A\n",
       "26      PRENOM_Louna          F               C\n",
       "27      PRENOM_Clara          F               A\n",
       "28    PRENOM_Raphaël          G               B\n",
       "29       PRENOM_Hugo          F               B\n",
       "...              ...        ...             ...\n",
       "1052  PRENOM_Gabriel          F               B\n",
       "1053     PRENOM_Théo          F               B\n",
       "1054   PRENOM_Mathis          F               B\n",
       "1055    PRENOM_Clara          F               A\n",
       "1056    PRENOM_Lilou          G               A\n",
       "1057    PRENOM_Sarah          F               B\n",
       "1058      PRENOM_Léa          G               B\n",
       "1059    PRENOM_Alice          F               A\n",
       "1060    PRENOM_Alice          G               B\n",
       "1061      PRENOM_Tom          F               B\n",
       "1062    PRENOM_Sarah          F               A\n",
       "1063    PRENOM_Lilou          F               B\n",
       "1064     PRENOM_Léna          G               A\n",
       "1065   PRENOM_Maëlys          F               B\n",
       "1066     PRENOM_Jade          F               B\n",
       "1067     PRENOM_Inès          F               A\n",
       "1068     PRENOM_Zoé           F               A\n",
       "1069     PRENOM_Hugo          F               A\n",
       "1070     PRENOM_Jade          G               A\n",
       "1071    PRENOM_Alice          F               B\n",
       "1072    PRENOM_Manon          F               A\n",
       "1073  PRENOM_Raphaël          F               B\n",
       "1074      PRENOM_Eva          F               B\n",
       "1075   PRENOM_Mathis          F               B\n",
       "1076    PRENOM_Timéo          F               B\n",
       "1077     PRENOM_Noah          F               A\n",
       "1078    PRENOM_Timéo          G               B\n",
       "1079    PRENOM_Clara          F               B\n",
       "1080     PRENOM_Jean        NaN               A\n",
       "1081  PRENOM_Jacques        NaN               A\n",
       "\n",
       "[1082 rows x 3 columns]"
      ]
     },
     "execution_count": 112,
     "metadata": {},
     "output_type": "execute_result"
    }
   ],
   "source": [
    "don1.loc[:,don1.columns[1:4]]"
   ]
  },
  {
   "cell_type": "code",
   "execution_count": 80,
   "metadata": {},
   "outputs": [
    {
     "data": {
      "text/html": [
       "<div>\n",
       "<style scoped>\n",
       "    .dataframe tbody tr th:only-of-type {\n",
       "        vertical-align: middle;\n",
       "    }\n",
       "\n",
       "    .dataframe tbody tr th {\n",
       "        vertical-align: top;\n",
       "    }\n",
       "\n",
       "    .dataframe thead th {\n",
       "        text-align: right;\n",
       "    }\n",
       "</style>\n",
       "<table border=\"1\" class=\"dataframe\">\n",
       "  <thead>\n",
       "    <tr style=\"text-align: right;\">\n",
       "      <th></th>\n",
       "      <th>fich.ID</th>\n",
       "      <th>fich.prenom</th>\n",
       "      <th>fich.Genre</th>\n",
       "      <th>fich.SEG.VALEUR</th>\n",
       "      <th>fich.AGE</th>\n",
       "      <th>fich.CODE_DPT</th>\n",
       "      <th>fich.Dat.ARRIVEE</th>\n",
       "      <th>fich.PRIMe</th>\n",
       "    </tr>\n",
       "  </thead>\n",
       "  <tbody>\n",
       "    <tr>\n",
       "      <th>2</th>\n",
       "      <td>1003</td>\n",
       "      <td>PRENOM_Zoé</td>\n",
       "      <td>G</td>\n",
       "      <td>A</td>\n",
       "      <td>24.4</td>\n",
       "      <td>37</td>\n",
       "      <td>24/03/2016</td>\n",
       "      <td>1936.0</td>\n",
       "    </tr>\n",
       "    <tr>\n",
       "      <th>3</th>\n",
       "      <td>1004</td>\n",
       "      <td>PRENOM_Enzo</td>\n",
       "      <td>G</td>\n",
       "      <td>B</td>\n",
       "      <td>25.0</td>\n",
       "      <td>73</td>\n",
       "      <td>11/07/2015</td>\n",
       "      <td>NaN</td>\n",
       "    </tr>\n",
       "    <tr>\n",
       "      <th>4</th>\n",
       "      <td>1005</td>\n",
       "      <td>PRENOM_Timéo</td>\n",
       "      <td>F</td>\n",
       "      <td>B</td>\n",
       "      <td>43.0</td>\n",
       "      <td>52</td>\n",
       "      <td>05/02/2015</td>\n",
       "      <td>NaN</td>\n",
       "    </tr>\n",
       "    <tr>\n",
       "      <th>5</th>\n",
       "      <td>1006</td>\n",
       "      <td>PRENOM_Louis</td>\n",
       "      <td>F</td>\n",
       "      <td>A</td>\n",
       "      <td>30.8</td>\n",
       "      <td>72</td>\n",
       "      <td>15/03/2015</td>\n",
       "      <td>NaN</td>\n",
       "    </tr>\n",
       "    <tr>\n",
       "      <th>6</th>\n",
       "      <td>1007</td>\n",
       "      <td>PRENOM_Timéo</td>\n",
       "      <td>F</td>\n",
       "      <td>A</td>\n",
       "      <td>35.6</td>\n",
       "      <td>12</td>\n",
       "      <td>06/08/2015</td>\n",
       "      <td>NaN</td>\n",
       "    </tr>\n",
       "    <tr>\n",
       "      <th>7</th>\n",
       "      <td>1008</td>\n",
       "      <td>PRENOM_Maëlys</td>\n",
       "      <td>F</td>\n",
       "      <td>B</td>\n",
       "      <td>57.0</td>\n",
       "      <td>7</td>\n",
       "      <td>20/11/2014</td>\n",
       "      <td>NaN</td>\n",
       "    </tr>\n",
       "    <tr>\n",
       "      <th>8</th>\n",
       "      <td>1009</td>\n",
       "      <td>PRENOM_Raphaël</td>\n",
       "      <td>F</td>\n",
       "      <td>B</td>\n",
       "      <td>42.0</td>\n",
       "      <td>88</td>\n",
       "      <td>03/11/2014</td>\n",
       "      <td>2763.0</td>\n",
       "    </tr>\n",
       "    <tr>\n",
       "      <th>9</th>\n",
       "      <td>1010</td>\n",
       "      <td>PRENOM_Lilou</td>\n",
       "      <td>F</td>\n",
       "      <td>C</td>\n",
       "      <td>40.4</td>\n",
       "      <td>43</td>\n",
       "      <td>27/05/2014</td>\n",
       "      <td>1820.0</td>\n",
       "    </tr>\n",
       "    <tr>\n",
       "      <th>10</th>\n",
       "      <td>1011</td>\n",
       "      <td>PRENOM_Timéo</td>\n",
       "      <td>F</td>\n",
       "      <td>B</td>\n",
       "      <td>56.0</td>\n",
       "      <td>39</td>\n",
       "      <td>24/12/2014</td>\n",
       "      <td>2911.0</td>\n",
       "    </tr>\n",
       "    <tr>\n",
       "      <th>11</th>\n",
       "      <td>1012</td>\n",
       "      <td>PRENOM_Léa</td>\n",
       "      <td>G</td>\n",
       "      <td>B</td>\n",
       "      <td>45.0</td>\n",
       "      <td>44</td>\n",
       "      <td>15/08/2015</td>\n",
       "      <td>NaN</td>\n",
       "    </tr>\n",
       "    <tr>\n",
       "      <th>12</th>\n",
       "      <td>1013</td>\n",
       "      <td>PRENOM_Timéo</td>\n",
       "      <td>F</td>\n",
       "      <td>A</td>\n",
       "      <td>38.0</td>\n",
       "      <td>8</td>\n",
       "      <td>08/02/2016</td>\n",
       "      <td>NaN</td>\n",
       "    </tr>\n",
       "    <tr>\n",
       "      <th>13</th>\n",
       "      <td>1014</td>\n",
       "      <td>PRENOM_Mathis</td>\n",
       "      <td>F</td>\n",
       "      <td>B</td>\n",
       "      <td>43.0</td>\n",
       "      <td>7</td>\n",
       "      <td>08/12/2014</td>\n",
       "      <td>2434.0</td>\n",
       "    </tr>\n",
       "    <tr>\n",
       "      <th>14</th>\n",
       "      <td>1015</td>\n",
       "      <td>PRENOM_Léa</td>\n",
       "      <td>F</td>\n",
       "      <td>A</td>\n",
       "      <td>28.4</td>\n",
       "      <td>15</td>\n",
       "      <td>14/11/2015</td>\n",
       "      <td>2255.0</td>\n",
       "    </tr>\n",
       "  </tbody>\n",
       "</table>\n",
       "</div>"
      ],
      "text/plain": [
       "    fich.ID     fich.prenom fich.Genre fich.SEG.VALEUR  fich.AGE  \\\n",
       "2      1003     PRENOM_Zoé           G               A      24.4   \n",
       "3      1004     PRENOM_Enzo          G               B      25.0   \n",
       "4      1005    PRENOM_Timéo          F               B      43.0   \n",
       "5      1006    PRENOM_Louis          F               A      30.8   \n",
       "6      1007    PRENOM_Timéo          F               A      35.6   \n",
       "7      1008   PRENOM_Maëlys          F               B      57.0   \n",
       "8      1009  PRENOM_Raphaël          F               B      42.0   \n",
       "9      1010    PRENOM_Lilou          F               C      40.4   \n",
       "10     1011    PRENOM_Timéo          F               B      56.0   \n",
       "11     1012      PRENOM_Léa          G               B      45.0   \n",
       "12     1013    PRENOM_Timéo          F               A      38.0   \n",
       "13     1014   PRENOM_Mathis          F               B      43.0   \n",
       "14     1015      PRENOM_Léa          F               A      28.4   \n",
       "\n",
       "    fich.CODE_DPT fich.Dat.ARRIVEE  fich.PRIMe  \n",
       "2              37       24/03/2016      1936.0  \n",
       "3              73       11/07/2015         NaN  \n",
       "4              52       05/02/2015         NaN  \n",
       "5              72       15/03/2015         NaN  \n",
       "6              12       06/08/2015         NaN  \n",
       "7               7       20/11/2014         NaN  \n",
       "8              88       03/11/2014      2763.0  \n",
       "9              43       27/05/2014      1820.0  \n",
       "10             39       24/12/2014      2911.0  \n",
       "11             44       15/08/2015         NaN  \n",
       "12              8       08/02/2016         NaN  \n",
       "13              7       08/12/2014      2434.0  \n",
       "14             15       14/11/2015      2255.0  "
      ]
     },
     "execution_count": 80,
     "metadata": {},
     "output_type": "execute_result"
    }
   ],
   "source": [
    "# Etape 10 : Sélectionner de la 3ème à la 15ème lignes de 'don1' avec l'attribut iloc\n",
    "don1.iloc[2:15,]"
   ]
  },
  {
   "cell_type": "code",
   "execution_count": 72,
   "metadata": {},
   "outputs": [
    {
     "data": {
      "text/html": [
       "<div>\n",
       "<style scoped>\n",
       "    .dataframe tbody tr th:only-of-type {\n",
       "        vertical-align: middle;\n",
       "    }\n",
       "\n",
       "    .dataframe tbody tr th {\n",
       "        vertical-align: top;\n",
       "    }\n",
       "\n",
       "    .dataframe thead th {\n",
       "        text-align: right;\n",
       "    }\n",
       "</style>\n",
       "<table border=\"1\" class=\"dataframe\">\n",
       "  <thead>\n",
       "    <tr style=\"text-align: right;\">\n",
       "      <th></th>\n",
       "      <th>fich.prenom</th>\n",
       "      <th>fich.Genre</th>\n",
       "      <th>fich.SEG.VALEUR</th>\n",
       "    </tr>\n",
       "  </thead>\n",
       "  <tbody>\n",
       "    <tr>\n",
       "      <th>2</th>\n",
       "      <td>PRENOM_Zoé</td>\n",
       "      <td>G</td>\n",
       "      <td>A</td>\n",
       "    </tr>\n",
       "    <tr>\n",
       "      <th>3</th>\n",
       "      <td>PRENOM_Enzo</td>\n",
       "      <td>G</td>\n",
       "      <td>B</td>\n",
       "    </tr>\n",
       "    <tr>\n",
       "      <th>4</th>\n",
       "      <td>PRENOM_Timéo</td>\n",
       "      <td>F</td>\n",
       "      <td>B</td>\n",
       "    </tr>\n",
       "    <tr>\n",
       "      <th>5</th>\n",
       "      <td>PRENOM_Louis</td>\n",
       "      <td>F</td>\n",
       "      <td>A</td>\n",
       "    </tr>\n",
       "    <tr>\n",
       "      <th>6</th>\n",
       "      <td>PRENOM_Timéo</td>\n",
       "      <td>F</td>\n",
       "      <td>A</td>\n",
       "    </tr>\n",
       "    <tr>\n",
       "      <th>7</th>\n",
       "      <td>PRENOM_Maëlys</td>\n",
       "      <td>F</td>\n",
       "      <td>B</td>\n",
       "    </tr>\n",
       "    <tr>\n",
       "      <th>8</th>\n",
       "      <td>PRENOM_Raphaël</td>\n",
       "      <td>F</td>\n",
       "      <td>B</td>\n",
       "    </tr>\n",
       "    <tr>\n",
       "      <th>9</th>\n",
       "      <td>PRENOM_Lilou</td>\n",
       "      <td>F</td>\n",
       "      <td>C</td>\n",
       "    </tr>\n",
       "    <tr>\n",
       "      <th>10</th>\n",
       "      <td>PRENOM_Timéo</td>\n",
       "      <td>F</td>\n",
       "      <td>B</td>\n",
       "    </tr>\n",
       "    <tr>\n",
       "      <th>11</th>\n",
       "      <td>PRENOM_Léa</td>\n",
       "      <td>G</td>\n",
       "      <td>B</td>\n",
       "    </tr>\n",
       "    <tr>\n",
       "      <th>12</th>\n",
       "      <td>PRENOM_Timéo</td>\n",
       "      <td>F</td>\n",
       "      <td>A</td>\n",
       "    </tr>\n",
       "    <tr>\n",
       "      <th>13</th>\n",
       "      <td>PRENOM_Mathis</td>\n",
       "      <td>F</td>\n",
       "      <td>B</td>\n",
       "    </tr>\n",
       "    <tr>\n",
       "      <th>14</th>\n",
       "      <td>PRENOM_Léa</td>\n",
       "      <td>F</td>\n",
       "      <td>A</td>\n",
       "    </tr>\n",
       "  </tbody>\n",
       "</table>\n",
       "</div>"
      ],
      "text/plain": [
       "       fich.prenom fich.Genre fich.SEG.VALEUR\n",
       "2      PRENOM_Zoé           G               A\n",
       "3      PRENOM_Enzo          G               B\n",
       "4     PRENOM_Timéo          F               B\n",
       "5     PRENOM_Louis          F               A\n",
       "6     PRENOM_Timéo          F               A\n",
       "7    PRENOM_Maëlys          F               B\n",
       "8   PRENOM_Raphaël          F               B\n",
       "9     PRENOM_Lilou          F               C\n",
       "10    PRENOM_Timéo          F               B\n",
       "11      PRENOM_Léa          G               B\n",
       "12    PRENOM_Timéo          F               A\n",
       "13   PRENOM_Mathis          F               B\n",
       "14      PRENOM_Léa          F               A"
      ]
     },
     "execution_count": 72,
     "metadata": {},
     "output_type": "execute_result"
    }
   ],
   "source": [
    "# Etape 11 : Sélectionner de la 2ème à la 4ème colonnes et de la 3ème à la 15ème lignes de 'don1' avec l'attibut iloc\n",
    "don1.iloc[2:15,1:4]"
   ]
  },
  {
   "cell_type": "markdown",
   "metadata": {},
   "source": [
    "## <a name=\"sect18\"></a> 2.1.4 compléments - manipulations diverses"
   ]
  },
  {
   "cell_type": "code",
   "execution_count": 161,
   "metadata": {},
   "outputs": [
    {
     "name": "stdout",
     "output_type": "stream",
     "text": [
      "       ID        PRENOM GENRE\n",
      "74   1075   PRENOM_Zoé      F\n",
      "145  1146    PRENOM_Tom     F\n",
      "205  1207  PRENOM_Timéo     G\n",
      "629  1632   PRENOM_Théo     F\n",
      "        ID        PRENOM SEG.VALEUR   AGE  CODE_DPT\n",
      "74    1075   PRENOM_Zoé           B  22.0        73\n",
      "1056  2060  PRENOM_Alice          A  20.4        61\n",
      "833   1836   PRENOM_Adam          A  20.4        94\n"
     ]
    }
   ],
   "source": [
    "# Construire 2 dataframes à partir de don\n",
    "dona = don.iloc[0:4,0:3]\n",
    "print(dona)\n",
    "\n",
    "donb = don.iloc[[0,30,31],[0,1,3,4,5]]\n",
    "print(donb)"
   ]
  },
  {
   "cell_type": "code",
   "execution_count": 162,
   "metadata": {},
   "outputs": [
    {
     "name": "stdout",
     "output_type": "stream",
     "text": [
      "74      True\n",
      "145    False\n",
      "205    False\n",
      "629    False\n",
      "Name: ID, dtype: bool\n"
     ]
    },
    {
     "data": {
      "text/html": [
       "<div>\n",
       "<style scoped>\n",
       "    .dataframe tbody tr th:only-of-type {\n",
       "        vertical-align: middle;\n",
       "    }\n",
       "\n",
       "    .dataframe tbody tr th {\n",
       "        vertical-align: top;\n",
       "    }\n",
       "\n",
       "    .dataframe thead th {\n",
       "        text-align: right;\n",
       "    }\n",
       "</style>\n",
       "<table border=\"1\" class=\"dataframe\">\n",
       "  <thead>\n",
       "    <tr style=\"text-align: right;\">\n",
       "      <th></th>\n",
       "      <th>ID</th>\n",
       "      <th>PRENOM</th>\n",
       "      <th>GENRE</th>\n",
       "    </tr>\n",
       "  </thead>\n",
       "  <tbody>\n",
       "    <tr>\n",
       "      <th>145</th>\n",
       "      <td>1146</td>\n",
       "      <td>PRENOM_Tom</td>\n",
       "      <td>F</td>\n",
       "    </tr>\n",
       "    <tr>\n",
       "      <th>205</th>\n",
       "      <td>1207</td>\n",
       "      <td>PRENOM_Timéo</td>\n",
       "      <td>G</td>\n",
       "    </tr>\n",
       "    <tr>\n",
       "      <th>629</th>\n",
       "      <td>1632</td>\n",
       "      <td>PRENOM_Théo</td>\n",
       "      <td>F</td>\n",
       "    </tr>\n",
       "  </tbody>\n",
       "</table>\n",
       "</div>"
      ],
      "text/plain": [
       "       ID        PRENOM GENRE\n",
       "145  1146    PRENOM_Tom     F\n",
       "205  1207  PRENOM_Timéo     G\n",
       "629  1632   PRENOM_Théo     F"
      ]
     },
     "execution_count": 162,
     "metadata": {},
     "output_type": "execute_result"
    }
   ],
   "source": [
    "# créer un booleen est ce que les individus de A sont présents dans B\n",
    "presence = dona['ID'].isin(donb['ID'])\n",
    "print(presence)\n",
    "\n",
    "# Selectionner les individus dans A mais pas dans B\n",
    "# en utilisant la colonne booleen\n",
    "dona[presence == False]"
   ]
  },
  {
   "cell_type": "code",
   "execution_count": 163,
   "metadata": {
    "scrolled": true
   },
   "outputs": [
    {
     "name": "stdout",
     "output_type": "stream",
     "text": [
      "145    1146\n",
      "205    1207\n",
      "629    1632\n",
      "Name: ID, dtype: category\n",
      "Categories (1079, int64): [1001, 1002, 1003, 1004, ..., 2079, 2080, 2081, 2082]\n",
      "466    1469\n",
      "723    1726\n",
      "825    1828\n",
      "416    1419\n",
      "Name: ID, dtype: category\n",
      "Categories (1079, int64): [1001, 1002, 1003, 1004, ..., 2079, 2080, 2081, 2082]\n",
      "145    1146\n",
      "205    1207\n",
      "629    1632\n",
      "466    1469\n",
      "723    1726\n",
      "825    1828\n",
      "416    1419\n",
      "Name: ID, dtype: category\n",
      "Categories (1079, int64): [1001, 1002, 1003, 1004, ..., 2079, 2080, 2081, 2082]\n"
     ]
    }
   ],
   "source": [
    "# Concaténation (ajout sur ligne)\n",
    "dona = don.iloc[1:4,]\n",
    "print(dona.ID)\n",
    "donb = don.iloc[6:10,]\n",
    "print(donb.ID)\n",
    "\n",
    "# Concaténation \n",
    "y = pd.concat([dona,donb],axis=0)\n",
    "y.ID\n",
    "\n",
    "# Concaténation : autre version\n",
    "x = dona.append(donb)\n",
    "print(x.ID)"
   ]
  },
  {
   "cell_type": "code",
   "execution_count": 164,
   "metadata": {
    "scrolled": true
   },
   "outputs": [
    {
     "name": "stdout",
     "output_type": "stream",
     "text": [
      "        ID          PRENOM GENRE\n",
      "74    1075     PRENOM_Zoé      F\n",
      "145   1146      PRENOM_Tom     F\n",
      "205   1207    PRENOM_Timéo     G\n",
      "629   1632     PRENOM_Théo     F\n",
      "1059  2063    PRENOM_Sarah     F\n",
      "462   1465  PRENOM_Raphaël     G\n",
      "466   1469     PRENOM_Noah     F\n",
      "723   1726   PRENOM_Maëlys     F\n",
      "825   1828     PRENOM_Maël     F\n",
      "416   1419   PRENOM_Mathis     F\n",
      "      CODE_DPT DAT.ARRIVEE\n",
      "74          73  2014-11-27\n",
      "145         46  2016-01-09\n",
      "205         95  2016-01-08\n",
      "629         87  2014-11-29\n",
      "1059        16  2015-08-08\n",
      "462         13  2015-08-05\n",
      "466         18  2015-03-11\n",
      "723         44  2015-03-05\n",
      "825         85  2015-07-07\n",
      "416         49  2015-04-20\n"
     ]
    },
    {
     "data": {
      "text/html": [
       "<div>\n",
       "<style scoped>\n",
       "    .dataframe tbody tr th:only-of-type {\n",
       "        vertical-align: middle;\n",
       "    }\n",
       "\n",
       "    .dataframe tbody tr th {\n",
       "        vertical-align: top;\n",
       "    }\n",
       "\n",
       "    .dataframe thead th {\n",
       "        text-align: right;\n",
       "    }\n",
       "</style>\n",
       "<table border=\"1\" class=\"dataframe\">\n",
       "  <thead>\n",
       "    <tr style=\"text-align: right;\">\n",
       "      <th></th>\n",
       "      <th>ID</th>\n",
       "      <th>PRENOM</th>\n",
       "      <th>GENRE</th>\n",
       "      <th>CODE_DPT</th>\n",
       "      <th>DAT.ARRIVEE</th>\n",
       "    </tr>\n",
       "  </thead>\n",
       "  <tbody>\n",
       "    <tr>\n",
       "      <th>74</th>\n",
       "      <td>1075</td>\n",
       "      <td>PRENOM_Zoé</td>\n",
       "      <td>F</td>\n",
       "      <td>73</td>\n",
       "      <td>2014-11-27</td>\n",
       "    </tr>\n",
       "    <tr>\n",
       "      <th>145</th>\n",
       "      <td>1146</td>\n",
       "      <td>PRENOM_Tom</td>\n",
       "      <td>F</td>\n",
       "      <td>46</td>\n",
       "      <td>2016-01-09</td>\n",
       "    </tr>\n",
       "    <tr>\n",
       "      <th>205</th>\n",
       "      <td>1207</td>\n",
       "      <td>PRENOM_Timéo</td>\n",
       "      <td>G</td>\n",
       "      <td>95</td>\n",
       "      <td>2016-01-08</td>\n",
       "    </tr>\n",
       "    <tr>\n",
       "      <th>629</th>\n",
       "      <td>1632</td>\n",
       "      <td>PRENOM_Théo</td>\n",
       "      <td>F</td>\n",
       "      <td>87</td>\n",
       "      <td>2014-11-29</td>\n",
       "    </tr>\n",
       "    <tr>\n",
       "      <th>1059</th>\n",
       "      <td>2063</td>\n",
       "      <td>PRENOM_Sarah</td>\n",
       "      <td>F</td>\n",
       "      <td>16</td>\n",
       "      <td>2015-08-08</td>\n",
       "    </tr>\n",
       "    <tr>\n",
       "      <th>462</th>\n",
       "      <td>1465</td>\n",
       "      <td>PRENOM_Raphaël</td>\n",
       "      <td>G</td>\n",
       "      <td>13</td>\n",
       "      <td>2015-08-05</td>\n",
       "    </tr>\n",
       "    <tr>\n",
       "      <th>466</th>\n",
       "      <td>1469</td>\n",
       "      <td>PRENOM_Noah</td>\n",
       "      <td>F</td>\n",
       "      <td>18</td>\n",
       "      <td>2015-03-11</td>\n",
       "    </tr>\n",
       "    <tr>\n",
       "      <th>723</th>\n",
       "      <td>1726</td>\n",
       "      <td>PRENOM_Maëlys</td>\n",
       "      <td>F</td>\n",
       "      <td>44</td>\n",
       "      <td>2015-03-05</td>\n",
       "    </tr>\n",
       "    <tr>\n",
       "      <th>825</th>\n",
       "      <td>1828</td>\n",
       "      <td>PRENOM_Maël</td>\n",
       "      <td>F</td>\n",
       "      <td>85</td>\n",
       "      <td>2015-07-07</td>\n",
       "    </tr>\n",
       "    <tr>\n",
       "      <th>416</th>\n",
       "      <td>1419</td>\n",
       "      <td>PRENOM_Mathis</td>\n",
       "      <td>F</td>\n",
       "      <td>49</td>\n",
       "      <td>2015-04-20</td>\n",
       "    </tr>\n",
       "  </tbody>\n",
       "</table>\n",
       "</div>"
      ],
      "text/plain": [
       "        ID          PRENOM GENRE  CODE_DPT DAT.ARRIVEE\n",
       "74    1075     PRENOM_Zoé      F        73  2014-11-27\n",
       "145   1146      PRENOM_Tom     F        46  2016-01-09\n",
       "205   1207    PRENOM_Timéo     G        95  2016-01-08\n",
       "629   1632     PRENOM_Théo     F        87  2014-11-29\n",
       "1059  2063    PRENOM_Sarah     F        16  2015-08-08\n",
       "462   1465  PRENOM_Raphaël     G        13  2015-08-05\n",
       "466   1469     PRENOM_Noah     F        18  2015-03-11\n",
       "723   1726   PRENOM_Maëlys     F        44  2015-03-05\n",
       "825   1828     PRENOM_Maël     F        85  2015-07-07\n",
       "416   1419   PRENOM_Mathis     F        49  2015-04-20"
      ]
     },
     "execution_count": 164,
     "metadata": {},
     "output_type": "execute_result"
    }
   ],
   "source": [
    "# Accoler 2 dataframes \n",
    "dona = don.iloc[0:10,0:3]\n",
    "print(dona)\n",
    "donb = don.iloc[0:10,[5,6]]\n",
    "print(donb)\n",
    "\n",
    "# Concaténation \n",
    "x = pd.concat([dona,donb],axis=1)\n",
    "x"
   ]
  },
  {
   "cell_type": "code",
   "execution_count": 165,
   "metadata": {},
   "outputs": [
    {
     "name": "stdout",
     "output_type": "stream",
     "text": [
      "        ID        PRENOM GENRE\n",
      "74    1075   PRENOM_Zoé      F\n",
      "145   1146    PRENOM_Tom     F\n",
      "205   1207  PRENOM_Timéo     G\n",
      "629   1632   PRENOM_Théo     F\n",
      "1059  2063  PRENOM_Sarah     F\n",
      "        ID        PRENOM SEG.VALEUR   AGE  CODE_DPT\n",
      "74    1075   PRENOM_Zoé           B  22.0        73\n",
      "1056  2060  PRENOM_Alice          A  20.4        61\n",
      "833   1836   PRENOM_Adam          A  20.4        94\n"
     ]
    },
    {
     "data": {
      "text/html": [
       "<div>\n",
       "<style scoped>\n",
       "    .dataframe tbody tr th:only-of-type {\n",
       "        vertical-align: middle;\n",
       "    }\n",
       "\n",
       "    .dataframe tbody tr th {\n",
       "        vertical-align: top;\n",
       "    }\n",
       "\n",
       "    .dataframe thead th {\n",
       "        text-align: right;\n",
       "    }\n",
       "</style>\n",
       "<table border=\"1\" class=\"dataframe\">\n",
       "  <thead>\n",
       "    <tr style=\"text-align: right;\">\n",
       "      <th></th>\n",
       "      <th>ID</th>\n",
       "      <th>PRENOM</th>\n",
       "      <th>GENRE</th>\n",
       "      <th>SEG.VALEUR</th>\n",
       "      <th>AGE</th>\n",
       "      <th>CODE_DPT</th>\n",
       "    </tr>\n",
       "  </thead>\n",
       "  <tbody>\n",
       "    <tr>\n",
       "      <th>0</th>\n",
       "      <td>1075</td>\n",
       "      <td>PRENOM_Zoé</td>\n",
       "      <td>F</td>\n",
       "      <td>B</td>\n",
       "      <td>22.0</td>\n",
       "      <td>73</td>\n",
       "    </tr>\n",
       "  </tbody>\n",
       "</table>\n",
       "</div>"
      ],
      "text/plain": [
       "     ID       PRENOM GENRE SEG.VALEUR   AGE  CODE_DPT\n",
       "0  1075  PRENOM_Zoé      F          B  22.0        73"
      ]
     },
     "execution_count": 165,
     "metadata": {},
     "output_type": "execute_result"
    }
   ],
   "source": [
    "# Fusion par défaut\n",
    "dona = don.iloc[0:5,0:3]\n",
    "print(dona)\n",
    "donb = don.iloc[[0,30,31],[0,1,3,4,5]]\n",
    "print(donb)\n",
    "\n",
    "\n",
    "# merge par défaut sur les variables communes et inner join\n",
    "pd.merge(dona,donb) "
   ]
  },
  {
   "cell_type": "code",
   "execution_count": 169,
   "metadata": {},
   "outputs": [],
   "source": [
    "# Fusion avec ID - Tous les types de jointures\n",
    "test=pd.merge(dona,donb, on = ['ID'], how = 'left') \n",
    "#pd.merge(dona,donb, on = ['ID'], how = 'right') \n",
    "#pd.merge(dona,donb, on = ['ID'], how = 'outer')\n",
    "#pd.merge(dona,donb, on = ['ID'], how = 'inner') \n",
    "\n",
    "\n",
    "# De maniere plus general\n",
    "\n",
    "# Si la clé de jointure n’a pas le même nom dans les 2 dataframes\n",
    "#pd.merge(dona,donb, left_on=[‘ID1’], right_on=[‘ID2'], how = ‘left’)\n",
    "\n",
    "#On peut aussi utiliser l’index comme clé de jointure\n",
    "#pd.merge(dona,donb, left_index=True, right_index=True, how = ‘left’)"
   ]
  },
  {
   "cell_type": "code",
   "execution_count": 170,
   "metadata": {},
   "outputs": [
    {
     "data": {
      "text/html": [
       "<div>\n",
       "<style scoped>\n",
       "    .dataframe tbody tr th:only-of-type {\n",
       "        vertical-align: middle;\n",
       "    }\n",
       "\n",
       "    .dataframe tbody tr th {\n",
       "        vertical-align: top;\n",
       "    }\n",
       "\n",
       "    .dataframe thead th {\n",
       "        text-align: right;\n",
       "    }\n",
       "</style>\n",
       "<table border=\"1\" class=\"dataframe\">\n",
       "  <thead>\n",
       "    <tr style=\"text-align: right;\">\n",
       "      <th></th>\n",
       "      <th>ID</th>\n",
       "      <th>PRENOM_x</th>\n",
       "      <th>GENRE</th>\n",
       "      <th>PRENOM_y</th>\n",
       "      <th>SEG.VALEUR</th>\n",
       "      <th>AGE</th>\n",
       "      <th>CODE_DPT</th>\n",
       "    </tr>\n",
       "  </thead>\n",
       "  <tbody>\n",
       "    <tr>\n",
       "      <th>0</th>\n",
       "      <td>1075</td>\n",
       "      <td>PRENOM_Zoé</td>\n",
       "      <td>F</td>\n",
       "      <td>PRENOM_Zoé</td>\n",
       "      <td>B</td>\n",
       "      <td>22.0</td>\n",
       "      <td>73.0</td>\n",
       "    </tr>\n",
       "    <tr>\n",
       "      <th>1</th>\n",
       "      <td>1146</td>\n",
       "      <td>PRENOM_Tom</td>\n",
       "      <td>F</td>\n",
       "      <td>NaN</td>\n",
       "      <td>NaN</td>\n",
       "      <td>NaN</td>\n",
       "      <td>NaN</td>\n",
       "    </tr>\n",
       "    <tr>\n",
       "      <th>2</th>\n",
       "      <td>1207</td>\n",
       "      <td>PRENOM_Timéo</td>\n",
       "      <td>G</td>\n",
       "      <td>NaN</td>\n",
       "      <td>NaN</td>\n",
       "      <td>NaN</td>\n",
       "      <td>NaN</td>\n",
       "    </tr>\n",
       "    <tr>\n",
       "      <th>3</th>\n",
       "      <td>1632</td>\n",
       "      <td>PRENOM_Théo</td>\n",
       "      <td>F</td>\n",
       "      <td>NaN</td>\n",
       "      <td>NaN</td>\n",
       "      <td>NaN</td>\n",
       "      <td>NaN</td>\n",
       "    </tr>\n",
       "    <tr>\n",
       "      <th>4</th>\n",
       "      <td>2063</td>\n",
       "      <td>PRENOM_Sarah</td>\n",
       "      <td>F</td>\n",
       "      <td>NaN</td>\n",
       "      <td>NaN</td>\n",
       "      <td>NaN</td>\n",
       "      <td>NaN</td>\n",
       "    </tr>\n",
       "  </tbody>\n",
       "</table>\n",
       "</div>"
      ],
      "text/plain": [
       "     ID      PRENOM_x GENRE     PRENOM_y SEG.VALEUR   AGE  CODE_DPT\n",
       "0  1075   PRENOM_Zoé      F  PRENOM_Zoé           B  22.0      73.0\n",
       "1  1146    PRENOM_Tom     F          NaN        NaN   NaN       NaN\n",
       "2  1207  PRENOM_Timéo     G          NaN        NaN   NaN       NaN\n",
       "3  1632   PRENOM_Théo     F          NaN        NaN   NaN       NaN\n",
       "4  2063  PRENOM_Sarah     F          NaN        NaN   NaN       NaN"
      ]
     },
     "execution_count": 170,
     "metadata": {},
     "output_type": "execute_result"
    }
   ],
   "source": [
    "test.head()"
   ]
  },
  {
   "cell_type": "code",
   "execution_count": null,
   "metadata": {
    "collapsed": true
   },
   "outputs": [],
   "source": [
    "# Exporter au format csv\n",
    "don.to_csv(\"./RH_Jouet_v2.csv\",index = False,sep = \";\",encoding = 'latin')"
   ]
  },
  {
   "cell_type": "markdown",
   "metadata": {},
   "source": [
    "### <a name=\"sect22\"></a> 2.2. Mise en forme des données\n",
    "#### <a name=\"sect232\"></a> 2.3.2. Fusion des données\n",
    "Le premier constat à faire, après avoir affiché les données, est que les colonnes ne sont pas nommées de la même façon. Avant de les fusionner, il va falloir homogénéïser les noms.\n",
    "\n",
    "##### Pour cela, l'attribut <i>columns</i> et les méthodes <i>str.replace()</i> et <i>str.upper()</i> pourront être utilisées."
   ]
  },
  {
   "cell_type": "code",
   "execution_count": 120,
   "metadata": {},
   "outputs": [],
   "source": [
    "# Etape 1 : supprimer le préfixe \"fich.\" des colonnes de 'don1'\n",
    "don1.columns = don1.columns.str.replace(\"fich.\",\"\")"
   ]
  },
  {
   "cell_type": "code",
   "execution_count": 121,
   "metadata": {},
   "outputs": [],
   "source": [
    "# Etape 2 : mettre les noms des colonnes de 'don1' en majuscule\n",
    "don1.columns = don1.columns.str.upper()"
   ]
  },
  {
   "cell_type": "code",
   "execution_count": 84,
   "metadata": {},
   "outputs": [
    {
     "name": "stdout",
     "output_type": "stream",
     "text": [
      "Index(['ID', 'PRENOM', 'GENRE', 'SEG.VALEUR', 'AGE', 'CODE_DPT', 'DAT.ARRIVEE',\n",
      "       'PRIME'],\n",
      "      dtype='object')\n",
      "Index(['ID', 'REPORTING', 'SAS', 'TEXTM', 'MARKET', 'CADRAGE', 'NPROJET', 'ML',\n",
      "       'TOP'],\n",
      "      dtype='object')\n"
     ]
    }
   ],
   "source": [
    "# Etape 3 : vérifier que les colonnes de 'don1' et 'don2' ont bien la bonne forme\n",
    "print(don1.columns)\n",
    "print(don2.columns)"
   ]
  },
  {
   "cell_type": "markdown",
   "metadata": {},
   "source": [
    "#### En utilisant le package <u><i>panda</i></u> et sa fonction <i>merge()</i>, créer un nouveau DataFrame 'don' contenant l'intersection de 'don1' et 'don2' selon le numéro d'identifiant.\n",
    "#### Puis regarder quelques informations sur ces données en utilisant les méthodes <i>shape</i> et <i>dtypes</i> et la fonction <i>type()</i>"
   ]
  },
  {
   "cell_type": "code",
   "execution_count": 122,
   "metadata": {},
   "outputs": [],
   "source": [
    "# Etape 4 : réunir les données 'don1' et 'don2' dans un nouvel objet 'don'\n",
    "don = pd.merge(don1, don2, on = ['ID'], how = 'inner')"
   ]
  },
  {
   "cell_type": "code",
   "execution_count": 86,
   "metadata": {},
   "outputs": [
    {
     "data": {
      "text/plain": [
       "pandas.core.frame.DataFrame"
      ]
     },
     "execution_count": 86,
     "metadata": {},
     "output_type": "execute_result"
    }
   ],
   "source": [
    "# Etape 5 : vérifier que 'don' est bien du type DataFrame\n",
    "type(don)"
   ]
  },
  {
   "cell_type": "code",
   "execution_count": 87,
   "metadata": {},
   "outputs": [
    {
     "data": {
      "text/plain": [
       "(1079, 16)"
      ]
     },
     "execution_count": 87,
     "metadata": {},
     "output_type": "execute_result"
    }
   ],
   "source": [
    "# Etape 6 : regarder les dimensions de 'don'\n",
    "don.shape"
   ]
  },
  {
   "cell_type": "code",
   "execution_count": 88,
   "metadata": {},
   "outputs": [
    {
     "data": {
      "text/plain": [
       "ID               int64\n",
       "PRENOM          object\n",
       "GENRE           object\n",
       "SEG.VALEUR      object\n",
       "AGE            float64\n",
       "CODE_DPT         int64\n",
       "DAT.ARRIVEE     object\n",
       "PRIME          float64\n",
       "REPORTING      float64\n",
       "SAS            float64\n",
       "TEXTM          float64\n",
       "MARKET         float64\n",
       "CADRAGE        float64\n",
       "NPROJET        float64\n",
       "ML             float64\n",
       "TOP              int64\n",
       "dtype: object"
      ]
     },
     "execution_count": 88,
     "metadata": {},
     "output_type": "execute_result"
    }
   ],
   "source": [
    "# Etape 7 : visualiser l'ensemble des colonnes avec leur type\n",
    "don.dtypes"
   ]
  },
  {
   "cell_type": "markdown",
   "metadata": {},
   "source": [
    "#### <a name=\"sect222\"></a> 2.2.2. Audit des données\n",
    "Utiliser les méthodes info et descibe ainsi que l'attribut dtypes pour avoir un audit rapide des données"
   ]
  },
  {
   "cell_type": "code",
   "execution_count": 89,
   "metadata": {},
   "outputs": [
    {
     "name": "stdout",
     "output_type": "stream",
     "text": [
      "<class 'pandas.core.frame.DataFrame'>\n",
      "Int64Index: 1079 entries, 0 to 1078\n",
      "Data columns (total 16 columns):\n",
      "ID             1079 non-null int64\n",
      "PRENOM         1079 non-null object\n",
      "GENRE          1077 non-null object\n",
      "SEG.VALEUR     1079 non-null object\n",
      "AGE            1075 non-null float64\n",
      "CODE_DPT       1079 non-null int64\n",
      "DAT.ARRIVEE    1079 non-null object\n",
      "PRIME          539 non-null float64\n",
      "REPORTING      1077 non-null float64\n",
      "SAS            1077 non-null float64\n",
      "TEXTM          1077 non-null float64\n",
      "MARKET         1077 non-null float64\n",
      "CADRAGE        1077 non-null float64\n",
      "NPROJET        1077 non-null float64\n",
      "ML             1077 non-null float64\n",
      "TOP            1079 non-null int64\n",
      "dtypes: float64(9), int64(3), object(4)\n",
      "memory usage: 143.3+ KB\n",
      "None\n"
     ]
    }
   ],
   "source": [
    "# Etape 1 : afficher l'ensemble des informations pour chaque variable avec la méthode info :\n",
    "print(don.info())"
   ]
  },
  {
   "cell_type": "code",
   "execution_count": 90,
   "metadata": {},
   "outputs": [
    {
     "name": "stdout",
     "output_type": "stream",
     "text": [
      "                ID          AGE     CODE_DPT        PRIME    REPORTING  \\\n",
      "count  1079.000000  1075.000000  1079.000000   539.000000  1077.000000   \n",
      "mean   1541.543095    39.674419    47.534754  1779.886827    14.327911   \n",
      "std     312.293110    11.862962    27.647940   714.794257     0.515953   \n",
      "min    1001.000000    18.800000     1.000000   506.000000    11.080000   \n",
      "25%    1271.500000    29.600000    23.000000  1194.000000    14.500000   \n",
      "50%    1542.000000    39.600000    47.000000  1778.000000    14.500000   \n",
      "75%    1811.500000    48.400000    71.000000  2396.500000    14.500000   \n",
      "max    2082.000000    72.800000    96.000000  2983.000000    15.000000   \n",
      "\n",
      "               SAS        TEXTM       MARKET      CADRAGE      NPROJET  \\\n",
      "count  1077.000000  1077.000000  1077.000000  1077.000000  1077.000000   \n",
      "mean     16.961402    12.209833    15.241179    12.783733     5.428969   \n",
      "std       2.492645     0.708724     1.598351     2.273641     0.945453   \n",
      "min       7.620000     8.230000     8.260000     5.100000     1.000000   \n",
      "25%      15.340000    12.180000    14.270000    11.240000     5.000000   \n",
      "50%      17.540000    12.500000    15.970000    13.000000     6.000000   \n",
      "75%      19.390000    12.500000    16.500000    14.830000     6.000000   \n",
      "max      20.000000    13.000000    17.000000    15.990000     7.000000   \n",
      "\n",
      "                ML          TOP  \n",
      "count  1077.000000  1079.000000  \n",
      "mean     10.097948     0.248378  \n",
      "std       2.752845     0.432273  \n",
      "min       2.804477     0.000000  \n",
      "25%       7.833112     0.000000  \n",
      "50%       9.902699     0.000000  \n",
      "75%      12.432738     0.000000  \n",
      "max      15.494539     1.000000  \n"
     ]
    }
   ],
   "source": [
    "# Etape 2 : affihcher quelques statistiques descriptives pour chaque variable avec la méthode describe :\n",
    "print(don.describe())"
   ]
  },
  {
   "cell_type": "code",
   "execution_count": 91,
   "metadata": {},
   "outputs": [
    {
     "data": {
      "text/plain": [
       "ID               int64\n",
       "PRENOM          object\n",
       "GENRE           object\n",
       "SEG.VALEUR      object\n",
       "AGE            float64\n",
       "CODE_DPT         int64\n",
       "DAT.ARRIVEE     object\n",
       "PRIME          float64\n",
       "REPORTING      float64\n",
       "SAS            float64\n",
       "TEXTM          float64\n",
       "MARKET         float64\n",
       "CADRAGE        float64\n",
       "NPROJET        float64\n",
       "ML             float64\n",
       "TOP              int64\n",
       "dtype: object"
      ]
     },
     "execution_count": 91,
     "metadata": {},
     "output_type": "execute_result"
    }
   ],
   "source": [
    "# Etape 3 : afficher le type de chaque colonne en utilisant l'attribut dtypes\n",
    "don.dtypes"
   ]
  },
  {
   "cell_type": "markdown",
   "metadata": {},
   "source": [
    "#### <a name=\"sect223\"></a> 2.2.3. Nettoyage des données\n",
    "On va maintenant préparer les données afin qu'elles soient prêtes pour l'utilisation d'analyses statistiques"
   ]
  },
  {
   "cell_type": "code",
   "execution_count": 123,
   "metadata": {},
   "outputs": [],
   "source": [
    "# Etape 1 : Mettre la colonne ID en format category en utilisant la méthode astype\n",
    "don['ID'] = don['ID'].astype('category')"
   ]
  },
  {
   "cell_type": "code",
   "execution_count": 124,
   "metadata": {},
   "outputs": [],
   "source": [
    "# Etape 2 : convertir la colonne DAT_ARRIVEE en date en utilisant la fonction to_datetime du package pandas\n",
    "don['DAT.ARRIVEE'] = pd.to_datetime(don['DAT.ARRIVEE'], format = '%d/%m/%Y')"
   ]
  },
  {
   "cell_type": "markdown",
   "metadata": {},
   "source": [
    "Dans le cas d'une segmentation ou d'un score, une variable au format date est peu intéressante. On va donc créer une nouvelle variable 'ANCIENNETE' qui contiendra le nombre de jours depuis son arrivée."
   ]
  },
  {
   "cell_type": "code",
   "execution_count": 126,
   "metadata": {},
   "outputs": [],
   "source": [
    "# Etape 3 : créer une variable 'J0' contenant la date du jour en utilisant la fonction date.today du package datetime\n",
    "J0=pd.to_datetime(dt.date.today())"
   ]
  },
  {
   "cell_type": "code",
   "execution_count": 127,
   "metadata": {},
   "outputs": [],
   "source": [
    "# Etape 4 : ajouter une nouvelle colonne 'ANCIENNETE' dans le DataFrame 'don' contenant la différence entre 'J0' et 'DAT.ARRIVEE'. On aura alors le nombre de jours d'ancienneté\n",
    "don['ANCIENNETE'] = J0 - don['DAT.ARRIVEE']"
   ]
  },
  {
   "cell_type": "markdown",
   "metadata": {},
   "source": [
    "<p style=\"color:#FF0000\";> Afin d'avoir l'ancienneté en mois, on utilise le code suivant : </p>"
   ]
  },
  {
   "cell_type": "code",
   "execution_count": 128,
   "metadata": {},
   "outputs": [],
   "source": [
    "# Etape 5 : convertir 'ANCIENNETE' en mois\n",
    "don['ANCIENNETE'] = don['ANCIENNETE'] / np.timedelta64(1, 'M')"
   ]
  },
  {
   "cell_type": "markdown",
   "metadata": {},
   "source": [
    "On convertit également le variable 'AGE' en float."
   ]
  },
  {
   "cell_type": "code",
   "execution_count": 129,
   "metadata": {},
   "outputs": [],
   "source": [
    "don['AGE'] = don['AGE'].astype(float)"
   ]
  },
  {
   "cell_type": "code",
   "execution_count": 130,
   "metadata": {},
   "outputs": [
    {
     "data": {
      "text/plain": [
       "2"
      ]
     },
     "execution_count": 130,
     "metadata": {},
     "output_type": "execute_result"
    }
   ],
   "source": [
    "# Etape 6 : Vérifier que la variable GENRE ne contient que 2 modalités en utilisant la méthode nunique\n",
    "don['GENRE'].nunique()"
   ]
  },
  {
   "cell_type": "code",
   "execution_count": 131,
   "metadata": {},
   "outputs": [
    {
     "data": {
      "text/plain": [
       "array(['G', 'F', nan], dtype=object)"
      ]
     },
     "execution_count": 131,
     "metadata": {},
     "output_type": "execute_result"
    }
   ],
   "source": [
    "# Etape 7 : Afficher les modalités de la variable GENRE en utilisant la méthode unique\n",
    "don['GENRE'].unique()"
   ]
  },
  {
   "cell_type": "code",
   "execution_count": 132,
   "metadata": {},
   "outputs": [],
   "source": [
    "# Etape 8 : Supprimer la variable PRIME qui contient trop de valeurs manquantes avec la méthode drop\n",
    "don.drop('PRIME', axis = 1, inplace=True)"
   ]
  },
  {
   "cell_type": "code",
   "execution_count": 135,
   "metadata": {},
   "outputs": [],
   "source": [
    "# Etape 9 : Supprimer les lignes avec genre manquant en utilisant la fonction isnull du package pandas\n",
    "don = don[pd.isnull(don['GENRE'])==False] "
   ]
  },
  {
   "cell_type": "code",
   "execution_count": 136,
   "metadata": {},
   "outputs": [],
   "source": [
    "# Etape 10 : Remplacer les valeurs manquantes de l'AGE par sa moyenne\n",
    "don.loc[don['AGE'].isnull()==True, 'AGE']= don['AGE'].mean()"
   ]
  },
  {
   "cell_type": "code",
   "execution_count": 137,
   "metadata": {},
   "outputs": [],
   "source": [
    "# Etape 11 : Trier les données par ordre décroissant des prénoms et croissant des ages en utilisant la méthode sort_values\n",
    "don = don.sort_values(by = ['PRENOM','AGE'], ascending= [False,True])"
   ]
  },
  {
   "cell_type": "code",
   "execution_count": 138,
   "metadata": {},
   "outputs": [],
   "source": [
    "# Etape 12 : Supprimer les doublons de PRENOM en utilisant la méthode drop_duplicates\n",
    "don = don.drop_duplicates(['PRENOM'], keep = 'first')"
   ]
  },
  {
   "cell_type": "markdown",
   "metadata": {},
   "source": [
    "#### <a name=\"sect231\"></a> 2.2.4. SERIALISATION AVEC PICKLE\n",
    "On souhaite sauvegarder l'état du fichier pour pouvoir le recharger à une prochaine session"
   ]
  },
  {
   "cell_type": "code",
   "execution_count": 12,
   "metadata": {},
   "outputs": [],
   "source": [
    "# utiliser pickle et sauvegarder\n",
    "import pickle\n",
    "\n",
    "filehandler = open(\"don.obj\",\"wb\")\n",
    "pickle.dump(don,filehandler)\n",
    "filehandler.close()"
   ]
  },
  {
   "cell_type": "code",
   "execution_count": 13,
   "metadata": {},
   "outputs": [],
   "source": [
    "# recharger le fichier \n",
    "file = open(\"don.obj\",'rb')\n",
    "testdon1 = pickle.load(file)\n",
    "file.close()"
   ]
  },
  {
   "cell_type": "code",
   "execution_count": 14,
   "metadata": {},
   "outputs": [
    {
     "name": "stdout",
     "output_type": "stream",
     "text": [
      "<class 'pandas.core.frame.DataFrame'>\n",
      "RangeIndex: 1082 entries, 0 to 1081\n",
      "Data columns (total 8 columns):\n",
      "ID             1082 non-null int64\n",
      "PRENOM         1082 non-null object\n",
      "GENRE          1080 non-null object\n",
      "SEG.VALEUR     1082 non-null object\n",
      "AGE            1078 non-null float64\n",
      "CODE_DPT       1082 non-null int64\n",
      "DAT.ARRIVEE    1082 non-null datetime64[ns]\n",
      "PRIME          540 non-null float64\n",
      "dtypes: datetime64[ns](1), float64(2), int64(2), object(3)\n",
      "memory usage: 67.7+ KB\n"
     ]
    }
   ],
   "source": [
    "testdon1.info()"
   ]
  },
  {
   "cell_type": "markdown",
   "metadata": {},
   "source": [
    "### <a name=\"sect23\"></a> 2.3. Analyses statistiques\n",
    "#### <a name=\"sect231\"></a> 2.3.1. Statistiques descriptives univariées\n",
    "##### Variables qualitatives"
   ]
  },
  {
   "cell_type": "code",
   "execution_count": 139,
   "metadata": {},
   "outputs": [],
   "source": [
    "# Etape 1 : créer une variable x avec la colonne GENRE\n",
    "x = don['GENRE']"
   ]
  },
  {
   "cell_type": "code",
   "execution_count": 140,
   "metadata": {},
   "outputs": [
    {
     "data": {
      "text/plain": [
       "count     32\n",
       "unique     2\n",
       "top        F\n",
       "freq      23\n",
       "Name: GENRE, dtype: object"
      ]
     },
     "execution_count": 140,
     "metadata": {},
     "output_type": "execute_result"
    }
   ],
   "source": [
    "# Etape 2 : Utiliser la méthode describe pour obtenir des premières statistiques sur la variable x\n",
    "x.describe()"
   ]
  },
  {
   "cell_type": "code",
   "execution_count": 141,
   "metadata": {},
   "outputs": [
    {
     "data": {
      "text/plain": [
       "F    23\n",
       "G     9\n",
       "Name: GENRE, dtype: int64"
      ]
     },
     "execution_count": 141,
     "metadata": {},
     "output_type": "execute_result"
    }
   ],
   "source": [
    "# Etape 3 : Afficher la répartition de la variable selon les modalités avec la méthode value_counts\n",
    "x.value_counts(dropna = False)\n",
    "# Si on veut les pourcentages, on peut utiliser \n",
    "#x.value_counts(dropna = False)/ x.shape[0]"
   ]
  },
  {
   "cell_type": "code",
   "execution_count": 142,
   "metadata": {
    "scrolled": true
   },
   "outputs": [
    {
     "data": {
      "image/png": "[encoded data removed]",
      "text/plain": [
       "<Figure size 432x288 with 1 Axes>"
      ]
     },
     "metadata": {},
     "output_type": "display_data"
    }
   ],
   "source": [
    "# Etape 4 : Afficher un camembert pour montrer la répartition des modalités en utilisant la fonction pie du package matplotlib\n",
    "plt.pie(x.value_counts(dropna = False), \n",
    "        labels = x.value_counts(dropna = False).index, \n",
    "        autopct='%1.1f%%')\n",
    "plt.axis('equal')\n",
    "plt.show()"
   ]
  },
  {
   "cell_type": "code",
   "execution_count": 143,
   "metadata": {},
   "outputs": [
    {
     "data": {
      "text/plain": [
       "<matplotlib.axes._subplots.AxesSubplot at 0x24a60e75a58>"
      ]
     },
     "execution_count": 143,
     "metadata": {},
     "output_type": "execute_result"
    },
    {
     "data": {
      "image/png": "[encoded data removed]",
      "text/plain": [
       "<Figure size 432x288 with 1 Axes>"
      ]
     },
     "metadata": {
      "needs_background": "light"
     },
     "output_type": "display_data"
    }
   ],
   "source": [
    "# Etape 5 : Aficher un diagramme en barre pour montrer la répartition des modalités en utilisant la fonction countplot du package seaborn\n",
    "sns.countplot(x)"
   ]
  },
  {
   "cell_type": "markdown",
   "metadata": {},
   "source": [
    "##### Variables quantitatives "
   ]
  },
  {
   "cell_type": "code",
   "execution_count": 144,
   "metadata": {},
   "outputs": [],
   "source": [
    "# Etape 1 : Créer une variable x avec la colonne AGE\n",
    "x = don['AGE']"
   ]
  },
  {
   "cell_type": "code",
   "execution_count": 145,
   "metadata": {},
   "outputs": [
    {
     "data": {
      "text/plain": [
       "count    32.000000\n",
       "mean     20.350000\n",
       "std       1.528229\n",
       "min      18.800000\n",
       "25%      18.800000\n",
       "50%      20.000000\n",
       "75%      21.200000\n",
       "max      23.000000\n",
       "Name: AGE, dtype: float64"
      ]
     },
     "execution_count": 145,
     "metadata": {},
     "output_type": "execute_result"
    }
   ],
   "source": [
    "# Etape 2 : Utiliser la méthode describe pour obtenir des premières statistiques sur la variable x\n",
    "x.describe()"
   ]
  },
  {
   "cell_type": "code",
   "execution_count": 146,
   "metadata": {},
   "outputs": [
    {
     "data": {
      "text/plain": [
       "array([18.8 , 18.8 , 18.8 , 18.8 , 19.6 , 20.  , 20.4 , 21.2 , 21.84,\n",
       "       22.98, 23.  ])"
      ]
     },
     "execution_count": 146,
     "metadata": {},
     "output_type": "execute_result"
    }
   ],
   "source": [
    "# Etape 3 : Afficher les déciles en utilisant la fonction nanpercentile du package numpy\n",
    "np.nanpercentile(x,range(0,101,10))"
   ]
  },
  {
   "cell_type": "code",
   "execution_count": 147,
   "metadata": {},
   "outputs": [
    {
     "data": {
      "text/plain": [
       "<matplotlib.axes._subplots.AxesSubplot at 0x24a60ebde10>"
      ]
     },
     "execution_count": 147,
     "metadata": {},
     "output_type": "execute_result"
    },
    {
     "data": {
      "image/png": "[encoded data removed]",
      "text/plain": [
       "<Figure size 432x288 with 1 Axes>"
      ]
     },
     "metadata": {
      "needs_background": "light"
     },
     "output_type": "display_data"
    }
   ],
   "source": [
    "# Etape 4 : Afficher un boxplot en utilisant la fonction boxplot du package seaborn\n",
    "sns.boxplot(x)"
   ]
  },
  {
   "cell_type": "code",
   "execution_count": 148,
   "metadata": {},
   "outputs": [
    {
     "data": {
      "text/plain": [
       "<matplotlib.axes._subplots.AxesSubplot at 0x24a60eef2e8>"
      ]
     },
     "execution_count": 148,
     "metadata": {},
     "output_type": "execute_result"
    },
    {
     "data": {
      "image/png": "[encoded data removed]",
      "text/plain": [
       "<Figure size 432x288 with 1 Axes>"
      ]
     },
     "metadata": {
      "needs_background": "light"
     },
     "output_type": "display_data"
    }
   ],
   "source": [
    "# Etape 5 : Afficher un histogramme en utilisant la méthode hist\n",
    "x.hist()"
   ]
  },
  {
   "cell_type": "code",
   "execution_count": 149,
   "metadata": {},
   "outputs": [
    {
     "data": {
      "text/plain": [
       "<matplotlib.axes._subplots.AxesSubplot at 0x24a60f51ef0>"
      ]
     },
     "execution_count": 149,
     "metadata": {},
     "output_type": "execute_result"
    },
    {
     "data": {
      "image/png": "[encoded data removed]",
      "text/plain": [
       "<Figure size 432x288 with 1 Axes>"
      ]
     },
     "metadata": {
      "needs_background": "light"
     },
     "output_type": "display_data"
    }
   ],
   "source": [
    "# Etape 6 : Afficher la courbe de densité en utilisant la fonction kdeplot du package seaborn\n",
    "sns.kdeplot(np.array(x), bw=0.5)"
   ]
  },
  {
   "cell_type": "code",
   "execution_count": 150,
   "metadata": {},
   "outputs": [
    {
     "data": {
      "text/plain": [
       "(0.8514249324798584, 0.00044548933510668576)"
      ]
     },
     "execution_count": 150,
     "metadata": {},
     "output_type": "execute_result"
    }
   ],
   "source": [
    "# Etape 7 : Réaliser un test de normalité en utilisant la fonction shapiro du package scipy.stats\n",
    "sp.shapiro(x)"
   ]
  },
  {
   "cell_type": "code",
   "execution_count": 151,
   "metadata": {},
   "outputs": [],
   "source": [
    "# Etape 8 : Discrétiser la variable en 2 classes en coupant à la moyenne avec la fonction cut du package panda\n",
    "b = [min(x), np.mean(x), max(x)]\n",
    "AGE_TRANCHE = pd.cut(x, b, include_lowest = True)"
   ]
  },
  {
   "cell_type": "markdown",
   "metadata": {},
   "source": [
    "#### <a name=\"sect232\"></a> 2.3.2. Stastistiques descriptives bivariée\n",
    "##### Variables quantitatives"
   ]
  },
  {
   "cell_type": "code",
   "execution_count": 152,
   "metadata": {},
   "outputs": [
    {
     "name": "stderr",
     "output_type": "stream",
     "text": [
      "C:\\Users\\dgr\\AppData\\Local\\Continuum\\anaconda3\\lib\\site-packages\\scipy\\stats\\stats.py:1713: FutureWarning: Using a non-tuple sequence for multidimensional indexing is deprecated; use `arr[tuple(seq)]` instead of `arr[seq]`. In the future this will be interpreted as an array index, `arr[np.array(seq)]`, which will result either in an error or a different result.\n",
      "  return np.add.reduce(sorted[indexer] * weights, axis=axis) / sumval\n"
     ]
    },
    {
     "data": {
      "text/plain": [
       "<seaborn.axisgrid.FacetGrid at 0x24a60f2a400>"
      ]
     },
     "execution_count": 152,
     "metadata": {},
     "output_type": "execute_result"
    },
    {
     "data": {
      "image/png": "[encoded data removed]",
      "text/plain": [
       "<Figure size 360x360 with 1 Axes>"
      ]
     },
     "metadata": {
      "needs_background": "light"
     },
     "output_type": "display_data"
    }
   ],
   "source": [
    "# Etape 1 : Créer un nuage de points avec les variables ANCIENNETE et AGE en utilisant la fonction lmplot du package seaborn\n",
    "sns.lmplot('ANCIENNETE','AGE',data = don)"
   ]
  },
  {
   "cell_type": "code",
   "execution_count": 153,
   "metadata": {},
   "outputs": [
    {
     "name": "stderr",
     "output_type": "stream",
     "text": [
      "C:\\Users\\dgr\\AppData\\Local\\Continuum\\anaconda3\\lib\\site-packages\\scipy\\stats\\stats.py:1713: FutureWarning: Using a non-tuple sequence for multidimensional indexing is deprecated; use `arr[tuple(seq)]` instead of `arr[seq]`. In the future this will be interpreted as an array index, `arr[np.array(seq)]`, which will result either in an error or a different result.\n",
      "  return np.add.reduce(sorted[indexer] * weights, axis=axis) / sumval\n"
     ]
    },
    {
     "data": {
      "text/plain": [
       "<seaborn.axisgrid.FacetGrid at 0x24a60fc4550>"
      ]
     },
     "execution_count": 153,
     "metadata": {},
     "output_type": "execute_result"
    },
    {
     "data": {
      "image/png": "[encoded data removed]",
      "text/plain": [
       "<Figure size 431.25x360 with 1 Axes>"
      ]
     },
     "metadata": {
      "needs_background": "light"
     },
     "output_type": "display_data"
    }
   ],
   "source": [
    "# Etape 2 : Faire un nuage de point entre REPORTING et SAS et en mettrant chaque segment SEG.VALEUR dans une couleur\n",
    "# Pour cela utiliser le paramètre hue\n",
    "sns.lmplot('REPORTING','SAS',hue = 'SEG.VALEUR',data= don)"
   ]
  },
  {
   "cell_type": "code",
   "execution_count": 154,
   "metadata": {},
   "outputs": [
    {
     "data": {
      "text/plain": [
       "<matplotlib.axes._subplots.AxesSubplot at 0x24a6112ba90>"
      ]
     },
     "execution_count": 154,
     "metadata": {},
     "output_type": "execute_result"
    },
    {
     "data": {
      "image/png": "[encoded data removed]",
      "text/plain": [
       "<Figure size 432x288 with 1 Axes>"
      ]
     },
     "metadata": {
      "needs_background": "light"
     },
     "output_type": "display_data"
    }
   ],
   "source": [
    "# Etape 3 : Tracer les courbes de densité des variables REPORTING et MARKET sur le même graphe\n",
    "# Pour cela, utiliser la fonction kdeplot du package seaborn\n",
    "x = don['REPORTING']; y = don['MARKET']\n",
    "sns.kdeplot(np.array(x), bw=0.5)\n",
    "sns.kdeplot(np.array(y), bw=0.5)"
   ]
  },
  {
   "cell_type": "code",
   "execution_count": 155,
   "metadata": {},
   "outputs": [
    {
     "data": {
      "text/plain": [
       "Ks_2sampResult(statistic=0.71875, pvalue=3.8225571571343476e-08)"
      ]
     },
     "execution_count": 155,
     "metadata": {},
     "output_type": "execute_result"
    }
   ],
   "source": [
    "# Etape 4 : Afficher le résultat du test de Kolgomorrof Smirnov entre la variable REPORTING et MARKET\n",
    "# Pour cela, utiliser la fonction ks_2samp du package scipy.stats\n",
    "sp.ks_2samp(x, y)"
   ]
  },
  {
   "cell_type": "code",
   "execution_count": 123,
   "metadata": {},
   "outputs": [
    {
     "name": "stderr",
     "output_type": "stream",
     "text": [
      "C:\\ProgramData\\Anaconda3\\lib\\site-packages\\scipy\\stats\\_distn_infrastructure.py:879: RuntimeWarning: invalid value encountered in greater\n",
      "  return (self.a < x) & (x < self.b)\n",
      "C:\\ProgramData\\Anaconda3\\lib\\site-packages\\scipy\\stats\\_distn_infrastructure.py:879: RuntimeWarning: invalid value encountered in less\n",
      "  return (self.a < x) & (x < self.b)\n",
      "C:\\ProgramData\\Anaconda3\\lib\\site-packages\\scipy\\stats\\_distn_infrastructure.py:1821: RuntimeWarning: invalid value encountered in less_equal\n",
      "  cond2 = cond0 & (x <= self.a)\n"
     ]
    },
    {
     "data": {
      "text/plain": [
       "Ttest_indResult(statistic=nan, pvalue=nan)"
      ]
     },
     "execution_count": 123,
     "metadata": {},
     "output_type": "execute_result"
    }
   ],
   "source": [
    "# Etape 5 : Afficher le résultat du test de Student entre la variable REPORTING et MARKET\n",
    "# Pour cela, utiliser la fonction ttest_ind du package scipy.stats\n",
    "sp.ttest_ind(x,y)"
   ]
  },
  {
   "cell_type": "code",
   "execution_count": 124,
   "metadata": {},
   "outputs": [
    {
     "data": {
      "text/plain": [
       "array([[nan, nan],\n",
       "       [nan, nan]])"
      ]
     },
     "execution_count": 124,
     "metadata": {},
     "output_type": "execute_result"
    }
   ],
   "source": [
    "# Etape 6 : Afficher la correlation entre les variable REPORTING et MARKET\n",
    "# Pour cela, utiliser la fonction corrcoef du package numpy\n",
    "np.corrcoef(x,y)"
   ]
  },
  {
   "cell_type": "markdown",
   "metadata": {},
   "source": [
    "##### Variables qualitatives"
   ]
  },
  {
   "cell_type": "code",
   "execution_count": 125,
   "metadata": {},
   "outputs": [],
   "source": [
    "# Etape 1 : Afficher le table de contingence entre les variable TOP et SEG.VALEUR\n",
    "# Pour cela, utiliser la fonction crosstab du package pandas\n",
    "contingence = pd.crosstab(don['TOP'],don['SEG.VALEUR'])"
   ]
  },
  {
   "cell_type": "code",
   "execution_count": 126,
   "metadata": {},
   "outputs": [
    {
     "data": {
      "text/plain": [
       "(9.768689196108554,\n",
       " 0.0017750896461787237,\n",
       " 1,\n",
       " array([[25.52941176,  5.47058824],\n",
       "        [ 2.47058824,  0.52941176]]))"
      ]
     },
     "execution_count": 126,
     "metadata": {},
     "output_type": "execute_result"
    }
   ],
   "source": [
    "# Etape 2 : Afficher les résultats du test du Chi2\n",
    "# Pour cela, utiliser la fonction chi2_contingency du package scipy.stats\n",
    "sp.chi2_contingency(contingence)"
   ]
  },
  {
   "cell_type": "markdown",
   "metadata": {},
   "source": [
    "##### Variables quantitative et qualitative"
   ]
  },
  {
   "cell_type": "code",
   "execution_count": 127,
   "metadata": {},
   "outputs": [
    {
     "data": {
      "text/plain": [
       "<matplotlib.axes._subplots.AxesSubplot at 0x19add03e0b8>"
      ]
     },
     "execution_count": 127,
     "metadata": {},
     "output_type": "execute_result"
    },
    {
     "data": {
      "image/png": "[encoded data removed]",
      "text/plain": [
       "<matplotlib.figure.Figure at 0x19adcbc7c18>"
      ]
     },
     "metadata": {},
     "output_type": "display_data"
    }
   ],
   "source": [
    "# Afficher un boxplot de l'ANCIENNETE pour chaque segement de SEG.VALEUR\n",
    "# Pour cela, utiliser la fonction boxplot du package seaborn\n",
    "sns.boxplot(x=\"ANCIENNETE\", y=\"SEG.VALEUR\", data=don)"
   ]
  },
  {
   "cell_type": "markdown",
   "metadata": {},
   "source": [
    "#### <a name=\"sect233\"></a> 2.3.3. Profilage\n",
    "##### Etude de profil selon la moyenne"
   ]
  },
  {
   "cell_type": "code",
   "execution_count": 128,
   "metadata": {},
   "outputs": [],
   "source": [
    "# Etape 1 : Créer un nouvel objet VarKeep contenant la liste des variables à étudier :\n",
    "# \"AGE\",\"TOP\",\"ANCIENNETE\",\"REPORTING\",\"SAS\",\"TEXTM\", \"MARKET\",\"CADRAGE\",\"NPROJET\",\"ML\"\n",
    "VarKeep =[\"AGE\",\"TOP\",\"ANCIENNETE\",\"REPORTING\",\"SAS\",\"TEXTM\", \"MARKET\",\"CADRAGE\",\"NPROJET\",\"ML\"]"
   ]
  },
  {
   "cell_type": "code",
   "execution_count": 129,
   "metadata": {},
   "outputs": [],
   "source": [
    "# Etape 2 : Créer un dataframe m qui contient la moyenne de chaque variable pour chaque segment (SEG.VALEUR)\n",
    "m = don.groupby(['SEG.VALEUR'],as_index = False)[VarKeep].mean()"
   ]
  },
  {
   "cell_type": "code",
   "execution_count": 130,
   "metadata": {},
   "outputs": [
    {
     "data": {
      "text/html": [
       "<div>\n",
       "<style scoped>\n",
       "    .dataframe tbody tr th:only-of-type {\n",
       "        vertical-align: middle;\n",
       "    }\n",
       "\n",
       "    .dataframe tbody tr th {\n",
       "        vertical-align: top;\n",
       "    }\n",
       "\n",
       "    .dataframe thead th {\n",
       "        text-align: right;\n",
       "    }\n",
       "</style>\n",
       "<table border=\"1\" class=\"dataframe\">\n",
       "  <thead>\n",
       "    <tr style=\"text-align: right;\">\n",
       "      <th></th>\n",
       "      <th>SEG.VALEUR</th>\n",
       "      <th>AGE</th>\n",
       "      <th>TOP</th>\n",
       "      <th>ANCIENNETE</th>\n",
       "      <th>REPORTING</th>\n",
       "      <th>SAS</th>\n",
       "      <th>TEXTM</th>\n",
       "      <th>MARKET</th>\n",
       "      <th>CADRAGE</th>\n",
       "      <th>NPROJET</th>\n",
       "      <th>ML</th>\n",
       "    </tr>\n",
       "  </thead>\n",
       "  <tbody>\n",
       "    <tr>\n",
       "      <th>0</th>\n",
       "      <td>A</td>\n",
       "      <td>21.233887</td>\n",
       "      <td>0.0</td>\n",
       "      <td>36.716506</td>\n",
       "      <td>14.404615</td>\n",
       "      <td>17.575385</td>\n",
       "      <td>11.650385</td>\n",
       "      <td>15.605000</td>\n",
       "      <td>10.503077</td>\n",
       "      <td>4.500000</td>\n",
       "      <td>9.085680</td>\n",
       "    </tr>\n",
       "    <tr>\n",
       "      <th>1</th>\n",
       "      <td>B</td>\n",
       "      <td>22.666667</td>\n",
       "      <td>0.5</td>\n",
       "      <td>46.150161</td>\n",
       "      <td>14.291667</td>\n",
       "      <td>16.761667</td>\n",
       "      <td>12.580000</td>\n",
       "      <td>14.273333</td>\n",
       "      <td>13.298333</td>\n",
       "      <td>5.666667</td>\n",
       "      <td>11.220231</td>\n",
       "    </tr>\n",
       "  </tbody>\n",
       "</table>\n",
       "</div>"
      ],
      "text/plain": [
       "  SEG.VALEUR        AGE  TOP  ANCIENNETE  REPORTING        SAS      TEXTM  \\\n",
       "0          A  21.233887  0.0   36.716506  14.404615  17.575385  11.650385   \n",
       "1          B  22.666667  0.5   46.150161  14.291667  16.761667  12.580000   \n",
       "\n",
       "      MARKET    CADRAGE   NPROJET         ML  \n",
       "0  15.605000  10.503077  4.500000   9.085680  \n",
       "1  14.273333  13.298333  5.666667  11.220231  "
      ]
     },
     "execution_count": 130,
     "metadata": {},
     "output_type": "execute_result"
    }
   ],
   "source": [
    "m"
   ]
  },
  {
   "cell_type": "markdown",
   "metadata": {},
   "source": [
    "##### Etude de profil selon les effectifs"
   ]
  },
  {
   "cell_type": "code",
   "execution_count": 131,
   "metadata": {},
   "outputs": [],
   "source": [
    "# Etape 3 : Créer un dataframe eff qui contient la taille de chaque segment (SEG.VALEUR)\n",
    "eff= don.groupby(['SEG.VALEUR'],as_index = False)['ID'].count()"
   ]
  },
  {
   "cell_type": "code",
   "execution_count": 132,
   "metadata": {},
   "outputs": [],
   "source": [
    "# Etape 4 : Renommer la variable ID en Eff\n",
    "eff = pd.DataFrame(eff).rename(columns = {'ID' : 'Eff'})"
   ]
  },
  {
   "cell_type": "code",
   "execution_count": 133,
   "metadata": {},
   "outputs": [
    {
     "data": {
      "text/html": [
       "<div>\n",
       "<style scoped>\n",
       "    .dataframe tbody tr th:only-of-type {\n",
       "        vertical-align: middle;\n",
       "    }\n",
       "\n",
       "    .dataframe tbody tr th {\n",
       "        vertical-align: top;\n",
       "    }\n",
       "\n",
       "    .dataframe thead th {\n",
       "        text-align: right;\n",
       "    }\n",
       "</style>\n",
       "<table border=\"1\" class=\"dataframe\">\n",
       "  <thead>\n",
       "    <tr style=\"text-align: right;\">\n",
       "      <th></th>\n",
       "      <th>SEG.VALEUR</th>\n",
       "      <th>Eff</th>\n",
       "    </tr>\n",
       "  </thead>\n",
       "  <tbody>\n",
       "    <tr>\n",
       "      <th>0</th>\n",
       "      <td>A</td>\n",
       "      <td>28</td>\n",
       "    </tr>\n",
       "    <tr>\n",
       "      <th>1</th>\n",
       "      <td>B</td>\n",
       "      <td>6</td>\n",
       "    </tr>\n",
       "  </tbody>\n",
       "</table>\n",
       "</div>"
      ],
      "text/plain": [
       "  SEG.VALEUR  Eff\n",
       "0          A   28\n",
       "1          B    6"
      ]
     },
     "execution_count": 133,
     "metadata": {},
     "output_type": "execute_result"
    }
   ],
   "source": [
    "eff"
   ]
  },
  {
   "cell_type": "markdown",
   "metadata": {},
   "source": [
    "##### Regroupement des moyennes et de l'effectif"
   ]
  },
  {
   "cell_type": "code",
   "execution_count": 134,
   "metadata": {},
   "outputs": [
    {
     "data": {
      "text/html": [
       "<div>\n",
       "<style scoped>\n",
       "    .dataframe tbody tr th:only-of-type {\n",
       "        vertical-align: middle;\n",
       "    }\n",
       "\n",
       "    .dataframe tbody tr th {\n",
       "        vertical-align: top;\n",
       "    }\n",
       "\n",
       "    .dataframe thead th {\n",
       "        text-align: right;\n",
       "    }\n",
       "</style>\n",
       "<table border=\"1\" class=\"dataframe\">\n",
       "  <thead>\n",
       "    <tr style=\"text-align: right;\">\n",
       "      <th></th>\n",
       "      <th>SEG.VALEUR</th>\n",
       "      <th>Eff</th>\n",
       "      <th>AGE</th>\n",
       "      <th>TOP</th>\n",
       "      <th>ANCIENNETE</th>\n",
       "      <th>REPORTING</th>\n",
       "      <th>SAS</th>\n",
       "      <th>TEXTM</th>\n",
       "      <th>MARKET</th>\n",
       "      <th>CADRAGE</th>\n",
       "      <th>NPROJET</th>\n",
       "      <th>ML</th>\n",
       "    </tr>\n",
       "  </thead>\n",
       "  <tbody>\n",
       "    <tr>\n",
       "      <th>0</th>\n",
       "      <td>A</td>\n",
       "      <td>28</td>\n",
       "      <td>21.233887</td>\n",
       "      <td>0.0</td>\n",
       "      <td>36.716506</td>\n",
       "      <td>14.404615</td>\n",
       "      <td>17.575385</td>\n",
       "      <td>11.650385</td>\n",
       "      <td>15.605000</td>\n",
       "      <td>10.503077</td>\n",
       "      <td>4.500000</td>\n",
       "      <td>9.085680</td>\n",
       "    </tr>\n",
       "    <tr>\n",
       "      <th>1</th>\n",
       "      <td>B</td>\n",
       "      <td>6</td>\n",
       "      <td>22.666667</td>\n",
       "      <td>0.5</td>\n",
       "      <td>46.150161</td>\n",
       "      <td>14.291667</td>\n",
       "      <td>16.761667</td>\n",
       "      <td>12.580000</td>\n",
       "      <td>14.273333</td>\n",
       "      <td>13.298333</td>\n",
       "      <td>5.666667</td>\n",
       "      <td>11.220231</td>\n",
       "    </tr>\n",
       "  </tbody>\n",
       "</table>\n",
       "</div>"
      ],
      "text/plain": [
       "  SEG.VALEUR  Eff        AGE  TOP  ANCIENNETE  REPORTING        SAS  \\\n",
       "0          A   28  21.233887  0.0   36.716506  14.404615  17.575385   \n",
       "1          B    6  22.666667  0.5   46.150161  14.291667  16.761667   \n",
       "\n",
       "       TEXTM     MARKET    CADRAGE   NPROJET         ML  \n",
       "0  11.650385  15.605000  10.503077  4.500000   9.085680  \n",
       "1  12.580000  14.273333  13.298333  5.666667  11.220231  "
      ]
     },
     "execution_count": 134,
     "metadata": {},
     "output_type": "execute_result"
    }
   ],
   "source": [
    "# Etape 1 : Faire une jointure entre m et eff\n",
    "moy = pd.merge(eff,pd.DataFrame(m), how='inner',on='SEG.VALEUR')\n",
    "moy"
   ]
  },
  {
   "cell_type": "markdown",
   "metadata": {},
   "source": [
    "On aurait également pu faire tout ça en une seule fois sans faire de merge. Pour cela, on utilise la méthode agg "
   ]
  },
  {
   "cell_type": "code",
   "execution_count": 135,
   "metadata": {},
   "outputs": [
    {
     "data": {
      "text/html": [
       "<div>\n",
       "<style scoped>\n",
       "    .dataframe tbody tr th:only-of-type {\n",
       "        vertical-align: middle;\n",
       "    }\n",
       "\n",
       "    .dataframe tbody tr th {\n",
       "        vertical-align: top;\n",
       "    }\n",
       "\n",
       "    .dataframe thead tr th {\n",
       "        text-align: left;\n",
       "    }\n",
       "</style>\n",
       "<table border=\"1\" class=\"dataframe\">\n",
       "  <thead>\n",
       "    <tr>\n",
       "      <th></th>\n",
       "      <th>SEG.VALEUR</th>\n",
       "      <th>Eff</th>\n",
       "      <th colspan=\"3\" halign=\"left\">AGE</th>\n",
       "      <th>TOP</th>\n",
       "      <th>ANCIENNETE</th>\n",
       "      <th>REPORTING</th>\n",
       "      <th>SAS</th>\n",
       "      <th>TEXTM</th>\n",
       "      <th>MARKET</th>\n",
       "      <th>CADRAGE</th>\n",
       "      <th>NPROJET</th>\n",
       "      <th>ML</th>\n",
       "    </tr>\n",
       "    <tr>\n",
       "      <th></th>\n",
       "      <th></th>\n",
       "      <th>count</th>\n",
       "      <th>mean</th>\n",
       "      <th>min</th>\n",
       "      <th>max</th>\n",
       "      <th>mean</th>\n",
       "      <th>mean</th>\n",
       "      <th>mean</th>\n",
       "      <th>mean</th>\n",
       "      <th>mean</th>\n",
       "      <th>mean</th>\n",
       "      <th>mean</th>\n",
       "      <th>mean</th>\n",
       "      <th>mean</th>\n",
       "    </tr>\n",
       "  </thead>\n",
       "  <tbody>\n",
       "    <tr>\n",
       "      <th>0</th>\n",
       "      <td>A</td>\n",
       "      <td>28</td>\n",
       "      <td>21.233887</td>\n",
       "      <td>18.8</td>\n",
       "      <td>39.674419</td>\n",
       "      <td>0.0</td>\n",
       "      <td>36.716506</td>\n",
       "      <td>14.404615</td>\n",
       "      <td>17.575385</td>\n",
       "      <td>11.650385</td>\n",
       "      <td>15.605000</td>\n",
       "      <td>10.503077</td>\n",
       "      <td>4.500000</td>\n",
       "      <td>9.085680</td>\n",
       "    </tr>\n",
       "    <tr>\n",
       "      <th>1</th>\n",
       "      <td>B</td>\n",
       "      <td>6</td>\n",
       "      <td>22.666667</td>\n",
       "      <td>22.0</td>\n",
       "      <td>23.000000</td>\n",
       "      <td>0.5</td>\n",
       "      <td>46.150161</td>\n",
       "      <td>14.291667</td>\n",
       "      <td>16.761667</td>\n",
       "      <td>12.580000</td>\n",
       "      <td>14.273333</td>\n",
       "      <td>13.298333</td>\n",
       "      <td>5.666667</td>\n",
       "      <td>11.220231</td>\n",
       "    </tr>\n",
       "  </tbody>\n",
       "</table>\n",
       "</div>"
      ],
      "text/plain": [
       "  SEG.VALEUR   Eff        AGE                   TOP ANCIENNETE  REPORTING  \\\n",
       "             count       mean   min        max mean       mean       mean   \n",
       "0          A    28  21.233887  18.8  39.674419  0.0  36.716506  14.404615   \n",
       "1          B     6  22.666667  22.0  23.000000  0.5  46.150161  14.291667   \n",
       "\n",
       "         SAS      TEXTM     MARKET    CADRAGE   NPROJET         ML  \n",
       "        mean       mean       mean       mean      mean       mean  \n",
       "0  17.575385  11.650385  15.605000  10.503077  4.500000   9.085680  \n",
       "1  16.761667  12.580000  14.273333  13.298333  5.666667  11.220231  "
      ]
     },
     "execution_count": 135,
     "metadata": {},
     "output_type": "execute_result"
    }
   ],
   "source": [
    "moy = don.groupby('SEG.VALEUR',as_index=False) \\\n",
    ".agg({'ID': 'count' \\\n",
    "      ,'AGE':['mean','min','max'] \\\n",
    "      ,\"TOP\" :'mean' \\\n",
    "      ,\"ANCIENNETE\" :'mean' \\\n",
    "      ,\"REPORTING\" :'mean' \\\n",
    "      ,\"SAS\":'mean' \\\n",
    "      ,\"TEXTM\" :'mean' \\\n",
    "      , \"MARKET\" :'mean' \\\n",
    "      ,\"CADRAGE\" :'mean' \\\n",
    "      ,\"NPROJET\" :'mean' \\\n",
    "      ,\"ML\" :'mean'}) \\\n",
    ".rename(columns = {'ID' : 'Eff'})\n",
    "moy"
   ]
  }
 ],
 "metadata": {
  "kernelspec": {
   "display_name": "Python 3",
   "language": "python",
   "name": "python3"
  },
  "language_info": {
   "codemirror_mode": {
    "name": "ipython",
    "version": 3
   },
   "file_extension": ".py",
   "mimetype": "text/x-python",
   "name": "python",
   "nbconvert_exporter": "python",
   "pygments_lexer": "ipython3",
   "version": "3.7.0"
  }
 },
 "nbformat": 4,
 "nbformat_minor": 2
}
