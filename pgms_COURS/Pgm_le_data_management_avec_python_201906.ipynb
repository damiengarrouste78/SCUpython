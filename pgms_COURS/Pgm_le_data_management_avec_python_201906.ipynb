{
 "cells": [
  {
   "cell_type": "markdown",
   "metadata": {},
   "source": [
    "# Python, \"les fondamentaux\"\n",
    "\n",
    "## Sommaire\n",
    "- [1. Python base](#sect1)\n",
    "    - [1.1. Manipulation des types natifs (focus séquences)](#sect11)\n",
    "        - [1.1.1. Les chaines de caractères](#sect111) \n",
    "        - [1.1.2. Les listes](#sect112)\n",
    "        - [1.1.3. Les tuples](#sect113)\n",
    "        - [1.1.4. Les ranges](#sect114)\n",
    "        - [1.1.5. Les dictionnaires](#sect115)\n",
    "        - [1.1.6. Les ensembles](#sect116)\n",
    "    - [1.2. Manipulation des tests et boucles](#sect12)\n",
    "- [2. Python fondamentaux data](#sect2)\n",
    "    - [2.1. Import packages et données](#sect21)\n",
    "        - [2.1.1. Import des packages](#sect211)\n",
    "        - [2.1.2. Chargement des données](#sect212)\n",
    "        - [2.1.3. Manipulation d'un dataframe](#sect213)\n",
    "    - [2.2. Mise en forme des données](#sect22)\n",
    "        - [2.2.1. Fusion des données](#sect221)\n",
    "        - [2.2.2. Audit des données](#sect222)\n",
    "        - [2.2.3. Nettoyage des données](#sect223)\n",
    "    - [2.3. Analyses statistiques](#sect23)\n",
    "        - [2.3.1. Statistiques descriptives univariées](#sect231)\n",
    "        - [2.3.2. Statistiques descriptives bivariées](#sect232)\n",
    "        - [2.3.3. Profilage](#sect233)\n",
    "\n",
    "\n",
    "## <a name=\"sect1\"></a> 1. Python base\n",
    "L'objectif de cette partie est de manipuler l'ensemble des notions vues dans le ppt : objet, attribut, méthode, fonction, type, ...\n",
    "### <a name=\"sect11\"></a>1.1 Manipulation des types natifs (focus séquences)\n",
    "Python dispose de base d'un certain nombre de type de données. Il s'agit ici de manipuler ceux les plus spécifiques à savoir les séquences : les chaines de caractères, les listes, les tuples, les ranges, les dictionnaires et les ensemble.\n",
    "\n",
    "#### <a name=\"sect111\"></a> 1.1.1. Les chaines de caractères\n",
    "##### Accès aux éléments de la chaine\n",
    "Les caractères de la chaine sont numérotés, on dit qu'ils ont un indice.\n",
    "\n",
    "Si ch est une chaine, ch[i] renverra le caractère de la chaine dont l'index est i"
   ]
  },
  {
   "cell_type": "code",
   "execution_count": 1,
   "metadata": {},
   "outputs": [],
   "source": [
    "# On définit une chaine de caractère :\n",
    "x = \"premier cours de python\""
   ]
  },
  {
   "cell_type": "code",
   "execution_count": 1,
   "metadata": {},
   "outputs": [],
   "source": [
    "# Afficher le type de x avec la fonction type :\n",
    "..."
   ]
  },
  {
   "cell_type": "code",
   "execution_count": 2,
   "metadata": {},
   "outputs": [],
   "source": [
    "# Afficher la chaine de caractère x grâce à la fonction print :\n",
    "..."
   ]
  },
  {
   "cell_type": "code",
   "execution_count": 3,
   "metadata": {
    "scrolled": true
   },
   "outputs": [
    {
     "data": {
      "text/plain": [
       "Ellipsis"
      ]
     },
     "execution_count": 3,
     "metadata": {},
     "output_type": "execute_result"
    }
   ],
   "source": [
    "# Sélectionner le \"y\" contenu dans x en utilisant les indices :\n",
    "# 1ère méthode : avec un indice positif\n",
    "...\n",
    "# 2ème méthode : avec un indice négatif\n",
    "..."
   ]
  },
  {
   "cell_type": "code",
   "execution_count": 4,
   "metadata": {},
   "outputs": [],
   "source": [
    "# Afficher la longueur de la chaine de caractère avec la fonction len :\n",
    "..."
   ]
  },
  {
   "cell_type": "code",
   "execution_count": 5,
   "metadata": {},
   "outputs": [],
   "source": [
    "# Sélectionner le 23ème éléments de la chaine de caractère :\n",
    "..."
   ]
  },
  {
   "cell_type": "markdown",
   "metadata": {},
   "source": [
    "A partir d'une chaine, on peut également extraire une sous-chaine de caractère. Si ch est une chaine, ch[n:p] revoie la sous chaine de ch comprise entre les indices n (inclus) et p (exclus). Si n est manquant, la valeur sera 0; si p est manquant, la valeur sera -1"
   ]
  },
  {
   "cell_type": "code",
   "execution_count": 6,
   "metadata": {},
   "outputs": [],
   "source": [
    "# Extraire le mot \"cours\" de x :\n",
    "..."
   ]
  },
  {
   "cell_type": "markdown",
   "metadata": {},
   "source": [
    "Les chaines de caractères sont des objets dits \"immutables\". Cela signifie que l'on ne peut pas les modifier tels quels. Il sera nécessaire de passer par un autre objet si besoin.  "
   ]
  },
  {
   "cell_type": "code",
   "execution_count": 7,
   "metadata": {},
   "outputs": [],
   "source": [
    "# Essayer de remplacer le 1er caractère par un 'P'\n",
    "..."
   ]
  },
  {
   "cell_type": "code",
   "execution_count": 8,
   "metadata": {},
   "outputs": [],
   "source": [
    "# Créer un nouvel objet 'new_x' qui commence par un 'P' puis la chaine x à partir de 1\n",
    "..."
   ]
  },
  {
   "cell_type": "markdown",
   "metadata": {},
   "source": [
    "##### Formatage de chaines\n",
    "On peut \"fabriquer\" de nouvelles chaines en insérant des variables. Dans la chaine que l'on veut fabriquer, on met {} à chaque position où on voudrait qu'il y ait une variable. Puis, on termine par .format(variable1, variable2).\n",
    "\n"
   ]
  },
  {
   "cell_type": "code",
   "execution_count": 9,
   "metadata": {},
   "outputs": [],
   "source": [
    "# Afficher \"Ceci est mon premier cours de python à Soft\" en utilisant la variable x :\n",
    "..."
   ]
  },
  {
   "cell_type": "markdown",
   "metadata": {},
   "source": [
    "On peut également définir chaque élément par un nom. Dans ce cas, on insère {nom} dans la chaine puis on termine par .format(nom=variable1)"
   ]
  },
  {
   "cell_type": "code",
   "execution_count": 10,
   "metadata": {},
   "outputs": [],
   "source": [
    "# Recommencer en utilisant la version avec un nom :\n",
    "..."
   ]
  },
  {
   "cell_type": "markdown",
   "metadata": {},
   "source": [
    "##### Quelques méthodes et fonctions utiles\n",
    "Les chaines de caractères étant immutables, aucune de ses méthodes ne modifie l'objet d'origine mais elles renvoient toutes un nouvel objet, qui est la chaîne modifiée."
   ]
  },
  {
   "cell_type": "code",
   "execution_count": 11,
   "metadata": {},
   "outputs": [],
   "source": [
    "# Afficher l'ensemble des méthodes disponibles pour les chaines de caractères en utilisant la fonction help :\n",
    "..."
   ]
  },
  {
   "cell_type": "code",
   "execution_count": 12,
   "metadata": {},
   "outputs": [],
   "source": [
    "# Rechercher dans x la sous-chaine de caractères \"de\" :\n",
    "..."
   ]
  },
  {
   "cell_type": "code",
   "execution_count": 13,
   "metadata": {},
   "outputs": [],
   "source": [
    "# Rechercher dans x la sous-chaine de caractères \"un\" :\n",
    "..."
   ]
  },
  {
   "cell_type": "code",
   "execution_count": 14,
   "metadata": {},
   "outputs": [],
   "source": [
    "# Tester si la chaine x est un entier :\n",
    "..."
   ]
  },
  {
   "cell_type": "code",
   "execution_count": 15,
   "metadata": {},
   "outputs": [],
   "source": [
    "# Convertir la chaine x en majuscule :\n",
    "..."
   ]
  },
  {
   "cell_type": "code",
   "execution_count": 16,
   "metadata": {},
   "outputs": [],
   "source": [
    "# Splitter la chaine x en utilisant le séparateur ' ' puis l'affecter à un nouvel objet y :\n",
    "..."
   ]
  },
  {
   "cell_type": "code",
   "execution_count": 17,
   "metadata": {},
   "outputs": [],
   "source": [
    "# Afficher y\n",
    "..."
   ]
  },
  {
   "cell_type": "code",
   "execution_count": 18,
   "metadata": {},
   "outputs": [],
   "source": [
    "# Afficher le type de y avec la fonction type :\n",
    "..."
   ]
  },
  {
   "cell_type": "markdown",
   "metadata": {},
   "source": [
    "#### <a name=\"sect112\"></a> 1.1.2. Les listes"
   ]
  },
  {
   "cell_type": "markdown",
   "metadata": {},
   "source": [
    "##### Accès aux éléments de la liste\n",
    "On accède aux éléments d'une liste de la même façon qu'on accède aux caractères d'une chaîne de caractères : on indique entre crochets l'indice de l'élément qui nous intéresse."
   ]
  },
  {
   "cell_type": "code",
   "execution_count": 19,
   "metadata": {},
   "outputs": [],
   "source": [
    "# Sélectionner le 1ère élément de la liste y :\n",
    "..."
   ]
  },
  {
   "cell_type": "code",
   "execution_count": 20,
   "metadata": {},
   "outputs": [],
   "source": [
    "# Sélectionner le dernier élément de la liste y :\n",
    "..."
   ]
  },
  {
   "cell_type": "code",
   "execution_count": 21,
   "metadata": {},
   "outputs": [],
   "source": [
    "# Afficher le nombre d'éléments de la liste y en utilisant la fonction len :\n",
    "..."
   ]
  },
  {
   "cell_type": "markdown",
   "metadata": {},
   "source": [
    "##### Quelques méthodes et fonctions utiles\n",
    "Contrairement à la classe str, la classe list permet de remplacer un élément par un autre. Les listes sont en effet des types mutables."
   ]
  },
  {
   "cell_type": "code",
   "execution_count": 22,
   "metadata": {},
   "outputs": [],
   "source": [
    "# Afficher l'ensemble des méthodes disponibles pour les listes :\n",
    "..."
   ]
  },
  {
   "cell_type": "code",
   "execution_count": 23,
   "metadata": {},
   "outputs": [],
   "source": [
    "# Ajouter 'fondamentaux' à la fin de la liste y :\n",
    "..."
   ]
  },
  {
   "cell_type": "code",
   "execution_count": 24,
   "metadata": {},
   "outputs": [],
   "source": [
    "# Ajouter 'DE' en 5ème position de la liste :\n",
    "..."
   ]
  },
  {
   "cell_type": "code",
   "execution_count": 25,
   "metadata": {},
   "outputs": [],
   "source": [
    "# Supprimer l'élément 'DE' de la liste y :\n",
    "..."
   ]
  },
  {
   "cell_type": "markdown",
   "metadata": {},
   "source": [
    "Les listes sont des objets qui peuvent en contenir d'autres. Ce sont donc des séquences, comme les chaînes de caractères, mais au lieu de contenir des caractères, elles peuvent contenir n'importe quel objet (str, int, list, etc.)"
   ]
  },
  {
   "cell_type": "code",
   "execution_count": 26,
   "metadata": {},
   "outputs": [],
   "source": [
    "# Ajouter la sous-liste [1,2,3] à la liste y :\n",
    "..."
   ]
  },
  {
   "cell_type": "code",
   "execution_count": 27,
   "metadata": {},
   "outputs": [],
   "source": [
    "# Accéder au chiffre 2 de la sous liste de y : dernier élement de la première liste et second element de la sous liste\n",
    "..."
   ]
  },
  {
   "cell_type": "markdown",
   "metadata": {},
   "source": [
    "##### Parcours des listes\n",
    "Il existe plusieurs façons de parcourir une liste :\n",
    "- une boucle while sur les indices\n",
    "- une boucle for sur les éléments\n",
    "- la fonction enumerate \n",
    "- liste active : on construit une liste à partir du parcours d'une liste\n"
   ]
  },
  {
   "cell_type": "code",
   "execution_count": 28,
   "metadata": {},
   "outputs": [],
   "source": [
    "# Afficher 1 à 1 les éléments de y avec une boucle while :\n",
    "..."
   ]
  },
  {
   "cell_type": "code",
   "execution_count": 29,
   "metadata": {},
   "outputs": [],
   "source": [
    "# Afficher 1 à 1 les éléments de y avec une boucle for :\n",
    "..."
   ]
  },
  {
   "cell_type": "code",
   "execution_count": 30,
   "metadata": {},
   "outputs": [],
   "source": [
    "# Afficher 1 à 1 les éléments de y avec leur indices :\n",
    "..."
   ]
  },
  {
   "cell_type": "markdown",
   "metadata": {},
   "source": [
    "##### Modification des listes\n",
    "Il est possible de concaténer ensemble plusieurs listes, de faire une modification similaire à l'ensemble des éléments d'une liste ou bien de supprimer un élément."
   ]
  },
  {
   "cell_type": "code",
   "execution_count": 31,
   "metadata": {},
   "outputs": [],
   "source": [
    "# Créer une nouvelle liste z qui contient les éléments 1,2,3,4 :\n",
    "..."
   ]
  },
  {
   "cell_type": "code",
   "execution_count": 32,
   "metadata": {},
   "outputs": [],
   "source": [
    "# Multiplier l'ensemble des éléments, multiples de 2, par 3 en utilisant la syntaxe d'une boucle for :\n",
    "..."
   ]
  },
  {
   "cell_type": "code",
   "execution_count": 33,
   "metadata": {},
   "outputs": [],
   "source": [
    "# Mettre au carré l'ensemble des éléments en utilisant la syntaxe d'une boucle for :\n",
    "..."
   ]
  },
  {
   "cell_type": "code",
   "execution_count": 34,
   "metadata": {},
   "outputs": [],
   "source": [
    "# Concaténer les listes y et z :\n",
    "..."
   ]
  },
  {
   "cell_type": "code",
   "execution_count": 35,
   "metadata": {},
   "outputs": [],
   "source": [
    "# Supprimer le 3ème élément de la liste y :\n",
    "..."
   ]
  },
  {
   "cell_type": "markdown",
   "metadata": {},
   "source": [
    "#### <a name=\"sect113\"></a> 1.1.3. Les tuples\n",
    "Les tuples sont des séquences, assez semblables aux listes, sauf qu'on ne peut modifier un tuple après qu'il ait été créé. Cela signifie qu'on définit le contenu d'un tuple (les objets qu'il doit contenir) lors de sa création, mais qu'on ne peut en ajouter ou en retirer par la suite.\n",
    "\n",
    "Contrairement aux listes qui utilisent des crochets pour être définies, les tuples utilisent des parenthèses."
   ]
  },
  {
   "cell_type": "code",
   "execution_count": 36,
   "metadata": {},
   "outputs": [],
   "source": [
    "# Créer un tuple 'mon_tuple' contenant les éléments 1, 'Bonjour' :\n",
    "..."
   ]
  },
  {
   "cell_type": "code",
   "execution_count": 37,
   "metadata": {},
   "outputs": [],
   "source": [
    "# Afficher l'ensemble des méthodes associées aux tuples :\n",
    "..."
   ]
  },
  {
   "cell_type": "markdown",
   "metadata": {},
   "source": [
    "##### Accès aux éléments d'un tuple\n",
    "Cette partie fonctionne de la même façon que les chaines de caractères et les listes. En effet, les tuples sont indicés."
   ]
  },
  {
   "cell_type": "code",
   "execution_count": 38,
   "metadata": {},
   "outputs": [],
   "source": [
    "# Accèder à l'élément 'Bonjour' de 'mon_tuple' :\n",
    "..."
   ]
  },
  {
   "cell_type": "code",
   "execution_count": 39,
   "metadata": {},
   "outputs": [],
   "source": [
    "# Remplacer le 1 élément du tuple par 'chien'\n",
    "..."
   ]
  },
  {
   "cell_type": "markdown",
   "metadata": {},
   "source": [
    "#### <a name=\"sect114\"></a> 1.1.4. Les ranges\n",
    "Afin de créer des listes contenant une suite de nombres, on utilise la classe range.\n",
    "\n",
    "Pour instancier un objet de cette classe, 3 paramètres sont à renseigner :\n",
    "- la valeur de départ (incluse), qui vaut 1 si non renseignée\n",
    "- la valeur finale (excluse), obligatoire\n",
    "- le pas, qui vaut 1 si non renseigné"
   ]
  },
  {
   "cell_type": "code",
   "execution_count": 40,
   "metadata": {},
   "outputs": [],
   "source": [
    "# Créer un range 'mon_range' comprenant l'ensemble des nombres pairs dans l'intervalle [0-10]\n",
    "..."
   ]
  },
  {
   "cell_type": "code",
   "execution_count": 41,
   "metadata": {},
   "outputs": [],
   "source": [
    "# Afficher l'ensemble des méthodes associées aux ranges\n",
    "..."
   ]
  },
  {
   "cell_type": "code",
   "execution_count": 42,
   "metadata": {},
   "outputs": [],
   "source": [
    "# Afficher le nombre de valeur contenue dans mon_range\n",
    "..."
   ]
  },
  {
   "cell_type": "code",
   "execution_count": 43,
   "metadata": {},
   "outputs": [],
   "source": [
    "# Visualiser l'ensemble des valeurs de mon_range\n",
    "..."
   ]
  },
  {
   "cell_type": "code",
   "execution_count": 44,
   "metadata": {},
   "outputs": [],
   "source": [
    "# V2 sous forme de liste\n",
    "..."
   ]
  },
  {
   "cell_type": "markdown",
   "metadata": {},
   "source": [
    "#### <a name=\"sect115\"></a> 1.1.5. Les dictionnaires\n",
    "Les dictionnaires sont des objets pouvant en contenir d'autres, à l'instar des listes. Cependant, au lieu d'héberger des informations dans un ordre précis, ils associent chaque objet contenu (= une valeur) à une clé (la plupart du temps, une chaîne de caractères). Par exemple, un dictionnaire peut contenir un carnet d'adresses et on accède à chaque contact en précisant son nom."
   ]
  },
  {
   "cell_type": "markdown",
   "metadata": {},
   "source": [
    "##### Création de dictionnaire\n",
    "De la même façon que les crochets délimitent les listes, les parenthéses délimitent les tuples, les dictionnaires sont délimités par les accolades."
   ]
  },
  {
   "cell_type": "code",
   "execution_count": 45,
   "metadata": {},
   "outputs": [],
   "source": [
    "# Créer 'mon_dico', un dictionnaire vide :\n",
    "..."
   ]
  },
  {
   "cell_type": "code",
   "execution_count": 46,
   "metadata": {},
   "outputs": [],
   "source": [
    "# Afficher l'ensemble des méthodes d'un dictionnaire :\n",
    "..."
   ]
  },
  {
   "cell_type": "markdown",
   "metadata": {},
   "source": [
    "Les dictionnaires n'étant pas ordonnés, on ne peut pas utiliser d'indice pour les manipuler, ajouter des éléments ou en supprimer. A la place, on utilise des clés qui peuvent être de types distincts"
   ]
  },
  {
   "cell_type": "code",
   "execution_count": 47,
   "metadata": {},
   "outputs": [],
   "source": [
    "# Créer une première association clé - valeur avec comme clé, 'ma_cle', et comme valeur, 'ma_valeur' :\n",
    "..."
   ]
  },
  {
   "cell_type": "code",
   "execution_count": 48,
   "metadata": {},
   "outputs": [],
   "source": [
    "# Afficher le dictionnaire :\n",
    "..."
   ]
  },
  {
   "cell_type": "code",
   "execution_count": 49,
   "metadata": {},
   "outputs": [],
   "source": [
    "# Ajouter une nouvelle association avec comme clé, 'ma_cle' et comme valeur, 'autre_valeur' :\n",
    "..."
   ]
  },
  {
   "cell_type": "code",
   "execution_count": 50,
   "metadata": {},
   "outputs": [],
   "source": [
    "# Réafficher le dictionnaire :\n",
    "..."
   ]
  },
  {
   "cell_type": "markdown",
   "metadata": {},
   "source": [
    "Il est également possible de créer un dictionnaire directement avec des valeurs."
   ]
  },
  {
   "cell_type": "code",
   "execution_count": 51,
   "metadata": {},
   "outputs": [
    {
     "data": {
      "text/plain": [
       "Ellipsis"
      ]
     },
     "execution_count": 51,
     "metadata": {},
     "output_type": "execute_result"
    }
   ],
   "source": [
    "# Remplacer le dictionnaire existant par un nouveau avec les associations clés-valeurs suivantes : \n",
    "# login - [1,2,3] et pw - ['azerty','qwerty','motdepasse']\n",
    "..."
   ]
  },
  {
   "cell_type": "code",
   "execution_count": 52,
   "metadata": {},
   "outputs": [],
   "source": [
    "# Afficher le dictionnaire\n",
    "..."
   ]
  },
  {
   "cell_type": "markdown",
   "metadata": {},
   "source": [
    "##### Parcours des dictionnaires\n",
    "Les dictionnaires peuvent être parcourus de 3 façons :\n",
    "- en parcourant les clés avec la méthode keys\n",
    "- en parcourant les valeurs avec la méthode values\n",
    "- en parcourant l'association clé-valeur avec la méthode items"
   ]
  },
  {
   "cell_type": "code",
   "execution_count": 53,
   "metadata": {},
   "outputs": [],
   "source": [
    "# Afficher 1 à 1 les clés de mon_dico :\n",
    "..."
   ]
  },
  {
   "cell_type": "code",
   "execution_count": 54,
   "metadata": {},
   "outputs": [],
   "source": [
    "# Afficher 1 à 1 les valeurs de mon_dico :\n",
    "..."
   ]
  },
  {
   "cell_type": "code",
   "execution_count": 55,
   "metadata": {},
   "outputs": [],
   "source": [
    "# Afficher 1 à 1 les associations clé-valeur de mon_dico :\n",
    "..."
   ]
  },
  {
   "cell_type": "markdown",
   "metadata": {},
   "source": [
    "#### <a name=\"sect116\"></a> 1.1.6. Les ensembles\n",
    "Les ensembles sont des objets entre les listes et les dictionnaires :\n",
    "- ils ont le même délimiteur que les dictionnaires (des accolades) mais ne possédes que de clés (donc impossible d'avoir 2 fois la même valeur dans un ensemble)\n",
    "- ils ne sont ni indicés, ni ordonnés, comme les dictionnaires\n",
    "- ils ont des méthodes communes avec les listes : add, pop, remove, etc."
   ]
  },
  {
   "cell_type": "code",
   "execution_count": 56,
   "metadata": {},
   "outputs": [],
   "source": [
    "# Créer un ensemble 'mon_set' composer des éléments 'a' et 'b' :\n",
    "..."
   ]
  },
  {
   "cell_type": "code",
   "execution_count": 57,
   "metadata": {},
   "outputs": [],
   "source": [
    "# Afficher l'ensemble des méthodes d'un ensemble :\n",
    "..."
   ]
  },
  {
   "cell_type": "code",
   "execution_count": 58,
   "metadata": {},
   "outputs": [],
   "source": [
    "# Ajouter l'élément 'a' dans mon_set\n",
    "..."
   ]
  },
  {
   "cell_type": "code",
   "execution_count": 59,
   "metadata": {},
   "outputs": [],
   "source": [
    "# Afficher 'mon_set'\n",
    "..."
   ]
  },
  {
   "cell_type": "markdown",
   "metadata": {},
   "source": [
    "### <a name=\"sect12\"></a>  1.2. Manipulation des tests et des boucles\n",
    "Seront abordés dans cette section :\n",
    "- les tests if\n",
    "- les boucles while\n",
    "- les boucles for\n",
    "\n",
    "##### Structures conditionnelles\n",
    "La forme complète d'un test utilise les mots-clés suivant : if, elif et else.\n",
    "\n",
    "Vous pouvez mettre autant de elif que vous voulez après une condition en if. Tout comme le else, cette instruction est facultative et, quand bien même vous construiriez une instruction en if,elif, vous n'êtes pas du tout obligé de prévoir un else après. En revanche, l'instruction else ne peut figurer qu'une fois, clôturant le bloc de la condition.\n",
    "\n",
    "\n",
    "\n",
    "\n",
    "\n"
   ]
  },
  {
   "cell_type": "markdown",
   "metadata": {},
   "source": [
    "<u>Exercice</u> : Déterminer si une année saisie par l'utilisateur est bissextile\n",
    "\n",
    "Pour cela on utilise la règle suivante :\n",
    "\"une année est dite bissextile si c'est un multiple de 4, sauf si c'est un multiple de 100. Toutefois, elle est considérée comme bissextile si c'est un multiple de 400\"\n",
    "    \n",
    "A noter que la demande d'une valeur à l'utilisateur se fait par la fonction input."
   ]
  },
  {
   "cell_type": "code",
   "execution_count": 60,
   "metadata": {},
   "outputs": [
    {
     "data": {
      "text/plain": [
       "Ellipsis"
      ]
     },
     "execution_count": 60,
     "metadata": {},
     "output_type": "execute_result"
    }
   ],
   "source": [
    "..."
   ]
  },
  {
   "cell_type": "markdown",
   "metadata": {},
   "source": [
    "##### La boucle while\n",
    "Elle permet de réexécuter un bloc d'instruction tant qu'une condition est vrai.\n",
    "\n",
    "Refaire l'exercice précédent en vérifiant que l'utilisateur a bien saisi une année (i.e. un nombre). Si ce n'est pas le cas, demander lui de recommencer jusqu'à ce que cela le soit."
   ]
  },
  {
   "cell_type": "code",
   "execution_count": 61,
   "metadata": {
    "scrolled": true
   },
   "outputs": [
    {
     "data": {
      "text/plain": [
       "Ellipsis"
      ]
     },
     "execution_count": 61,
     "metadata": {},
     "output_type": "execute_result"
    }
   ],
   "source": [
    "..."
   ]
  },
  {
   "cell_type": "markdown",
   "metadata": {},
   "source": [
    "##### Les boucles for\n",
    "Elles sont spécialisées dans le parcours des séquences (i.e. l'ensemble des types vus ci-dessus : chaine de caractères, liste, tuple, range, dictionnaire et ensemble).\n",
    "\n",
    "Des exemples de son utilisation ont déjà été fait plus haut pour les listes et les dictionnaires.\n",
    "On va donc voir ici une utilisation avec les chaines de caractères.\n",
    "\n",
    "<u>Exercice</u> : Afficher 1 à 1 les voyelles en minuscules contenues dans la chaine x"
   ]
  },
  {
   "cell_type": "code",
   "execution_count": 62,
   "metadata": {},
   "outputs": [
    {
     "data": {
      "text/plain": [
       "Ellipsis"
      ]
     },
     "execution_count": 62,
     "metadata": {},
     "output_type": "execute_result"
    }
   ],
   "source": [
    "..."
   ]
  },
  {
   "cell_type": "markdown",
   "metadata": {},
   "source": [
    "## <a name=\"sect2\"></a> 2. Python fondamentaux data\n",
    "Un exercice pratique est proposé ici pour se rapprocher de ce qui pourra être fait lors d'un projet.\n",
    "\n",
    "<u>Contexte</u> : <br>\n",
    "Notre équipe de Data Scientists est sollicitée pour un projet de grande ampleur qui nécessite de staffer 6 personnes qu’il s’agit de déterminer. Avant de faire l’étude de scoring, nous commençons par une analyse exploratoire des données dont nous disposons.\n",
    "\n",
    "<u>Description des fichiers</u> :\n",
    "<ol>\n",
    "    <li> « RH_Jouet.csv » :\n",
    "    <ul>\n",
    "        <li><i>ID</i> : numéro d’identifiant\n",
    "        <li><i>Prenom</i> : prénom\n",
    "        <li><i>Genre</i> : sexe (G= Garçon, F= Fille)\n",
    "        <li><i>SEG.VALEUR</i> : information donnée par les services RH sous forme de lettres\n",
    "        <li><i>AGE</i> : l’âge\n",
    "        <li><i>CODE_DPT</i> : département d'habitation\n",
    "        <li><i>Dat_ARRIVEE</i> : date d’arrivée dans l’entreprise\n",
    "        <li><i>PRIMe</i> : montant de la dernière prime\n",
    "    </ul>\n",
    "    <li>« COMPETENCE_Jouet.csv » :\n",
    "    <ul>\n",
    "        <li><i>ID</i> : numéro d’identifiant\n",
    "        <li><i>REPORTING</i> : note de compétence en reporting\n",
    "        <li><i>SAS</i> : note de compétence en SAS\n",
    "        <li><i>TEXTM</i> : note de compétence en Text Mining\n",
    "        <li><i>MARKET</i> : note de compétence en marketing\n",
    "        <li><i>CADRAGE</i> : note de compétence en cadrage de projet\n",
    "        <li><i>NPROJET</i> : nombre de missions similaires menées dans le passé\n",
    "        <li><i>ML</i> : note de compétence en Machine Learning\n",
    "        <li><i>TOP</i> : variable cible (pour le score)\n",
    "    </ul>\n",
    "</ol>\t\n",
    "\n",
    "\n",
    "### <a name=\"sect21\"></a> 2.1. Import des packages et des données\n",
    "#### <a name=\"sect211\"></a> 2.1.1. Import des packages"
   ]
  },
  {
   "cell_type": "code",
   "execution_count": 66,
   "metadata": {},
   "outputs": [],
   "source": [
    "import os\n",
    "\n",
    "# traitement des données\n",
    "import pandas as pd\n",
    "import numpy as np\n",
    "import scipy.stats as sp\n",
    "import datetime as dt\n",
    "#import random\n",
    "\n",
    "# Graphiques\n",
    "import matplotlib.pyplot as plt\n",
    "%matplotlib inline\n",
    "import seaborn as sns\n",
    "\n",
    "pd.options.mode.chained_assignment = None"
   ]
  },
  {
   "cell_type": "markdown",
   "metadata": {},
   "source": [
    "#### <a name=\"sect212\"></a> 2.1.2. Chargement des données\n",
    "##### En utilisant le package <u><i>os</i></u> et ses fonctions <i>getcwd()</i> et <i>chdir()</i>, on va se placer dans le répertoire où sont situé les données"
   ]
  },
  {
   "cell_type": "code",
   "execution_count": 63,
   "metadata": {},
   "outputs": [],
   "source": [
    "# Etape 1 : identifier dans quel répertoire l'on se trouve actuellement\n",
    "..."
   ]
  },
  {
   "cell_type": "code",
   "execution_count": 64,
   "metadata": {},
   "outputs": [],
   "source": [
    "# Etape 2 : créer une variable 'repertoire' dans lequel sera contenu le futur chemin d'accés\n",
    "..."
   ]
  },
  {
   "cell_type": "code",
   "execution_count": 65,
   "metadata": {},
   "outputs": [],
   "source": [
    "# Etape 3 : on se place dans le répertoire\n",
    "..."
   ]
  },
  {
   "cell_type": "code",
   "execution_count": 66,
   "metadata": {},
   "outputs": [],
   "source": [
    "# Etape 4 : on vérifie que le changement a bien été fait (idem étape 1)\n",
    "..."
   ]
  },
  {
   "cell_type": "markdown",
   "metadata": {},
   "source": [
    "#### En utilisant le package <u><i>panda</i></u> et sa fonction <i>read_csv()</i>, importer les fichiers \"RH_Jouer.csv\" et \"COMPETENCE_Jouet.csv\"\n",
    "\n",
    "Pour information, les caractéristiques des fichiers sont les suivantes :\n",
    "<ol>\n",
    "    <li> « RH_Jouet.csv » :\n",
    "    <ul>\n",
    "        <li><i>Délimiteur</i> : point-virgule\n",
    "        <li><i>Décimal</i> : point\n",
    "        <li><i>Encodage</i> : 'iso-8859-1'\n",
    "    </ul>\n",
    "    <li>« COMPETENCE_Jouet.csv » :\n",
    "    <ul>\n",
    "        <li><i>Délimiteur</i> : point-virgule\n",
    "        <li><i>Décimal</i> : virgule\n",
    "        <li><i>Encodage</i> : 'iso-8859-1'\n",
    "    </ul>\n",
    "</ol>\t"
   ]
  },
  {
   "cell_type": "code",
   "execution_count": 67,
   "metadata": {},
   "outputs": [],
   "source": [
    "# Etape 1 : créer une variable 'don1' contenant le fichier \"RH_Jouet.csv\"\n",
    "..."
   ]
  },
  {
   "cell_type": "code",
   "execution_count": 68,
   "metadata": {},
   "outputs": [],
   "source": [
    "# Etape 2 : créer une variable 'don2' contenant le fichier \"COMPETENCE_Jouet.csv\"\n",
    "..."
   ]
  },
  {
   "cell_type": "markdown",
   "metadata": {},
   "source": [
    "#### <a name=\"sect213\"></a> 2.1.3. Manipulation d'un dataframe\n",
    "On vérifie tout d'abord que les données ont correctement été chargées."
   ]
  },
  {
   "cell_type": "code",
   "execution_count": 69,
   "metadata": {},
   "outputs": [],
   "source": [
    "# Etape 1 : regarder la dimension de 'don1' en utilisant son attribut shape :\n",
    "..."
   ]
  },
  {
   "cell_type": "code",
   "execution_count": 70,
   "metadata": {},
   "outputs": [],
   "source": [
    "# Etape 2 : afficher le nom des colonnes de 'don1' en utilisant son attribut columns :\n",
    "..."
   ]
  },
  {
   "cell_type": "code",
   "execution_count": 72,
   "metadata": {},
   "outputs": [],
   "source": [
    "# Etape 3 : afficher le nom des index (i.e. lignes) en utilisant son attribut index :\n",
    "..."
   ]
  },
  {
   "cell_type": "code",
   "execution_count": 73,
   "metadata": {},
   "outputs": [],
   "source": [
    "# Etape 4 : afficher le type de 'don1' en utilisant la fonction type :\n",
    "..."
   ]
  },
  {
   "cell_type": "code",
   "execution_count": 74,
   "metadata": {},
   "outputs": [],
   "source": [
    "# Etape 5 : afficher le types de chaque colonnes de 'don1' en utilisant son attribut dtypes\n",
    "..."
   ]
  },
  {
   "cell_type": "code",
   "execution_count": 75,
   "metadata": {},
   "outputs": [],
   "source": [
    "# Etape 6 : regarder la forme de 'don1' en affichant les 5 premières lignes\n",
    "..."
   ]
  },
  {
   "cell_type": "code",
   "execution_count": 76,
   "metadata": {},
   "outputs": [],
   "source": [
    "# Etape 7 : Afficher les 5 dernières lignes de 'don2' avec la méthode tail\n",
    "..."
   ]
  },
  {
   "cell_type": "code",
   "execution_count": 77,
   "metadata": {},
   "outputs": [],
   "source": [
    "# Etape 8 : Séléctionner uniquement la Serie 'GENRE' et afficher son type\n",
    "..."
   ]
  },
  {
   "cell_type": "code",
   "execution_count": 78,
   "metadata": {
    "scrolled": true
   },
   "outputs": [],
   "source": [
    "# Etape 9 : Sélectionner de la 2ème à la 4ème colonnes de 'don1' avec l'attribut iloc\n",
    "..."
   ]
  },
  {
   "cell_type": "code",
   "execution_count": 79,
   "metadata": {},
   "outputs": [],
   "source": [
    "# Etape 10 : Sélectionner de la 3ème à la 15ème lignes de 'don1' avec l'attribut iloc\n",
    "..."
   ]
  },
  {
   "cell_type": "code",
   "execution_count": 80,
   "metadata": {},
   "outputs": [],
   "source": [
    "# Etape 11 : Sélectionner de la 2ème à la 4ème colonnes et de la 3ème à la 15ème lignes de 'don1' avec l'attibut iloc\n",
    "..."
   ]
  },
  {
   "cell_type": "code",
   "execution_count": 81,
   "metadata": {
    "scrolled": true
   },
   "outputs": [],
   "source": [
    "# Etape 12 : Sélectionner de la 2ème à la 4ème colonne avec les index\n",
    "..."
   ]
  },
  {
   "cell_type": "markdown",
   "metadata": {},
   "source": [
    "### BONUS compléments - manipulations diverses"
   ]
  },
  {
   "cell_type": "code",
   "execution_count": 82,
   "metadata": {},
   "outputs": [
    {
     "data": {
      "text/plain": [
       "Ellipsis"
      ]
     },
     "execution_count": 82,
     "metadata": {},
     "output_type": "execute_result"
    }
   ],
   "source": [
    "# Construire 2 dataframes à partir de don1\n",
    "# dona contenant les 4 premières lignes et les 3 première colonnes de don1\n",
    "...\n",
    "\n",
    "# donb contenant la 1ère, la 31ème et la 32ème lignes et les 5 premières colonnes de don1\n",
    "..."
   ]
  },
  {
   "cell_type": "code",
   "execution_count": 83,
   "metadata": {},
   "outputs": [],
   "source": [
    "# créer un booleen pour chaque individu de dona indiquant s'il appartient à donb\n",
    "...\n",
    "\n",
    "# Selectionner les individus dans dona mais pas dans donb\n",
    "..."
   ]
  },
  {
   "cell_type": "code",
   "execution_count": 85,
   "metadata": {
    "scrolled": true
   },
   "outputs": [
    {
     "data": {
      "text/plain": [
       "Ellipsis"
      ]
     },
     "execution_count": 85,
     "metadata": {},
     "output_type": "execute_result"
    }
   ],
   "source": [
    "# Construire 2 dataframes à partir de don1\n",
    "# dona contenant de la 2ème à la 4ème lignes et toutes les colonnes de don1\n",
    "...\n",
    "\n",
    "# donb contenant de la 7ème à la 10ème lignes et toutes les colonnes de don1\n",
    "...\n",
    "\n",
    "# Concaténer dona et donb\n",
    "..."
   ]
  },
  {
   "cell_type": "code",
   "execution_count": 87,
   "metadata": {
    "scrolled": true
   },
   "outputs": [
    {
     "data": {
      "text/plain": [
       "Ellipsis"
      ]
     },
     "execution_count": 87,
     "metadata": {},
     "output_type": "execute_result"
    }
   ],
   "source": [
    "# Construire 2 dataframes à partir de don1\n",
    "# dona contenant de la 1ère à la 10ème lignes et les 3ères colonnes de don1\n",
    "...\n",
    "\n",
    "# donb contenant de la 1ère à la 10ème lignes et la 4ème et la 5ème colonnes de don1\n",
    "...\n",
    "\n",
    "# Accoler 2 dataframes \n",
    "..."
   ]
  },
  {
   "cell_type": "code",
   "execution_count": 88,
   "metadata": {},
   "outputs": [
    {
     "data": {
      "text/plain": [
       "Ellipsis"
      ]
     },
     "execution_count": 88,
     "metadata": {},
     "output_type": "execute_result"
    }
   ],
   "source": [
    "# Construire 2 dataframes à partir de don1\n",
    "# dona contenant de la 1ère à la 5ème lignes et les 3ères colonnes de don1\n",
    "...\n",
    "\n",
    "# donb contenant la 1ère, la 31ème et la 32ème lignes et les 5 premières colonnes de don1\n",
    "...\n",
    "\n",
    "# Faire une fusion de don1 et de don2\n",
    "..."
   ]
  },
  {
   "cell_type": "code",
   "execution_count": 89,
   "metadata": {},
   "outputs": [],
   "source": [
    "# Faire une fusion par \"fich.ID\" en testant chaque type de jointure \n",
    "..."
   ]
  },
  {
   "cell_type": "code",
   "execution_count": 90,
   "metadata": {},
   "outputs": [],
   "source": [
    "# Exporter au format csv\n",
    "..."
   ]
  },
  {
   "cell_type": "markdown",
   "metadata": {},
   "source": [
    "### <a name=\"sect22\"></a> 2.2. Mise en forme des données\n",
    "#### <a name=\"sect232\"></a> 2.3.2. Fusion des données\n",
    "Le premier constat à faire, après avoir affiché les données, est que les colonnes ne sont pas nommées de la même façon. Avant de les fusionner, il va falloir homogénéïser les noms.\n",
    "\n",
    "##### Pour cela, l'attribut <i>columns</i> et les méthodes <i>str.replace()</i> et <i>str.upper()</i> pourront être utilisées."
   ]
  },
  {
   "cell_type": "code",
   "execution_count": 91,
   "metadata": {},
   "outputs": [],
   "source": [
    "# Etape 1 : supprimer le préfixe \"fich.\" des colonnes de 'don1'\n",
    "..."
   ]
  },
  {
   "cell_type": "code",
   "execution_count": 92,
   "metadata": {},
   "outputs": [],
   "source": [
    "# Etape 2 : mettre les noms des colonnes de 'don1' en majuscule\n",
    "..."
   ]
  },
  {
   "cell_type": "code",
   "execution_count": 93,
   "metadata": {},
   "outputs": [],
   "source": [
    "# Etape 3 : vérifier que les colonnes de 'don1' et 'don2' ont bien la bonne forme\n",
    "..."
   ]
  },
  {
   "cell_type": "markdown",
   "metadata": {},
   "source": [
    "#### En utilisant le package <u><i>panda</i></u> et sa fonction <i>merge()</i>, créer un nouveau DataFrame 'don' contenant l'intersection de 'don1' et 'don2' selon le numéro d'identifiant.\n",
    "#### Puis regarder quelques informations sur ces données en utilisant les attributs <i>shape</i> et <i>dtypes</i> et la fonction <i>type()</i>"
   ]
  },
  {
   "cell_type": "code",
   "execution_count": 94,
   "metadata": {},
   "outputs": [],
   "source": [
    "# Etape 4 : réunir les données 'don1' et 'don2' dans un nouvel objet 'don'\n",
    "..."
   ]
  },
  {
   "cell_type": "code",
   "execution_count": 95,
   "metadata": {},
   "outputs": [],
   "source": [
    "# Etape 5 : vérifier que 'don' est bien du type DataFrame\n",
    "..."
   ]
  },
  {
   "cell_type": "code",
   "execution_count": 96,
   "metadata": {},
   "outputs": [],
   "source": [
    "# Etape 6 : regarder les dimensions de 'don'\n",
    "..."
   ]
  },
  {
   "cell_type": "code",
   "execution_count": 97,
   "metadata": {},
   "outputs": [],
   "source": [
    "# Etape 7 : visualiser l'ensemble des colonnes avec leur type\n",
    "..."
   ]
  },
  {
   "cell_type": "markdown",
   "metadata": {},
   "source": [
    "#### <a name=\"sect222\"></a> 2.2.2. Audit des données\n",
    "Utiliser les méthodes info et descibe ainsi que l'attribut dtypes pour avoir un audit rapide des données"
   ]
  },
  {
   "cell_type": "code",
   "execution_count": 99,
   "metadata": {},
   "outputs": [],
   "source": [
    "# Etape 1 : afficher l'ensemble des informations pour chaque variable avec la méthode info :\n",
    "..."
   ]
  },
  {
   "cell_type": "code",
   "execution_count": 100,
   "metadata": {},
   "outputs": [],
   "source": [
    "# Etape 2 : afficher quelques statistiques descriptives pour chaque variable avec la méthode describe :\n",
    "..."
   ]
  },
  {
   "cell_type": "code",
   "execution_count": 101,
   "metadata": {},
   "outputs": [],
   "source": [
    "# Etape 3 : afficher le type de chaque colonne en utilisant l'attribut dtypes\n",
    "..."
   ]
  },
  {
   "cell_type": "markdown",
   "metadata": {},
   "source": [
    "#### <a name=\"sect223\"></a> 2.2.3. Nettoyage des données\n",
    "On va maintenant préparer les données afin qu'elles soient prêtes pour l'utilisation d'analyses statistiques"
   ]
  },
  {
   "cell_type": "code",
   "execution_count": 102,
   "metadata": {},
   "outputs": [],
   "source": [
    "# Etape 1 : Mettre la colonne ID en format category en utilisant la méthode astype\n",
    "..."
   ]
  },
  {
   "cell_type": "code",
   "execution_count": 103,
   "metadata": {},
   "outputs": [],
   "source": [
    "# Etape 2 : convertir la colonne DAT_ARRIVEE en date en utilisant la fonction to_datetime du package pandas\n",
    "..."
   ]
  },
  {
   "cell_type": "markdown",
   "metadata": {},
   "source": [
    "Dans le cas d'une segmentation ou d'un score, une variable au format date est peu intéressante. On va donc créer une nouvelle variable 'ANCIENNETE' qui contiendra le nombre de jours depuis son arrivée."
   ]
  },
  {
   "cell_type": "code",
   "execution_count": 104,
   "metadata": {},
   "outputs": [],
   "source": [
    "# Etape 3 : créer une variable 'J0' contenant la date du jour en utilisant la fonction date.today du package datetime\n",
    "..."
   ]
  },
  {
   "cell_type": "code",
   "execution_count": 105,
   "metadata": {},
   "outputs": [],
   "source": [
    "# Etape 4 : ajouter une nouvelle colonne 'ANCIENNETE' dans le DataFrame 'don' contenant la différence entre 'J0' et 'DAT.ARRIVEE'. On aura alors le nombre de jours d'ancienneté\n",
    "..."
   ]
  },
  {
   "cell_type": "markdown",
   "metadata": {},
   "source": [
    "<p style=\"color:#FF0000\";> Afin d'avoir l'ancienneté en mois, on utilise le code suivant : </p>"
   ]
  },
  {
   "cell_type": "code",
   "execution_count": 106,
   "metadata": {},
   "outputs": [],
   "source": [
    "# Etape 5 : convertir 'ANCIENNETE' en mois\n",
    "don['ANCIENNETE'] = don['ANCIENNETE'] / np.timedelta64(1, 'M')"
   ]
  },
  {
   "cell_type": "markdown",
   "metadata": {},
   "source": [
    "On convertit également le variable 'AGE' en float."
   ]
  },
  {
   "cell_type": "code",
   "execution_count": 112,
   "metadata": {},
   "outputs": [],
   "source": [
    "..."
   ]
  },
  {
   "cell_type": "code",
   "execution_count": 107,
   "metadata": {},
   "outputs": [],
   "source": [
    "# Etape 6 : Vérifier que la variable GENRE ne contient que 2 modalités en utilisant la méthode nunique\n",
    "..."
   ]
  },
  {
   "cell_type": "code",
   "execution_count": 108,
   "metadata": {},
   "outputs": [],
   "source": [
    "# Etape 7 : Afficher les modalités de la variable GENRE en utilisant la méthode unique\n",
    "..."
   ]
  },
  {
   "cell_type": "code",
   "execution_count": 109,
   "metadata": {},
   "outputs": [],
   "source": [
    "# Etape 8 : Supprimer la variable PRIME qui contient trop de valeurs manquantes avec la méthode drop\n",
    "..."
   ]
  },
  {
   "cell_type": "code",
   "execution_count": 110,
   "metadata": {},
   "outputs": [],
   "source": [
    "# Etape 9 : Supprimer les lignes avec genre manquant en utilisant la fonction isnull du package pandas\n",
    "..."
   ]
  },
  {
   "cell_type": "code",
   "execution_count": 111,
   "metadata": {
    "scrolled": true
   },
   "outputs": [],
   "source": [
    "# Etape 10 : Remplacer les valeurs manquantes de l'AGE par sa moyenne\n",
    "..."
   ]
  },
  {
   "cell_type": "code",
   "execution_count": 112,
   "metadata": {},
   "outputs": [],
   "source": [
    "# Etape 11 : Trier les données par ordre décroissant des prénoms et croissant des ages en utilisant la méthode sort_values\n",
    "..."
   ]
  },
  {
   "cell_type": "code",
   "execution_count": 113,
   "metadata": {},
   "outputs": [],
   "source": [
    "# Etape 12 : Supprimer les doublons de PRENOM en utilisant la méthode drop_duplicates\n",
    "..."
   ]
  },
  {
   "cell_type": "markdown",
   "metadata": {},
   "source": [
    "### <a name=\"sect23\"></a> 2.3. Analyses statistiques\n",
    "#### <a name=\"sect231\"></a> 2.3.1. Statistiques descriptives univariées\n",
    "##### Variables qualitatives"
   ]
  },
  {
   "cell_type": "code",
   "execution_count": 114,
   "metadata": {},
   "outputs": [],
   "source": [
    "# Etape 1 : créer une variable x avec la colonne GENRE\n",
    "..."
   ]
  },
  {
   "cell_type": "code",
   "execution_count": 115,
   "metadata": {},
   "outputs": [],
   "source": [
    "# Etape 2 : Utiliser la méthode describe pour obtenir des premières statistiques sur la variable x\n",
    "..."
   ]
  },
  {
   "cell_type": "code",
   "execution_count": 116,
   "metadata": {},
   "outputs": [],
   "source": [
    "# Etape 3 : Afficher la répartition de la variable selon les modalités avec la méthode value_counts\n",
    "..."
   ]
  },
  {
   "cell_type": "code",
   "execution_count": 117,
   "metadata": {
    "scrolled": true
   },
   "outputs": [],
   "source": [
    "# Etape 4 : Afficher un camembert pour montrer la répartition des modalités en utilisant la fonction pie du package matplotlib\n",
    "..."
   ]
  },
  {
   "cell_type": "code",
   "execution_count": 118,
   "metadata": {},
   "outputs": [],
   "source": [
    "# Etape 5 : Aficher un diagramme en barre pour montrer la répartition des modalités en utilisant la fonction countplot du package seaborn\n",
    "..."
   ]
  },
  {
   "cell_type": "markdown",
   "metadata": {},
   "source": [
    "##### Variables quantitatives "
   ]
  },
  {
   "cell_type": "code",
   "execution_count": 119,
   "metadata": {},
   "outputs": [],
   "source": [
    "# Etape 1 : Créer une variable x avec la colonne AGE\n",
    "..."
   ]
  },
  {
   "cell_type": "code",
   "execution_count": 120,
   "metadata": {},
   "outputs": [],
   "source": [
    "# Etape 2 : Utiliser la méthode describe pour obtenir des premières statistiques sur la variable x\n",
    "..."
   ]
  },
  {
   "cell_type": "code",
   "execution_count": 121,
   "metadata": {},
   "outputs": [],
   "source": [
    "# Etape 3 : Afficher les déciles en utilisant la fonction nanpercentile du package numpy\n",
    "..."
   ]
  },
  {
   "cell_type": "code",
   "execution_count": 122,
   "metadata": {},
   "outputs": [],
   "source": [
    "# Etape 4 : Afficher un boxplot en utilisant la fonction boxplot du package seaborn\n",
    "..."
   ]
  },
  {
   "cell_type": "code",
   "execution_count": 123,
   "metadata": {},
   "outputs": [],
   "source": [
    "# Etape 5 : Afficher un histogramme en utilisant la méthode hist\n",
    "..."
   ]
  },
  {
   "cell_type": "code",
   "execution_count": 124,
   "metadata": {},
   "outputs": [],
   "source": [
    "# Etape 6 : Afficher la courbe de densité en utilisant la fonction kdeplot du package seaborn\n",
    "..."
   ]
  },
  {
   "cell_type": "code",
   "execution_count": 125,
   "metadata": {},
   "outputs": [],
   "source": [
    "# Etape 7 : Discrétiser la variable en 2 classes en coupant à la moyenne avec la fonction cut du package panda\n",
    "..."
   ]
  },
  {
   "cell_type": "markdown",
   "metadata": {},
   "source": [
    "#### <a name=\"sect232\"></a> 2.3.2. Stastistiques descriptives bivariée\n",
    "##### Variables quantitatives"
   ]
  },
  {
   "cell_type": "code",
   "execution_count": 126,
   "metadata": {},
   "outputs": [],
   "source": [
    "# Etape 1 : Créer un nuage de points avec les variables ANCIENNETE et AGE en utilisant la fonction lmplot du package seaborn\n",
    "..."
   ]
  },
  {
   "cell_type": "code",
   "execution_count": 127,
   "metadata": {},
   "outputs": [
    {
     "data": {
      "text/plain": [
       "Ellipsis"
      ]
     },
     "execution_count": 127,
     "metadata": {},
     "output_type": "execute_result"
    }
   ],
   "source": [
    "# Etape 2 : Faire un nuage de point entre REPORTING et SAS et en mettrant chaque segment SEG.VALEUR dans une couleur\n",
    "# Pour cela utiliser le paramètre hue\n",
    "..."
   ]
  },
  {
   "cell_type": "code",
   "execution_count": 128,
   "metadata": {},
   "outputs": [
    {
     "data": {
      "text/plain": [
       "Ellipsis"
      ]
     },
     "execution_count": 128,
     "metadata": {},
     "output_type": "execute_result"
    }
   ],
   "source": [
    "# Etape 3 : Tracer les courbes de densité des variables REPORTING et MARKET sur le même graphe\n",
    "# Pour cela, utiliser la fonction kdeplot du package seaborn\n",
    "..."
   ]
  },
  {
   "cell_type": "code",
   "execution_count": 129,
   "metadata": {},
   "outputs": [
    {
     "data": {
      "text/plain": [
       "Ellipsis"
      ]
     },
     "execution_count": 129,
     "metadata": {},
     "output_type": "execute_result"
    }
   ],
   "source": [
    "# Etape 4 : Afficher la correlation entre les variable REPORTING et MARKET\n",
    "# Pour cela, utiliser la fonction corrcoef du package numpy\n",
    "..."
   ]
  },
  {
   "cell_type": "markdown",
   "metadata": {},
   "source": [
    "##### Variables qualitatives"
   ]
  },
  {
   "cell_type": "code",
   "execution_count": 130,
   "metadata": {},
   "outputs": [
    {
     "data": {
      "text/plain": [
       "Ellipsis"
      ]
     },
     "execution_count": 130,
     "metadata": {},
     "output_type": "execute_result"
    }
   ],
   "source": [
    "# Etape 1 : Afficher le table de contingence entre les variable TOP et SEG.VALEUR\n",
    "# Pour cela, utiliser la fonction crosstab du package pandas\n",
    "..."
   ]
  },
  {
   "cell_type": "markdown",
   "metadata": {},
   "source": [
    "##### Variables quantitative et qualitative"
   ]
  },
  {
   "cell_type": "code",
   "execution_count": 131,
   "metadata": {},
   "outputs": [
    {
     "data": {
      "text/plain": [
       "Ellipsis"
      ]
     },
     "execution_count": 131,
     "metadata": {},
     "output_type": "execute_result"
    }
   ],
   "source": [
    "# Afficher un boxplot de l'ANCIENNETE pour chaque segement de SEG.VALEUR\n",
    "# Pour cela, utiliser la fonction boxplot du package seaborn\n",
    "..."
   ]
  },
  {
   "cell_type": "markdown",
   "metadata": {},
   "source": [
    "#### <a name=\"sect233\"></a> 2.3.3. Profilage\n",
    "##### Etude de profil selon la moyenne"
   ]
  },
  {
   "cell_type": "code",
   "execution_count": 132,
   "metadata": {},
   "outputs": [
    {
     "data": {
      "text/plain": [
       "Ellipsis"
      ]
     },
     "execution_count": 132,
     "metadata": {},
     "output_type": "execute_result"
    }
   ],
   "source": [
    "# Etape 1 : Créer un nouvel objet VarKeep contenant la liste des variables à étudier :\n",
    "# \"AGE\",\"TOP\",\"ANCIENNETE\",\"REPORTING\",\"SAS\",\"TEXTM\", \"MARKET\",\"CADRAGE\",\"NPROJET\",\"ML\"\n",
    "..."
   ]
  },
  {
   "cell_type": "code",
   "execution_count": 133,
   "metadata": {},
   "outputs": [],
   "source": [
    "# Etape 2 : Créer un dataframe m qui contient la moyenne de chaque variable pour chaque segment (SEG.VALEUR)\n",
    "..."
   ]
  },
  {
   "cell_type": "code",
   "execution_count": 134,
   "metadata": {},
   "outputs": [],
   "source": [
    "# Afficher m\n",
    "..."
   ]
  },
  {
   "cell_type": "markdown",
   "metadata": {},
   "source": [
    "##### Etude de profil selon les effectifs"
   ]
  },
  {
   "cell_type": "code",
   "execution_count": 135,
   "metadata": {},
   "outputs": [],
   "source": [
    "# Etape 3 : Créer un dataframe eff qui contient la taille de chaque segment (SEG.VALEUR)\n",
    "..."
   ]
  },
  {
   "cell_type": "code",
   "execution_count": 136,
   "metadata": {},
   "outputs": [],
   "source": [
    "# Etape 4 : Renommer la variable ID en Eff\n",
    "..."
   ]
  },
  {
   "cell_type": "code",
   "execution_count": 137,
   "metadata": {},
   "outputs": [],
   "source": [
    "# Afficher eff\n",
    "..."
   ]
  },
  {
   "cell_type": "markdown",
   "metadata": {},
   "source": [
    "##### Regroupement des moyennes et de l'effectif"
   ]
  },
  {
   "cell_type": "code",
   "execution_count": 138,
   "metadata": {},
   "outputs": [],
   "source": [
    "# Etape 1 : Faire une jointure entre m et eff\n",
    "..."
   ]
  },
  {
   "cell_type": "markdown",
   "metadata": {},
   "source": [
    "On aurait également pu faire tout ça en une seule fois sans faire de merge. Pour cela, on utilise la méthode agg "
   ]
  },
  {
   "cell_type": "code",
   "execution_count": 139,
   "metadata": {},
   "outputs": [
    {
     "data": {
      "text/plain": [
       "Ellipsis"
      ]
     },
     "execution_count": 139,
     "metadata": {},
     "output_type": "execute_result"
    }
   ],
   "source": [
    "..."
   ]
  }
 ],
 "metadata": {
  "kernelspec": {
   "display_name": "Python 3",
   "language": "python",
   "name": "python3"
  },
  "language_info": {
   "codemirror_mode": {
    "name": "ipython",
    "version": 3
   },
   "file_extension": ".py",
   "mimetype": "text/x-python",
   "name": "python",
   "nbconvert_exporter": "python",
   "pygments_lexer": "ipython3",
   "version": "3.6.4"
  }
 },
 "nbformat": 4,
 "nbformat_minor": 2
}
